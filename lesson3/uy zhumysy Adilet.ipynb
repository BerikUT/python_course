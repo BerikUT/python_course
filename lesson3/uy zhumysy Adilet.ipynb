{
 "cells": [
  {
   "cell_type": "code",
   "execution_count": null,
   "id": "0f77c582-0f0a-4fb0-a88f-335550403056",
   "metadata": {},
   "outputs": [],
   "source": []
  },
  {
   "cell_type": "code",
   "execution_count": 17,
   "id": "b02c37c0-b4d5-4987-9f94-7566312dcc98",
   "metadata": {},
   "outputs": [
    {
     "name": "stdout",
     "output_type": "stream",
     "text": [
      "1\n",
      "2\n",
      "3\n",
      "4\n",
      "5\n",
      "6\n",
      "7\n",
      "8\n",
      "9\n",
      "10\n"
     ]
    }
   ],
   "source": [
    "i = 1\n",
    "while i <= 10:\n",
    "    print(i)\n",
    "    i= i + 1\n",
    "\n"
   ]
  },
  {
   "cell_type": "code",
   "execution_count": 19,
   "id": "a3788581-9f74-4908-95c7-11308536cc75",
   "metadata": {},
   "outputs": [
    {
     "name": "stdin",
     "output_type": "stream",
     "text": [
      " Adilet\n"
     ]
    },
    {
     "name": "stdout",
     "output_type": "stream",
     "text": [
      "Adilet\n",
      "Adilet\n",
      "Adilet\n",
      "Adilet\n",
      "Adilet\n",
      "Adilet\n",
      "Adilet\n",
      "Adilet\n",
      "Adilet\n",
      "Adilet\n",
      "Adilet\n",
      "Adilet\n",
      "Adilet\n",
      "Adilet\n",
      "Adilet\n",
      "Adilet\n",
      "Adilet\n",
      "Adilet\n",
      "Adilet\n",
      "Adilet\n",
      "Adilet\n",
      "Adilet\n",
      "Adilet\n",
      "Adilet\n",
      "Adilet\n",
      "Adilet\n",
      "Adilet\n",
      "Adilet\n",
      "Adilet\n",
      "Adilet\n",
      "Adilet\n",
      "Adilet\n",
      "Adilet\n",
      "Adilet\n",
      "Adilet\n",
      "Adilet\n",
      "Adilet\n",
      "Adilet\n",
      "Adilet\n",
      "Adilet\n",
      "Adilet\n",
      "Adilet\n",
      "Adilet\n",
      "Adilet\n",
      "Adilet\n",
      "Adilet\n",
      "Adilet\n",
      "Adilet\n",
      "Adilet\n",
      "Adilet\n",
      "Adilet\n",
      "Adilet\n",
      "Adilet\n",
      "Adilet\n",
      "Adilet\n",
      "Adilet\n",
      "Adilet\n",
      "Adilet\n",
      "Adilet\n",
      "Adilet\n",
      "Adilet\n",
      "Adilet\n",
      "Adilet\n",
      "Adilet\n",
      "Adilet\n",
      "Adilet\n",
      "Adilet\n",
      "Adilet\n",
      "Adilet\n",
      "Adilet\n",
      "Adilet\n",
      "Adilet\n",
      "Adilet\n",
      "Adilet\n",
      "Adilet\n",
      "Adilet\n",
      "Adilet\n",
      "Adilet\n",
      "Adilet\n",
      "Adilet\n",
      "Adilet\n",
      "Adilet\n",
      "Adilet\n",
      "Adilet\n",
      "Adilet\n",
      "Adilet\n",
      "Adilet\n",
      "Adilet\n",
      "Adilet\n",
      "Adilet\n",
      "Adilet\n",
      "Adilet\n",
      "Adilet\n",
      "Adilet\n",
      "Adilet\n",
      "Adilet\n",
      "Adilet\n",
      "Adilet\n",
      "Adilet\n",
      "Adilet\n"
     ]
    }
   ],
   "source": [
    "name = input()\n",
    "for i in range(100):\n",
    "    print(name)\n"
   ]
  },
  {
   "cell_type": "code",
   "execution_count": 23,
   "id": "2db5bb41-078e-421b-b540-a13e64a5cf35",
   "metadata": {},
   "outputs": [
    {
     "name": "stdout",
     "output_type": "stream",
     "text": [
      "[2, 4, 6, 8, 10, 12, 14, 16, 18, 20, 22, 24, 26, 28, 30, 32, 34, 36, 38, 40, 42, 44, 46, 48, 50, 52, 54, 56, 58, 60, 62, 64, 66, 68, 70, 72, 74, 76, 78, 80, 82, 84, 86, 88, 90, 92, 94, 96, 98]\n"
     ]
    }
   ],
   "source": [
    "san_list = []\n",
    "x = 1\n",
    "for i in range(100):\n",
    "    san_list.append(x)\n",
    "    x = x +1\n",
    "\n",
    "print(san_list[1:98:2])\n",
    "    \n",
    "\n"
   ]
  },
  {
   "cell_type": "code",
   "execution_count": 25,
   "id": "0789afbf-cc52-4ac2-9627-79044a341e2d",
   "metadata": {},
   "outputs": [
    {
     "name": "stdout",
     "output_type": "stream",
     "text": [
      "[1, 3, 5, 7, 9, 11, 13, 15, 17, 19, 21, 23, 25, 27, 29, 31, 33, 35, 37, 39, 41, 43, 45, 47, 49, 51, 53, 55, 57, 59, 61, 63, 65, 67, 69, 71, 73, 75, 77, 79, 81, 83, 85, 87, 89, 91, 93, 95, 97, 99]\n"
     ]
    }
   ],
   "source": [
    "san_list = []\n",
    "x = 1\n",
    "for i in range(100):\n",
    "    san_list.append(x)\n",
    "    x = x +1\n",
    "\n",
    "print(san_list[0:99:2])\n",
    "    "
   ]
  },
  {
   "cell_type": "code",
   "execution_count": 27,
   "id": "15b0e18e-9b39-4e04-8a9c-017553ddcd52",
   "metadata": {},
   "outputs": [
    {
     "name": "stdout",
     "output_type": "stream",
     "text": [
      "san engiz: \n"
     ]
    },
    {
     "name": "stdin",
     "output_type": "stream",
     "text": [
      " 5\n"
     ]
    },
    {
     "name": "stdout",
     "output_type": "stream",
     "text": [
      "5\n",
      "5\n",
      "5\n",
      "5\n",
      "5\n",
      "5\n",
      "5\n",
      "5\n",
      "5\n",
      "5\n",
      "5\n",
      "5\n",
      "5\n",
      "5\n",
      "5\n",
      "5\n",
      "5\n",
      "5\n",
      "5\n",
      "5\n",
      "5\n",
      "5\n",
      "5\n",
      "5\n",
      "5\n",
      "5\n",
      "5\n",
      "5\n",
      "5\n",
      "5\n",
      "5\n",
      "5\n",
      "5\n",
      "5\n",
      "5\n",
      "5\n",
      "5\n",
      "5\n",
      "5\n",
      "5\n",
      "5\n",
      "5\n",
      "5\n",
      "5\n",
      "5\n",
      "5\n",
      "5\n",
      "5\n",
      "5\n",
      "5\n",
      "5\n",
      "5\n",
      "5\n",
      "5\n",
      "5\n",
      "5\n",
      "5\n",
      "5\n",
      "5\n",
      "5\n",
      "5\n",
      "5\n",
      "5\n",
      "5\n",
      "5\n",
      "5\n",
      "5\n",
      "5\n",
      "5\n",
      "5\n",
      "5\n",
      "5\n",
      "5\n",
      "5\n",
      "5\n",
      "5\n",
      "5\n",
      "5\n",
      "5\n",
      "5\n",
      "5\n",
      "5\n",
      "5\n",
      "5\n",
      "5\n",
      "5\n",
      "5\n",
      "5\n",
      "5\n",
      "5\n",
      "5\n",
      "5\n",
      "5\n",
      "5\n",
      "5\n",
      "5\n",
      "5\n",
      "5\n",
      "5\n",
      "5\n"
     ]
    }
   ],
   "source": [
    "print(\"san engiz: \")\n",
    "user_san = int(input())\n",
    "for i in range(100):\n",
    "    print(user_san)\n",
    " "
   ]
  },
  {
   "cell_type": "code",
   "execution_count": null,
   "id": "738b072d-2a36-4e69-8110-f4526504002c",
   "metadata": {},
   "outputs": [],
   "source": []
  }
 ],
 "metadata": {
  "kernelspec": {
   "display_name": "Python 3 (ipykernel)",
   "language": "python",
   "name": "python3"
  },
  "language_info": {
   "codemirror_mode": {
    "name": "ipython",
    "version": 3
   },
   "file_extension": ".py",
   "mimetype": "text/x-python",
   "name": "python",
   "nbconvert_exporter": "python",
   "pygments_lexer": "ipython3",
   "version": "3.12.4"
  }
 },
 "nbformat": 4,
 "nbformat_minor": 5
}
