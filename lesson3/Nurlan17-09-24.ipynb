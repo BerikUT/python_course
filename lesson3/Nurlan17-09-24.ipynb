{
 "cells": [
  {
   "cell_type": "code",
   "execution_count": 18,
   "id": "34330267-2eae-4e11-80b5-551079f82b9c",
   "metadata": {},
   "outputs": [
    {
     "name": "stdin",
     "output_type": "stream",
     "text": [
      "Сан енгізіңіз 2\n",
      "Сан енгізіңіз 4\n"
     ]
    },
    {
     "name": "stdout",
     "output_type": "stream",
     "text": [
      "6\n"
     ]
    }
   ],
   "source": [
    "user_input = input('Сан енгізіңіз')\n",
    "number_1 = int(user_input)\n",
    "user_input2 = input('Сан енгізіңіз')\n",
    "number_2 = int(user_input2)\n",
    "print (number_1 + number_2)"
   ]
  },
  {
   "cell_type": "code",
   "execution_count": 22,
   "id": "c81c0734-4eb8-4939-91cd-2d8b5ce49265",
   "metadata": {},
   "outputs": [
    {
     "name": "stdin",
     "output_type": "stream",
     "text": [
      " 5\n"
     ]
    },
    {
     "name": "stdout",
     "output_type": "stream",
     "text": [
      "Май\n"
     ]
    }
   ],
   "source": [
    "Ailar = ['Янв',\n",
    "        'Фев',\n",
    "        'Март',\n",
    "         'Апр',\n",
    "         'Май',\n",
    "         'Июнь',\n",
    "         'Июль',\n",
    "         'Авг',\n",
    "         'Сен',\n",
    "         'Окт',\n",
    "         'Ноя',\n",
    "         'Дек',]\n",
    "user_input = int(input())\n",
    "print (Ailar[user_input-1])"
   ]
  },
  {
   "cell_type": "code",
   "execution_count": 9,
   "id": "c90c3075-01b4-4451-bd98-a9ad3ee6fbbb",
   "metadata": {},
   "outputs": [
    {
     "name": "stdin",
     "output_type": "stream",
     "text": [
      "Сан енгізіңіз: 4\n"
     ]
    },
    {
     "name": "stdout",
     "output_type": "stream",
     "text": [
      "0\n",
      "[4]\n"
     ]
    },
    {
     "name": "stdin",
     "output_type": "stream",
     "text": [
      "Сан енгізіңіз: 5\n"
     ]
    },
    {
     "name": "stdout",
     "output_type": "stream",
     "text": [
      "1\n",
      "[4, 5]\n"
     ]
    },
    {
     "name": "stdin",
     "output_type": "stream",
     "text": [
      "Сан енгізіңіз: 6\n"
     ]
    },
    {
     "name": "stdout",
     "output_type": "stream",
     "text": [
      "2\n",
      "[4, 5, 6]\n"
     ]
    },
    {
     "name": "stdin",
     "output_type": "stream",
     "text": [
      "Сан енгізіңіз: 7\n"
     ]
    },
    {
     "name": "stdout",
     "output_type": "stream",
     "text": [
      "3\n",
      "[4, 5, 6, 7]\n"
     ]
    },
    {
     "name": "stdin",
     "output_type": "stream",
     "text": [
      "Сан енгізіңіз: 8\n"
     ]
    },
    {
     "name": "stdout",
     "output_type": "stream",
     "text": [
      "4\n",
      "[4, 5, 6, 7, 8]\n"
     ]
    }
   ],
   "source": [
    "korzina = []\n",
    "i = 0\n",
    "while i < 5:    \n",
    "    korzina.append(int(input('Сан енгізіңіз:')))\n",
    "    print(i)\n",
    "    i+=1\n",
    "    print(korzina)"
   ]
  },
  {
   "cell_type": "code",
   "execution_count": null,
   "id": "d043671f-42b9-49ff-9b64-40af3e5a9b8e",
   "metadata": {},
   "outputs": [],
   "source": []
  },
  {
   "cell_type": "code",
   "execution_count": 9,
   "id": "3f8e51f8-7b66-4c6f-b483-444ce02941cc",
   "metadata": {},
   "outputs": [
    {
     "name": "stdin",
     "output_type": "stream",
     "text": [
      "Сан енгізіңіз: 4\n"
     ]
    },
    {
     "name": "stdout",
     "output_type": "stream",
     "text": [
      "0\n",
      "[4]\n"
     ]
    },
    {
     "name": "stdin",
     "output_type": "stream",
     "text": [
      "Сан енгізіңіз: 5\n"
     ]
    },
    {
     "name": "stdout",
     "output_type": "stream",
     "text": [
      "1\n",
      "[4, 5]\n"
     ]
    },
    {
     "name": "stdin",
     "output_type": "stream",
     "text": [
      "Сан енгізіңіз: 6\n"
     ]
    },
    {
     "name": "stdout",
     "output_type": "stream",
     "text": [
      "2\n",
      "[4, 5, 6]\n"
     ]
    },
    {
     "name": "stdin",
     "output_type": "stream",
     "text": [
      "Сан енгізіңіз: 7\n"
     ]
    },
    {
     "name": "stdout",
     "output_type": "stream",
     "text": [
      "3\n",
      "[4, 5, 6, 7]\n"
     ]
    },
    {
     "name": "stdin",
     "output_type": "stream",
     "text": [
      "Сан енгізіңіз: 8\n"
     ]
    },
    {
     "name": "stdout",
     "output_type": "stream",
     "text": [
      "4\n",
      "[4, 5, 6, 7, 8]\n"
     ]
    }
   ],
   "source": [
    "korzina = []\n",
    "i = 0\n",
    "while i < 5:    \n",
    "    korzina.append(int(input('Сан енгізіңіз:')))\n",
    "    print(i)\n",
    "    i+=1\n",
    "    print(korzina)"
   ]
  }
 ],
 "metadata": {
  "kernelspec": {
   "display_name": "Python 3 (ipykernel)",
   "language": "python",
   "name": "python3"
  },
  "language_info": {
   "codemirror_mode": {
    "name": "ipython",
    "version": 3
   },
   "file_extension": ".py",
   "mimetype": "text/x-python",
   "name": "python",
   "nbconvert_exporter": "python",
   "pygments_lexer": "ipython3",
   "version": "3.12.4"
  }
 },
 "nbformat": 4,
 "nbformat_minor": 5
}
