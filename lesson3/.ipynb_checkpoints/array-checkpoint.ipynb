{
 "cells": [
  {
   "cell_type": "code",
   "execution_count": 3,
   "id": "0f4ae0d3-6063-4ea2-b810-3ed9a92e1348",
   "metadata": {},
   "outputs": [
    {
     "name": "stdout",
     "output_type": "stream",
     "text": [
      "Hello World\n"
     ]
    }
   ],
   "source": [
    "print('Hello World')"
   ]
  },
  {
   "cell_type": "code",
   "execution_count": 5,
   "id": "7b23951b-0a0e-4bfa-b49b-a6d6a67a9e92",
   "metadata": {},
   "outputs": [
    {
     "name": "stdout",
     "output_type": "stream",
     "text": [
      "-6.0\n"
     ]
    }
   ],
   "source": [
    "print(5 + 3 - 7 / 2 * 4)"
   ]
  },
  {
   "cell_type": "code",
   "execution_count": 7,
   "id": "8df7bbc1-35a2-4541-b11c-3d0550836e9d",
   "metadata": {},
   "outputs": [
    {
     "name": "stdout",
     "output_type": "stream",
     "text": [
      "true\n"
     ]
    }
   ],
   "source": [
    "if (True):\n",
    "    print('true')\n",
    "else:\n",
    "    print('false')"
   ]
  },
  {
   "cell_type": "code",
   "execution_count": 25,
   "id": "52ea567b-ef18-41fb-8ee1-c408161ff2cc",
   "metadata": {},
   "outputs": [
    {
     "name": "stdout",
     "output_type": "stream",
     "text": [
      "natije\n",
      "ten\n"
     ]
    }
   ],
   "source": [
    "san = 5\n",
    "if (san > 5):\n",
    "    print('5ten ulken')\n",
    "elif (san < 5):\n",
    "    print('kishi')\n",
    "else:\n",
    "    print('natije:')\n",
    "    print('ten')"
   ]
  },
  {
   "cell_type": "code",
   "execution_count": 27,
   "id": "dae6182e-12ce-46aa-a6ad-2e169305f374",
   "metadata": {},
   "outputs": [
    {
     "name": "stdin",
     "output_type": "stream",
     "text": [
      "1 san engiziniz:  5\n",
      "2 san engiziniz:  5\n"
     ]
    },
    {
     "name": "stdout",
     "output_type": "stream",
     "text": [
      "10\n"
     ]
    }
   ],
   "source": [
    "san_1 = int(input('1 san engiziniz: '))\n",
    "san_2 = int(input('2 san engiziniz: '))\n",
    "#natije = san_1 + san_2\n",
    "#print(natije)\n",
    "print(san_1+san_2)"
   ]
  },
  {
   "cell_type": "code",
   "execution_count": 38,
   "id": "f2a3fa36-22e5-4e4a-8eab-2ceeccd88003",
   "metadata": {},
   "outputs": [
    {
     "name": "stdin",
     "output_type": "stream",
     "text": [
      " 5\n"
     ]
    },
    {
     "name": "stdout",
     "output_type": "stream",
     "text": [
      "mausym\n"
     ]
    }
   ],
   "source": [
    "ailar = ['qantar', 'aqpan', 'nauryz', 'sauir', 'mausym', 'mamyr', 'tamyz', 'qyryqkuyek', 'qazan', 'qarasha', 'jeltoqsan']\n",
    "ay = int(input())-1\n",
    "print(ailar[ay])"
   ]
  },
  {
   "cell_type": "code",
   "execution_count": 43,
   "id": "5b2f750e-b329-4965-b4c8-367f8dbe3853",
   "metadata": {},
   "outputs": [
    {
     "name": "stdin",
     "output_type": "stream",
     "text": [
      "san engiziniz:  5\n",
      "san engiziniz:  6\n",
      "san engiziniz:  7\n",
      "san engiziniz:  9\n",
      "san engiziniz:  1\n",
      "san engiziniz:  0\n",
      "san engiziniz:  8\n",
      "san engiziniz:  9\n",
      "san engiziniz:  2\n",
      "san engiziniz:  9\n"
     ]
    },
    {
     "name": "stdout",
     "output_type": "stream",
     "text": [
      "[5, 6, 7, 9, 1, 0, 8, 9, 2, 9]\n"
     ]
    }
   ],
   "source": [
    "kor = []\n",
    "i = 0\n",
    "while i < 10:\n",
    "    kor.append(int(input('san engiziniz: ')))\n",
    "    i +=1\n",
    "print(kor)"
   ]
  },
  {
   "cell_type": "code",
   "execution_count": 3,
   "id": "f9567239-caf9-46cc-a69a-97fadee2905f",
   "metadata": {},
   "outputs": [
    {
     "name": "stdin",
     "output_type": "stream",
     "text": [
      "san engiziniz:  0\n",
      "san engiziniz:  1\n",
      "san engiziniz:  2\n",
      "san engiziniz:  3\n",
      "san engiziniz:  4\n",
      "san engiziniz:  5\n",
      "san engiziniz:  6\n",
      "san engiziniz:  7\n",
      "san engiziniz:  8\n",
      "san engiziniz:  9\n"
     ]
    },
    {
     "name": "stdout",
     "output_type": "stream",
     "text": [
      "[0, 1, 2, 3, 4, 5, 6, 7, 8, 9]\n"
     ]
    }
   ],
   "source": [
    "array = []\n",
    "for _ in range(10):\n",
    "    array.append(int(input('san engiziniz: ')))\n",
    "print(array)"
   ]
  },
  {
   "cell_type": "code",
   "execution_count": null,
   "id": "604ce43c-2121-4412-ad80-b19bebc4cc22",
   "metadata": {},
   "outputs": [],
   "source": []
  }
 ],
 "metadata": {
  "kernelspec": {
   "display_name": "Python 3 (ipykernel)",
   "language": "python",
   "name": "python3"
  },
  "language_info": {
   "codemirror_mode": {
    "name": "ipython",
    "version": 3
   },
   "file_extension": ".py",
   "mimetype": "text/x-python",
   "name": "python",
   "nbconvert_exporter": "python",
   "pygments_lexer": "ipython3",
   "version": "3.12.4"
  }
 },
 "nbformat": 4,
 "nbformat_minor": 5
}
