{
 "cells": [
  {
   "cell_type": "code",
   "execution_count": 1,
   "id": "c52c2dbe-53af-4090-bd15-c84c2b154dec",
   "metadata": {},
   "outputs": [
    {
     "name": "stdout",
     "output_type": "stream",
     "text": [
      "1\n",
      "2\n",
      "3\n",
      "4\n",
      "5\n",
      "6\n",
      "7\n",
      "8\n",
      "9\n",
      "10\n"
     ]
    }
   ],
   "source": [
    "for i in range(1, 11): #for qoldanyp 1 den 10 deyin san shygaru\n",
    "  print(i)"
   ]
  },
  {
   "cell_type": "code",
   "execution_count": 3,
   "id": "bf4c1106-bb63-4c68-9f97-fb6ad6ba8142",
   "metadata": {},
   "outputs": [
    {
     "name": "stdout",
     "output_type": "stream",
     "text": [
      "1\n",
      "2\n",
      "3\n",
      "4\n",
      "5\n",
      "6\n",
      "7\n",
      "8\n",
      "9\n",
      "10\n"
     ]
    }
   ],
   "source": [
    "i = 1\n",
    "while i < 11: #while qoldanyp 1 den 10 deyin san shygaru\n",
    "  print(i)\n",
    "  i = i + 1"
   ]
  },
  {
   "cell_type": "code",
   "execution_count": 5,
   "id": "c0e45901-b2b0-4019-ab2f-ab58b1eff602",
   "metadata": {},
   "outputs": [
    {
     "name": "stdout",
     "output_type": "stream",
     "text": [
      "Berik\n",
      "Berik\n",
      "Berik\n",
      "Berik\n",
      "Berik\n",
      "Berik\n",
      "Berik\n",
      "Berik\n",
      "Berik\n",
      "Berik\n"
     ]
    }
   ],
   "source": [
    "name = 'Berik'\n",
    "for str in range(10): #100 ret kaitalanuy tym kop sekildi)\n",
    "    print(name)"
   ]
  },
  {
   "cell_type": "code",
   "execution_count": 7,
   "id": "9f96c48e-e436-4928-838b-fe53601611f8",
   "metadata": {},
   "outputs": [
    {
     "name": "stdout",
     "output_type": "stream",
     "text": [
      "Berik\n",
      "Berik\n",
      "Berik\n",
      "Berik\n",
      "Berik\n",
      "Berik\n",
      "Berik\n",
      "Berik\n",
      "Berik\n",
      "Berik\n"
     ]
    }
   ],
   "source": [
    "x = 0\n",
    "while x < 10: #100 ret kaitalanuy tym kop sekildi)\n",
    "    print('Berik')\n",
    "    x = x + 1"
   ]
  },
  {
   "cell_type": "code",
   "execution_count": 9,
   "id": "5bef8f6f-0ad1-43b0-a79f-4f48db69532e",
   "metadata": {},
   "outputs": [
    {
     "name": "stdout",
     "output_type": "stream",
     "text": [
      "2\n",
      "4\n",
      "6\n",
      "8\n",
      "10\n",
      "12\n",
      "14\n",
      "16\n",
      "18\n",
      "20\n",
      "22\n",
      "24\n",
      "26\n",
      "28\n",
      "30\n",
      "32\n",
      "34\n",
      "36\n",
      "38\n",
      "40\n"
     ]
    }
   ],
   "source": [
    "for i in range(2, 41, 2): #jup sandaryn tek 40-qa deyin apardym\n",
    "    print(i)"
   ]
  },
  {
   "cell_type": "code",
   "execution_count": 11,
   "id": "3cc8770b-1aa5-4b15-b38f-7042a7d435f2",
   "metadata": {},
   "outputs": [
    {
     "name": "stdout",
     "output_type": "stream",
     "text": [
      "2\n",
      "4\n",
      "6\n",
      "8\n",
      "10\n",
      "12\n",
      "14\n",
      "16\n",
      "18\n",
      "20\n",
      "22\n",
      "24\n",
      "26\n",
      "28\n",
      "30\n",
      "32\n",
      "34\n",
      "36\n",
      "38\n",
      "40\n"
     ]
    }
   ],
   "source": [
    "i = 2\n",
    "while i <= 40: #jup sandaryn tek 40-qa deyin apardym\n",
    "    print(i)\n",
    "    i = i + 2"
   ]
  },
  {
   "cell_type": "code",
   "execution_count": 13,
   "id": "c0e99a58-7149-40d2-a48e-cb7d31115c85",
   "metadata": {},
   "outputs": [
    {
     "name": "stdout",
     "output_type": "stream",
     "text": [
      "1\n",
      "3\n",
      "5\n",
      "7\n",
      "9\n",
      "11\n",
      "13\n",
      "15\n",
      "17\n",
      "19\n",
      "21\n",
      "23\n",
      "25\n",
      "27\n",
      "29\n",
      "31\n",
      "33\n",
      "35\n",
      "37\n",
      "39\n"
     ]
    }
   ],
   "source": [
    "for i in range(1, 40, 2): #taq sandardy tek 40-qa deyin apardym\n",
    "    print(i)"
   ]
  },
  {
   "cell_type": "code",
   "execution_count": 15,
   "id": "d2b65c58-a0bc-4034-80f0-6e0447cfc3fa",
   "metadata": {},
   "outputs": [
    {
     "name": "stdout",
     "output_type": "stream",
     "text": [
      "1\n",
      "3\n",
      "5\n",
      "7\n",
      "9\n",
      "11\n",
      "13\n",
      "15\n",
      "17\n",
      "19\n",
      "21\n",
      "23\n",
      "25\n",
      "27\n",
      "29\n",
      "31\n",
      "33\n",
      "35\n",
      "37\n",
      "39\n"
     ]
    }
   ],
   "source": [
    "i = 1\n",
    "while i <= 40: #taq sandardy tek 40-qa deyin apardym\n",
    "    print(i)\n",
    "    i = i + 2 #i += 2"
   ]
  },
  {
   "cell_type": "code",
   "execution_count": 19,
   "id": "228107e2-f209-4ec9-89d9-1353ca0e568f",
   "metadata": {},
   "outputs": [
    {
     "name": "stdin",
     "output_type": "stream",
     "text": [
      "San engiziniz:  3\n",
      "San neshe ret qaytalanuy kerek:  8\n"
     ]
    },
    {
     "name": "stdout",
     "output_type": "stream",
     "text": [
      "3\n",
      "3\n",
      "3\n",
      "3\n",
      "3\n",
      "3\n",
      "3\n",
      "3\n"
     ]
    }
   ],
   "source": [
    "number = input(\"San engiziniz: \")\n",
    "qaytalanu = int(input('San neshe ret qaytalanuy kerek: ')) #mysaly 100 ret\n",
    "for n in range(qaytalanu):\n",
    "    print(number)"
   ]
  },
  {
   "cell_type": "code",
   "execution_count": null,
   "id": "ebb9796a-ed41-4c05-b513-8e909ce30f64",
   "metadata": {},
   "outputs": [],
   "source": []
  }
 ],
 "metadata": {
  "kernelspec": {
   "display_name": "Python 3 (ipykernel)",
   "language": "python",
   "name": "python3"
  },
  "language_info": {
   "codemirror_mode": {
    "name": "ipython",
    "version": 3
   },
   "file_extension": ".py",
   "mimetype": "text/x-python",
   "name": "python",
   "nbconvert_exporter": "python",
   "pygments_lexer": "ipython3",
   "version": "3.12.4"
  }
 },
 "nbformat": 4,
 "nbformat_minor": 5
}
