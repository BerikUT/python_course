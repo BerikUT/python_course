{
 "cells": [
  {
   "cell_type": "code",
   "execution_count": 1,
   "id": "952fa110-e0f1-46d4-9a5f-a967fc079b19",
   "metadata": {},
   "outputs": [
    {
     "name": "stdin",
     "output_type": "stream",
     "text": [
      "Жыл енгізіңіз:  1981\n"
     ]
    },
    {
     "name": "stdout",
     "output_type": "stream",
     "text": [
      "1981  - кібісе емес\n"
     ]
    }
   ],
   "source": [
    "year = int(input(\"Жыл енгізіңіз: \"))\n",
    "if 0 < year < 1582:\n",
    "    print(\"«Кібісе жыл» ұғымы 1582 жылы ғана енгізілді\")\n",
    "elif year <= 0:\n",
    "     print(\"қате\")\n",
    "elif year % 4 == 0:\n",
    "    if year <= 2024: \n",
    "        print(year, \"- кібісе болды\")\n",
    "    else:\n",
    "        print(year, \"- кібісе болады\")\n",
    "else:\n",
    "    print(year, \" - кібісе емес\")"
   ]
  },
  {
   "cell_type": "code",
   "execution_count": 3,
   "id": "2980cac0-b6b7-44ad-a073-a5a0a233b0cf",
   "metadata": {},
   "outputs": [
    {
     "name": "stdin",
     "output_type": "stream",
     "text": [
      "Сан енгізіңіз:  5\n"
     ]
    },
    {
     "name": "stdout",
     "output_type": "stream",
     "text": [
      "25\n"
     ]
    }
   ],
   "source": [
    "print(int(input(\"Сан енгізіңіз: \"))**2)"
   ]
  },
  {
   "cell_type": "code",
   "execution_count": 5,
   "id": "38ab1cc9-23f6-476b-85e9-fbcf7f9650d8",
   "metadata": {},
   "outputs": [
    {
     "name": "stdin",
     "output_type": "stream",
     "text": [
      "Екі сан енгізіңіз(пробелмен бөліңіз):  22 22\n"
     ]
    },
    {
     "name": "stdout",
     "output_type": "stream",
     "text": [
      "22 ^ 22 = 341427877364219557396646723584\n"
     ]
    }
   ],
   "source": [
    "x, y = map(int,input(\"Екі сан енгізіңіз(пробелмен бөліңіз): \").split())\n",
    "print( x, \"^\", y, \"=\", x**y)"
   ]
  },
  {
   "cell_type": "code",
   "execution_count": null,
   "id": "41b31f56-a2a7-402c-af73-61bd633bdb65",
   "metadata": {},
   "outputs": [],
   "source": []
  }
 ],
 "metadata": {
  "kernelspec": {
   "display_name": "Python 3 (ipykernel)",
   "language": "python",
   "name": "python3"
  },
  "language_info": {
   "codemirror_mode": {
    "name": "ipython",
    "version": 3
   },
   "file_extension": ".py",
   "mimetype": "text/x-python",
   "name": "python",
   "nbconvert_exporter": "python",
   "pygments_lexer": "ipython3",
   "version": "3.12.4"
  }
 },
 "nbformat": 4,
 "nbformat_minor": 5
}
