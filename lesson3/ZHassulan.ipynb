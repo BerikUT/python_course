{
 "cells": [
  {
   "cell_type": "code",
   "execution_count": 1,
   "id": "fdfdae93-ef8d-4042-8a2c-0b9ad5781a0c",
   "metadata": {},
   "outputs": [
    {
     "name": "stdout",
     "output_type": "stream",
     "text": [
      "main\n"
     ]
    }
   ],
   "source": [
    "print('main')"
   ]
  },
  {
   "cell_type": "code",
   "execution_count": 7,
   "id": "03fab330-2dc9-4fad-8619-38905c1309d3",
   "metadata": {},
   "outputs": [
    {
     "name": "stdout",
     "output_type": "stream",
     "text": [
      "hello world\n"
     ]
    }
   ],
   "source": [
    "print( 'hello world' )"
   ]
  },
  {
   "cell_type": "code",
   "execution_count": 9,
   "id": "b5b14221-b7c6-4bf1-b177-ac5cb93c7edf",
   "metadata": {},
   "outputs": [
    {
     "name": "stdout",
     "output_type": "stream",
     "text": [
      "25\n"
     ]
    }
   ],
   "source": [
    "print( 5*5 )"
   ]
  },
  {
   "cell_type": "code",
   "execution_count": 11,
   "id": "94f65229-11fa-4d24-af29-935ef830d929",
   "metadata": {},
   "outputs": [
    {
     "name": "stdout",
     "output_type": "stream",
     "text": [
      "0\n"
     ]
    }
   ],
   "source": [
    "print ( 2-2 )"
   ]
  },
  {
   "cell_type": "code",
   "execution_count": 5,
   "id": "20dd8efb-1a07-44f5-9977-5a32b0a66614",
   "metadata": {},
   "outputs": [
    {
     "name": "stdin",
     "output_type": "stream",
     "text": [
      " 4\n",
      " 5\n"
     ]
    },
    {
     "name": "stdout",
     "output_type": "stream",
     "text": [
      "9\n",
      "Result\n"
     ]
    }
   ],
   "source": [
    "user_input = int(input()) # san aldynyz\n",
    "user_input2 = int(input()) # san aldynyz\n",
    "print(user_input + user_input2) # sandy shygaru"
   ]
  },
  {
   "cell_type": "code",
   "execution_count": 7,
   "id": "61136102-35e9-4dec-8c01-466319657334",
   "metadata": {},
   "outputs": [
    {
     "name": "stdin",
     "output_type": "stream",
     "text": [
      " 1 san 7\n",
      " 2 san  2\n"
     ]
    },
    {
     "name": "stdout",
     "output_type": "stream",
     "text": [
      "9\n"
     ]
    }
   ],
   "source": [
    "x= int(input( ' 1 san' )) \n",
    "y= int(input( ' 2 san '))\n",
    "print (x+y)"
   ]
  },
  {
   "cell_type": "code",
   "execution_count": 19,
   "id": "5fea640d-7c28-49e1-ab3c-a9098706a105",
   "metadata": {},
   "outputs": [
    {
     "name": "stdout",
     "output_type": "stream",
     "text": [
      "[1, 1, 1]\n"
     ]
    }
   ],
   "source": [
    "korzina = []\n",
    "korzina.append(1)\n",
    "korzina.append(1)\n",
    "korzina.append(1)\n",
    "print(korzina[::])"
   ]
  },
  {
   "cell_type": "code",
   "execution_count": 27,
   "id": "6d2f8cae-a9ea-4ca9-8278-bf93fb6a5ea6",
   "metadata": {},
   "outputs": [
    {
     "name": "stdin",
     "output_type": "stream",
     "text": [
      " 5\n",
      " 5\n",
      " 5\n",
      " 5\n",
      " 5\n",
      " 5\n",
      " 5\n",
      " 5\n",
      " 5\n",
      " 5\n"
     ]
    },
    {
     "name": "stdout",
     "output_type": "stream",
     "text": [
      "[5, 5, 5, 5, 5, 5, 5, 5, 5, 5]\n"
     ]
    }
   ],
   "source": [
    "korzina = []\n",
    "i = 0\n",
    "while i < 10:\n",
    "    user_input = int(input()) # san aldynyz\n",
    "    korzina.append(user_input)\n",
    "    i = i + 1\n",
    "print(korzina[::])"
   ]
  },
  {
   "cell_type": "code",
   "execution_count": 29,
   "id": "ea1e775a-826e-43d1-9341-6fc7c42e3c81",
   "metadata": {},
   "outputs": [
    {
     "name": "stdin",
     "output_type": "stream",
     "text": [
      "san engiz 1\n",
      "san engiz 1\n",
      "san engiz 1\n",
      "san engiz 1\n",
      "san engiz 1\n",
      "san engiz 11\n",
      "san engiz 1\n"
     ]
    },
    {
     "name": "stdout",
     "output_type": "stream",
     "text": [
      "[1, 1, 1, 1, 1, 11, 1]\n"
     ]
    }
   ],
   "source": [
    "korzina = []\n",
    "q = 0\n",
    "while q < 7:\n",
    "    korzina.append(int(input('san engiz')))\n",
    "    q += 1\n",
    "print(korzina)"
   ]
  },
  {
   "cell_type": "code",
   "execution_count": null,
   "id": "d5383ee1-ca5b-47b9-a64a-d9894ea777e2",
   "metadata": {},
   "outputs": [],
   "source": [
    "korzina = []\n",
    "for i in range (10)\n"
   ]
  }
 ],
 "metadata": {
  "kernelspec": {
   "display_name": "Python 3 (ipykernel)",
   "language": "python",
   "name": "python3"
  },
  "language_info": {
   "codemirror_mode": {
    "name": "ipython",
    "version": 3
   },
   "file_extension": ".py",
   "mimetype": "text/x-python",
   "name": "python",
   "nbconvert_exporter": "python",
   "pygments_lexer": "ipython3",
   "version": "3.12.4"
  }
 },
 "nbformat": 4,
 "nbformat_minor": 5
}
