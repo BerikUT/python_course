{
 "cells": [
  {
   "cell_type": "code",
   "execution_count": 7,
   "id": "f90b8362-b5cd-4986-a679-a853067458cf",
   "metadata": {},
   "outputs": [
    {
     "name": "stdout",
     "output_type": "stream",
     "text": [
      "1 2 3 4 5 6 7 8 9 10 "
     ]
    }
   ],
   "source": [
    "for i in range(1,11):\n",
    "    print(i, end = \" \" )"
   ]
  },
  {
   "cell_type": "code",
   "execution_count": 9,
   "id": "24e2732a-e53b-4049-be08-810d7cd57b3a",
   "metadata": {},
   "outputs": [
    {
     "name": "stdout",
     "output_type": "stream",
     "text": [
      "Камшат Камшат Камшат Камшат Камшат Камшат Камшат Камшат Камшат Камшат Камшат Камшат Камшат Камшат Камшат Камшат Камшат Камшат Камшат Камшат Камшат Камшат Камшат Камшат Камшат Камшат Камшат Камшат Камшат Камшат Камшат Камшат Камшат Камшат Камшат Камшат Камшат Камшат Камшат Камшат Камшат Камшат Камшат Камшат Камшат Камшат Камшат Камшат Камшат Камшат Камшат Камшат Камшат Камшат Камшат Камшат Камшат Камшат Камшат Камшат Камшат Камшат Камшат Камшат Камшат Камшат Камшат Камшат Камшат Камшат Камшат Камшат Камшат Камшат Камшат Камшат Камшат Камшат Камшат Камшат Камшат Камшат Камшат Камшат Камшат Камшат Камшат Камшат Камшат Камшат Камшат Камшат Камшат Камшат Камшат Камшат Камшат Камшат Камшат Камшат "
     ]
    }
   ],
   "source": [
    "for _ in range (100):\n",
    "    print (\"Камшат\", end = \" \")"
   ]
  },
  {
   "cell_type": "code",
   "execution_count": 11,
   "id": "dcdf278e-2996-4c38-b695-74702f690b0c",
   "metadata": {},
   "outputs": [
    {
     "name": "stdout",
     "output_type": "stream",
     "text": [
      "2 4 6 8 10 12 14 16 18 20 22 24 26 28 30 32 34 36 38 40 42 44 46 48 50 52 54 56 58 60 62 64 66 68 70 72 74 76 78 80 82 84 86 88 90 92 94 96 98 100 "
     ]
    }
   ],
   "source": [
    "for i in range ( 1, 101):\n",
    "    if i % 2 == 0:\n",
    "        print ( i, end = \" \")"
   ]
  },
  {
   "cell_type": "code",
   "execution_count": 13,
   "id": "0c4a6a56-431d-4644-bbca-ed8739b133e6",
   "metadata": {},
   "outputs": [
    {
     "name": "stdout",
     "output_type": "stream",
     "text": [
      "1 3 5 7 9 11 13 15 17 19 21 23 25 27 29 31 33 35 37 39 41 43 45 47 49 51 53 55 57 59 61 63 65 67 69 71 73 75 77 79 81 83 85 87 89 91 93 95 97 99 "
     ]
    }
   ],
   "source": [
    "for i in range ( 1, 101):\n",
    "    if i % 2 != 0:\n",
    "        print ( i, end = \" \")"
   ]
  },
  {
   "cell_type": "code",
   "execution_count": 21,
   "id": "9b8695eb-4f2c-4fe7-8f14-ddcb89aacd1b",
   "metadata": {},
   "outputs": [
    {
     "name": "stdin",
     "output_type": "stream",
     "text": [
      "сан енгізіңіз:  5\n"
     ]
    },
    {
     "name": "stdout",
     "output_type": "stream",
     "text": [
      "5 5 5 5 5 5 5 5 5 5 5 5 5 5 5 5 5 5 5 5 5 5 5 5 5 5 5 5 5 5 5 5 5 5 5 5 5 5 5 5 5 5 5 5 5 5 5 5 5 5 5 5 5 5 5 5 5 5 5 5 5 5 5 5 5 5 5 5 5 5 5 5 5 5 5 5 5 5 5 5 5 5 5 5 5 5 5 5 5 5 5 5 5 5 5 5 5 5 5 5 \n"
     ]
    }
   ],
   "source": [
    "print((input(\"сан енгізіңіз: \")+ \" \")*100)"
   ]
  },
  {
   "cell_type": "code",
   "execution_count": null,
   "id": "31b92fc2-aac6-4a43-8133-3428b0579b6f",
   "metadata": {},
   "outputs": [],
   "source": []
  }
 ],
 "metadata": {
  "kernelspec": {
   "display_name": "Python 3 (ipykernel)",
   "language": "python",
   "name": "python3"
  },
  "language_info": {
   "codemirror_mode": {
    "name": "ipython",
    "version": 3
   },
   "file_extension": ".py",
   "mimetype": "text/x-python",
   "name": "python",
   "nbconvert_exporter": "python",
   "pygments_lexer": "ipython3",
   "version": "3.12.4"
  }
 },
 "nbformat": 4,
 "nbformat_minor": 5
}
