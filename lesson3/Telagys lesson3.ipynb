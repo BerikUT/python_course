{
 "cells": [
  {
   "cell_type": "code",
   "execution_count": 1,
   "id": "ca5f7b57-5935-4d89-8d9b-deeda8552749",
   "metadata": {},
   "outputs": [
    {
     "name": "stdout",
     "output_type": "stream",
     "text": [
      "Hello, World\n"
     ]
    }
   ],
   "source": [
    "print('Hello, World')"
   ]
  },
  {
   "cell_type": "code",
   "execution_count": 2,
   "id": "914d5f36-9d06-4150-8029-c174e8cd0396",
   "metadata": {},
   "outputs": [
    {
     "name": "stdout",
     "output_type": "stream",
     "text": [
      "2\n"
     ]
    }
   ],
   "source": [
    "print( 1 + 1 )"
   ]
  },
  {
   "cell_type": "code",
   "execution_count": 3,
   "id": "1a953fcf-7cbc-4b33-bf1c-135373e5e877",
   "metadata": {},
   "outputs": [
    {
     "name": "stdout",
     "output_type": "stream",
     "text": [
      "1\n"
     ]
    }
   ],
   "source": [
    "print( 2 - 1 )"
   ]
  },
  {
   "cell_type": "code",
   "execution_count": 4,
   "id": "6988d1b3-ce5b-47ea-8396-469fb7488f84",
   "metadata": {},
   "outputs": [
    {
     "name": "stdout",
     "output_type": "stream",
     "text": [
      "25\n"
     ]
    }
   ],
   "source": [
    "print( 5 * 5)"
   ]
  },
  {
   "cell_type": "code",
   "execution_count": 5,
   "id": "31c2b3b9-fd51-4420-a276-53e1395d605f",
   "metadata": {},
   "outputs": [
    {
     "name": "stdout",
     "output_type": "stream",
     "text": [
      "5.0\n"
     ]
    }
   ],
   "source": [
    "print( 25 / 5)"
   ]
  },
  {
   "cell_type": "code",
   "execution_count": 6,
   "id": "338ff10d-cf16-4450-9a19-8d8e625c66ba",
   "metadata": {},
   "outputs": [
    {
     "name": "stdout",
     "output_type": "stream",
     "text": [
      "3\n"
     ]
    }
   ],
   "source": [
    "print( 8 % 5)"
   ]
  },
  {
   "cell_type": "code",
   "execution_count": 11,
   "id": "92596f63-2658-4267-a067-b67c61e0818c",
   "metadata": {},
   "outputs": [
    {
     "ename": "SyntaxError",
     "evalue": "expected ':' (1841867500.py, line 4)",
     "output_type": "error",
     "traceback": [
      "\u001b[1;36m  Cell \u001b[1;32mIn[11], line 4\u001b[1;36m\u001b[0m\n\u001b[1;33m    else( num ):\u001b[0m\n\u001b[1;37m        ^\u001b[0m\n\u001b[1;31mSyntaxError\u001b[0m\u001b[1;31m:\u001b[0m expected ':'\n"
     ]
    }
   ],
   "source": [
    "num = 5\n",
    "if( num > 5 ):\n",
    "    print( 'more than 5' )\n",
    "else( num ):\n",
    "    print ( 'false' )"
   ]
  },
  {
   "cell_type": "code",
   "execution_count": 13,
   "id": "587047bb-c352-4af1-92c6-cef8efaf0441",
   "metadata": {},
   "outputs": [
    {
     "name": "stdin",
     "output_type": "stream",
     "text": [
      " 8\n",
      " 2\n"
     ]
    },
    {
     "name": "stdout",
     "output_type": "stream",
     "text": [
      "10\n"
     ]
    }
   ],
   "source": [
    "user_input = int(input())\n",
    "user_input2 = int(input())\n",
    "print(user_input + user_input2)"
   ]
  },
  {
   "cell_type": "code",
   "execution_count": 18,
   "id": "8296af6d-ebf8-4739-b98d-be58cc35f271",
   "metadata": {},
   "outputs": [
    {
     "name": "stdin",
     "output_type": "stream",
     "text": [
      " 1\n"
     ]
    },
    {
     "name": "stdout",
     "output_type": "stream",
     "text": [
      "January\n"
     ]
    }
   ],
   "source": [
    "korzina = [ 'January', 'February', 'March', 'April', 'May', 'June', 'July', 'August', 'September', 'October', 'November', 'December' ]\n",
    "user_input = int(input())\n",
    "print(korzina[user_input -1])"
   ]
  },
  {
   "cell_type": "code",
   "execution_count": 19,
   "id": "8fa625d5-3463-43fc-906d-1c1160682a05",
   "metadata": {},
   "outputs": [
    {
     "name": "stdout",
     "output_type": "stream",
     "text": [
      "January\n",
      "February\n",
      "March\n",
      "April\n",
      "May\n",
      "June\n",
      "July\n",
      "August\n",
      "September\n",
      "October\n",
      "November\n",
      "December\n"
     ]
    }
   ],
   "source": [
    "months = [ 'January', 'February', 'March', 'April', 'May', 'June', 'July', 'August', 'September', 'October', 'November', 'December' ]\n",
    "\n",
    "for m in months:\n",
    "    print(m)"
   ]
  },
  {
   "cell_type": "code",
   "execution_count": 32,
   "id": "871fa261-1289-43c5-a016-3b9fcf4ac922",
   "metadata": {},
   "outputs": [
    {
     "name": "stdout",
     "output_type": "stream",
     "text": [
      "[1, 10]\n"
     ]
    },
    {
     "name": "stdin",
     "output_type": "stream",
     "text": [
      " \n"
     ]
    },
    {
     "ename": "ValueError",
     "evalue": "invalid literal for int() with base 10: ''",
     "output_type": "error",
     "traceback": [
      "\u001b[1;31m---------------------------------------------------------------------------\u001b[0m",
      "\u001b[1;31mValueError\u001b[0m                                Traceback (most recent call last)",
      "Cell \u001b[1;32mIn[32], line 6\u001b[0m\n\u001b[0;32m      3\u001b[0m korzina\u001b[38;5;241m.\u001b[39mappend(\u001b[38;5;241m10\u001b[39m)\n\u001b[0;32m      4\u001b[0m \u001b[38;5;28mprint\u001b[39m(korzina[::])\n\u001b[1;32m----> 6\u001b[0m user_input \u001b[38;5;241m=\u001b[39m \u001b[38;5;28mint\u001b[39m(\u001b[38;5;28minput\u001b[39m())\n\u001b[0;32m      8\u001b[0m i \u001b[38;5;241m=\u001b[39m \u001b[38;5;241m0\u001b[39m\n\u001b[0;32m      9\u001b[0m \u001b[38;5;28;01mwhile\u001b[39;00m i \u001b[38;5;241m<\u001b[39m \u001b[38;5;241m10\u001b[39m:\n",
      "\u001b[1;31mValueError\u001b[0m: invalid literal for int() with base 10: ''"
     ]
    }
   ],
   "source": [
    "korzina = []\n",
    "korzina.append(1)\n",
    "korzina.append(10)\n",
    "print(korzina[::])\n",
    "\n",
    "user_input = int(input())\n",
    "\n",
    "i = 0\n",
    "while i < 10:\n",
    "    print(i)\n",
    "    i = i + 1"
   ]
  },
  {
   "cell_type": "code",
   "execution_count": null,
   "id": "ad277827-d301-41bf-a0c6-45bda18d9fcb",
   "metadata": {},
   "outputs": [
    {
     "name": "stdin",
     "output_type": "stream",
     "text": [
      "Введите число:  1\n",
      "Введите число:  2\n",
      "Введите число:  5\n",
      "Введите число:  9\n",
      "Введите число:  10\n"
     ]
    }
   ],
   "source": [
    "list = []\n",
    "x = 0\n",
    "while x < 10:\n",
    "    list.append(int(input('Введите число: ')))\n",
    "    x +=1\n",
    "print(list)"
   ]
  },
  {
   "cell_type": "code",
   "execution_count": null,
   "id": "7362fa81-0170-4f0f-8aa9-40591b4743a2",
   "metadata": {},
   "outputs": [],
   "source": []
  }
 ],
 "metadata": {
  "kernelspec": {
   "display_name": "Python 3 (ipykernel)",
   "language": "python",
   "name": "python3"
  },
  "language_info": {
   "codemirror_mode": {
    "name": "ipython",
    "version": 3
   },
   "file_extension": ".py",
   "mimetype": "text/x-python",
   "name": "python",
   "nbconvert_exporter": "python",
   "pygments_lexer": "ipython3",
   "version": "3.12.4"
  }
 },
 "nbformat": 4,
 "nbformat_minor": 5
}
