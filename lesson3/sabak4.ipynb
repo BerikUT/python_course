{
 "cells": [
  {
   "cell_type": "code",
   "execution_count": 1,
   "id": "d8315fca-745c-448c-95ba-9b784ea330aa",
   "metadata": {},
   "outputs": [
    {
     "name": "stdin",
     "output_type": "stream",
     "text": [
      " adilet\n"
     ]
    },
    {
     "name": "stdout",
     "output_type": "stream",
     "text": [
      "6\n"
     ]
    }
   ],
   "source": [
    "at = input()\n",
    "san = len(at)\n",
    "print(san)"
   ]
  },
  {
   "cell_type": "code",
   "execution_count": 3,
   "id": "4744aa14-e8d5-4d9d-bc0d-6f38c1e8162e",
   "metadata": {},
   "outputs": [
    {
     "name": "stdin",
     "output_type": "stream",
     "text": [
      " 1998\n"
     ]
    },
    {
     "name": "stdout",
     "output_type": "stream",
     "text": [
      "26\n"
     ]
    }
   ],
   "source": [
    "zhyl = int(input())\n",
    "\n",
    "print(2024 - zhyl)"
   ]
  },
  {
   "cell_type": "code",
   "execution_count": 17,
   "id": "4c4b105f-836a-4612-8b5d-895dfab74f94",
   "metadata": {},
   "outputs": [
    {
     "name": "stdout",
     "output_type": "stream",
     "text": [
      "[3, 5, 3, 5, 9, 7, 9]\n"
     ]
    }
   ],
   "source": [
    "massiv  = [3,5,76,3,5,76,9,7,9,12]\n",
    "massiv2 = []\n",
    "for i in massiv:\n",
    "    if i % 2 == 0:\n",
    "        continue\n",
    "    else:\n",
    "        massiv2.append(i)\n",
    "print(massiv2)"
   ]
  },
  {
   "cell_type": "code",
   "execution_count": 20,
   "id": "5dc75561-b3ac-4c9d-bd93-948ef44fd4cd",
   "metadata": {},
   "outputs": [
    {
     "name": "stdout",
     "output_type": "stream",
     "text": [
      "[3, 5, 3, 5, 9, 7, 9]\n"
     ]
    }
   ],
   "source": [
    "massiv  = [3,5,76,3,5,76,9,7,9,12]\n",
    "massiv2 = []\n",
    "for i in massiv:\n",
    "    if i % 2 == 0:\n",
    "        continue\n",
    "    else:\n",
    "        massiv2.append(i)\n",
    "print(massiv2)"
   ]
  },
  {
   "cell_type": "code",
   "execution_count": 22,
   "id": "54c72cbd-be86-42fb-a4b1-ba81c2b53858",
   "metadata": {},
   "outputs": [
    {
     "name": "stdout",
     "output_type": "stream",
     "text": [
      "95\n",
      "95\n",
      "84\n",
      "35\n",
      "83\n",
      "43\n",
      "40\n",
      "39\n",
      "18\n",
      "84\n"
     ]
    }
   ],
   "source": [
    "import random\n",
    "for i in range(10):\n",
    "    print(random.randint(1,100))"
   ]
  },
  {
   "cell_type": "code",
   "execution_count": 24,
   "id": "f8b2f6d4-7452-4bd0-bc4c-3fb0d665c7ab",
   "metadata": {},
   "outputs": [
    {
     "ename": "SyntaxError",
     "evalue": "unmatched ')' (515037265.py, line 4)",
     "output_type": "error",
     "traceback": [
      "\u001b[1;36m  Cell \u001b[1;32mIn[24], line 4\u001b[1;36m\u001b[0m\n\u001b[1;33m    san = random.randint(1,100))\u001b[0m\n\u001b[1;37m                               ^\u001b[0m\n\u001b[1;31mSyntaxError\u001b[0m\u001b[1;31m:\u001b[0m unmatched ')'\n"
     ]
    }
   ],
   "source": [
    "import random\n",
    "array = []\n",
    "for i in range(10):\n",
    "    san = random.randint(1,100))\n",
    "    array.append(san)\n",
    "    print(san)"
   ]
  },
  {
   "cell_type": "code",
   "execution_count": 26,
   "id": "38e11e14-737b-466f-a1e3-836125787663",
   "metadata": {},
   "outputs": [
    {
     "name": "stdout",
     "output_type": "stream",
     "text": [
      "39\n",
      "75\n",
      "53\n",
      "28\n",
      "98\n",
      "82\n",
      "69\n",
      "13\n",
      "3\n",
      "96\n"
     ]
    }
   ],
   "source": [
    "import random\n",
    "array = []\n",
    "for i in range(10):\n",
    "    san = random.randint(1,100)\n",
    "    array.append(san)\n",
    "    print(san)"
   ]
  },
  {
   "cell_type": "code",
   "execution_count": 34,
   "id": "90e72355-4ee9-4dea-b8fe-fafc4f7ec569",
   "metadata": {},
   "outputs": [
    {
     "name": "stdout",
     "output_type": "stream",
     "text": [
      "11\n",
      "3\n",
      "27\n",
      "67\n",
      "80\n",
      "15\n",
      "31\n",
      "4\n",
      "77\n",
      "6\n",
      "[80, 4, 6]\n"
     ]
    }
   ],
   "source": [
    "import random\n",
    "array = []\n",
    "zhup = []\n",
    "for i in range(10):\n",
    "    san = random.randint(1,100)\n",
    "    array.append(san)\n",
    "    print(san)\n",
    "    if san % 2 ==0:\n",
    "        zhup.append(san)\n",
    "        \n",
    "print(zhup)"
   ]
  },
  {
   "cell_type": "code",
   "execution_count": 3,
   "id": "8ee071d7-026d-4f31-8063-c3a212d2198c",
   "metadata": {},
   "outputs": [
    {
     "name": "stdout",
     "output_type": "stream",
     "text": [
      "[52, 48, 18, 67, 5, 34, 69, 53, 51, 9]\n",
      "en ulken san 69\n"
     ]
    }
   ],
   "source": [
    "import random\n",
    "array = []\n",
    "san2 = 0\n",
    "for i in range(10):\n",
    "    san = random.randint(1,100)\n",
    "    array.append(san)\n",
    "    \n",
    "    if san2 < san:\n",
    "        san2 = san\n",
    "        \n",
    "print(array)\n",
    "        \n",
    "print(\"en ulken san\",san2)\n",
    "        \n",
    "   \n",
    "    \n",
    "    \n",
    "    \n",
    "        \n"
   ]
  },
  {
   "cell_type": "code",
   "execution_count": null,
   "id": "0a5c953e-9c17-484c-ab1b-804ea5b0438f",
   "metadata": {},
   "outputs": [],
   "source": []
  },
  {
   "cell_type": "code",
   "execution_count": null,
   "id": "177c773e-3b3b-499f-a9fd-03261ad7b0c1",
   "metadata": {},
   "outputs": [],
   "source": []
  }
 ],
 "metadata": {
  "kernelspec": {
   "display_name": "Python 3 (ipykernel)",
   "language": "python",
   "name": "python3"
  },
  "language_info": {
   "codemirror_mode": {
    "name": "ipython",
    "version": 3
   },
   "file_extension": ".py",
   "mimetype": "text/x-python",
   "name": "python",
   "nbconvert_exporter": "python",
   "pygments_lexer": "ipython3",
   "version": "3.12.4"
  }
 },
 "nbformat": 4,
 "nbformat_minor": 5
}
