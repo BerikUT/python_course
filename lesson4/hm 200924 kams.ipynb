{
 "cells": [
  {
   "cell_type": "code",
   "execution_count": 1,
   "id": "32262b45-bba8-410e-9f0e-d05ce862a12c",
   "metadata": {},
   "outputs": [
    {
     "name": "stdout",
     "output_type": "stream",
     "text": [
      "Hello, world\n"
     ]
    }
   ],
   "source": [
    "print(\"Hello, world\")"
   ]
  },
  {
   "cell_type": "code",
   "execution_count": 2,
   "id": "a9495a57-e8a8-49fa-9413-a878821e1351",
   "metadata": {},
   "outputs": [
    {
     "name": "stdout",
     "output_type": "stream",
     "text": [
      "2\n"
     ]
    }
   ],
   "source": [
    "print(1+1)"
   ]
  },
  {
   "cell_type": "code",
   "execution_count": 3,
   "id": "de73a83a-91ba-448e-b902-dc8db4a9152f",
   "metadata": {},
   "outputs": [
    {
     "name": "stdout",
     "output_type": "stream",
     "text": [
      "1\n"
     ]
    }
   ],
   "source": [
    "print( 2 - 1 )"
   ]
  },
  {
   "cell_type": "code",
   "execution_count": 4,
   "id": "c2778c09-1755-49f2-920e-5d55c94ad660",
   "metadata": {},
   "outputs": [
    {
     "name": "stdout",
     "output_type": "stream",
     "text": [
      "true\n"
     ]
    }
   ],
   "source": [
    "if True:\n",
    "    print( 'true' )\n",
    "else:\n",
    "    print( 'false' )\n",
    "    "
   ]
  },
  {
   "cell_type": "code",
   "execution_count": 6,
   "id": "c5fc166e-f74a-4dc7-9074-1a4899dc6072",
   "metadata": {},
   "outputs": [
    {
     "name": "stdin",
     "output_type": "stream",
     "text": [
      "екі сан енгізіңіз (пробел арқылы):  5 2\n"
     ]
    },
    {
     "name": "stdout",
     "output_type": "stream",
     "text": [
      "7\n"
     ]
    }
   ],
   "source": [
    "san1, san2 = map(int,input(\"екі сан енгізіңіз (пробел арқылы): \").split())\n",
    "print(san1+san2) "
   ]
  },
  {
   "cell_type": "code",
   "execution_count": 9,
   "id": "93a557eb-7d29-4238-9728-c4d932b4ba26",
   "metadata": {},
   "outputs": [
    {
     "name": "stdin",
     "output_type": "stream",
     "text": [
      " 2\n"
     ]
    },
    {
     "name": "stdout",
     "output_type": "stream",
     "text": [
      "February\n"
     ]
    }
   ],
   "source": [
    "year = [ 'January', 'February', 'March', 'April', 'May', 'June', 'July', 'August', 'September', 'October', 'November', 'December']\n",
    "x = int(input())-1\n",
    "print(year[x])"
   ]
  },
  {
   "cell_type": "code",
   "execution_count": 10,
   "id": "d05824cb-98d7-4ab6-8a6b-07be73f70621",
   "metadata": {},
   "outputs": [
    {
     "name": "stdout",
     "output_type": "stream",
     "text": [
      "January\n",
      "February\n",
      "March\n",
      "April\n",
      "May\n",
      "June\n",
      "July\n",
      "August\n",
      "September\n",
      "October\n",
      "November\n",
      "December\n"
     ]
    }
   ],
   "source": [
    "year = [ 'January', 'February', 'March', 'April', 'May', 'June', 'July', 'August', 'September', 'October', 'November', 'December']\n",
    "i = 0\n",
    "while i < 12:\n",
    "    print(year[i])\n",
    "    i +=1"
   ]
  },
  {
   "cell_type": "code",
   "execution_count": 13,
   "id": "03635a6d-1c7e-4fdc-bcd6-fd4bb567d022",
   "metadata": {},
   "outputs": [
    {
     "name": "stdout",
     "output_type": "stream",
     "text": [
      "['Apple']\n"
     ]
    }
   ],
   "source": [
    "list = []\n",
    "x = list.append('Apple')\n",
    "print(list)"
   ]
  },
  {
   "cell_type": "code",
   "execution_count": 14,
   "id": "cdb3eb69-27e4-4383-ab16-cae893ebdfca",
   "metadata": {},
   "outputs": [
    {
     "name": "stdin",
     "output_type": "stream",
     "text": [
      "Введите число:  5\n",
      "Введите число:  5\n",
      "Введите число:  5\n",
      "Введите число:  5\n",
      "Введите число:  5\n",
      "Введите число:  5\n",
      "Введите число:  5\n",
      "Введите число:  5\n",
      "Введите число:  5\n",
      "Введите число:  5\n"
     ]
    },
    {
     "name": "stdout",
     "output_type": "stream",
     "text": [
      "[5, 5, 5, 5, 5, 5, 5, 5, 5, 5]\n"
     ]
    }
   ],
   "source": [
    "list = []\n",
    "x = 0 \n",
    "while x < 10:\n",
    "    list.append(int(input(\"Введите число: \")))\n",
    "    x +=1\n",
    "print(list)"
   ]
  },
  {
   "cell_type": "code",
   "execution_count": 17,
   "id": "6b346d75-3fab-4966-a4fd-728d69801be1",
   "metadata": {},
   "outputs": [
    {
     "name": "stdin",
     "output_type": "stream",
     "text": [
      "Введите число:  1\n",
      "Введите число:  2\n",
      "Введите число:  3\n",
      "Введите число:  4\n",
      "Введите число:  5\n",
      "Введите число:  6\n",
      "Введите число:  7\n",
      "Введите число:  8\n",
      "Введите число:  9\n",
      "Введите число:  10\n"
     ]
    },
    {
     "name": "stdout",
     "output_type": "stream",
     "text": [
      "[1, 2, 3, 4, 5, 6, 7, 8, 9, 10]\n"
     ]
    }
   ],
   "source": [
    "list = []\n",
    "for _ in range(10):\n",
    "    list.append(int(input(\"Введите число: \")))\n",
    "print(list)\n",
    "    "
   ]
  },
  {
   "cell_type": "code",
   "execution_count": 43,
   "id": "818c5682-45c7-4608-8799-0b61756d8187",
   "metadata": {},
   "outputs": [
    {
     "name": "stdout",
     "output_type": "stream",
     "text": [
      "\"Угадай цифру\" ойынына қош келдіңіз!\n"
     ]
    },
    {
     "name": "stdin",
     "output_type": "stream",
     "text": [
      "Қалай ойлайсыз, 1-ден 100-ге дейін қай сан? -  50\n"
     ]
    },
    {
     "name": "stdout",
     "output_type": "stream",
     "text": [
      "Жоғары! Тағы сынап көріңіз\n"
     ]
    },
    {
     "name": "stdin",
     "output_type": "stream",
     "text": [
      "Қалай ойлайсыз, 1-ден 100-ге дейін қай сан? -  25\n"
     ]
    },
    {
     "name": "stdout",
     "output_type": "stream",
     "text": [
      "Жоғары! Тағы сынап көріңіз\n"
     ]
    },
    {
     "name": "stdin",
     "output_type": "stream",
     "text": [
      "Қалай ойлайсыз, 1-ден 100-ге дейін қай сан? -  15\n"
     ]
    },
    {
     "name": "stdout",
     "output_type": "stream",
     "text": [
      "Жоғары! Тағы сынап көріңіз\n"
     ]
    },
    {
     "name": "stdin",
     "output_type": "stream",
     "text": [
      "Қалай ойлайсыз, 1-ден 100-ге дейін қай сан? -  5\n"
     ]
    },
    {
     "name": "stdout",
     "output_type": "stream",
     "text": [
      "Алақай!!! Дәл өзі!\n",
      "Ойыныңызға рахмет!!!\n"
     ]
    }
   ],
   "source": [
    "import random\n",
    "print ('\"Угадай цифру\" ойынына қош келдіңіз!')\n",
    "x = random.randint(1, 100)\n",
    "while True:\n",
    "    san = int(input(\"Қалай ойлайсыз, 1-ден 100-ге дейін қай сан? - \"))\n",
    "    if 0 < san <= 100:\n",
    "        if san < x:\n",
    "            print(\"Төмен! Тағы сынап көріңіз\")\n",
    "            continue\n",
    "        elif san == x:\n",
    "            print(\"Алақай!!! Дәл өзі!\")\n",
    "            break\n",
    "        else:\n",
    "            print(\"Жоғары! Тағы сынап көріңіз\")\n",
    "            continue\n",
    "    else:\n",
    "        print(\"санды қате енгіздіңіз. Қайтадан таңдаңыз\")          \n",
    "        continue\n",
    "print(\"Ойыныңызға рахмет!!!\")        \n",
    "    "
   ]
  },
  {
   "cell_type": "code",
   "execution_count": 55,
   "id": "504a7c15-3746-4532-aca3-68cce6d636ad",
   "metadata": {},
   "outputs": [
    {
     "name": "stdin",
     "output_type": "stream",
     "text": [
      "Суефа ойынына қош келдіңіз!!! Атыңыз кім? -  Камшат\n"
     ]
    },
    {
     "name": "stdout",
     "output_type": "stream",
     "text": [
      "ТАСты таңдау үшін \"т\" әріп енгізіңіз, ҚАЙШЫ таңдау үшін \"қ\" әріп енгізіңіз, ПАРАҚ таңдау үшін \"п\" әріп енгізіңіз!\n"
     ]
    },
    {
     "name": "stdin",
     "output_type": "stream",
     "text": [
      "Таңдауыңыз:  т\n"
     ]
    },
    {
     "name": "stdout",
     "output_type": "stream",
     "text": [
      "Тең! Екеуіңіздің таңдауларыңыз - тас! Келесі айналым\n"
     ]
    },
    {
     "name": "stdin",
     "output_type": "stream",
     "text": [
      "Таңдауыңыз:  т\n"
     ]
    },
    {
     "name": "stdout",
     "output_type": "stream",
     "text": [
      "Тас боттын қайшысын жарады! Бір ұпай саған қосылады! Бот - Камшат 0 : 1\n"
     ]
    },
    {
     "name": "stdin",
     "output_type": "stream",
     "text": [
      "Таңдауыңыз:  т\n"
     ]
    },
    {
     "name": "stdout",
     "output_type": "stream",
     "text": [
      "Тас боттын қайшысын жарады! Бір ұпай саған қосылады! Бот - Камшат 0 : 2\n"
     ]
    },
    {
     "name": "stdin",
     "output_type": "stream",
     "text": [
      "Таңдауыңыз:  т\n"
     ]
    },
    {
     "name": "stdout",
     "output_type": "stream",
     "text": [
      "Бот парақпен тасты жабады! Бір ұпай ботқа қосылады! Бот - Камшат 1 : 2\n"
     ]
    },
    {
     "name": "stdin",
     "output_type": "stream",
     "text": [
      "Таңдауыңыз:  т\n"
     ]
    },
    {
     "name": "stdout",
     "output_type": "stream",
     "text": [
      "Бот парақпен тасты жабады! Бір ұпай ботқа қосылады! Бот - Камшат 2 : 2\n"
     ]
    },
    {
     "name": "stdin",
     "output_type": "stream",
     "text": [
      "Таңдауыңыз:  т\n"
     ]
    },
    {
     "name": "stdout",
     "output_type": "stream",
     "text": [
      "Тас боттын қайшысын жарады! Бір ұпай саған қосылады! Бот - Камшат 2 : 3\n"
     ]
    },
    {
     "name": "stdin",
     "output_type": "stream",
     "text": [
      "Таңдауыңыз:  т\n"
     ]
    },
    {
     "name": "stdout",
     "output_type": "stream",
     "text": [
      "Бот парақпен тасты жабады! Бір ұпай ботқа қосылады! Бот - Камшат 3 : 3\n"
     ]
    },
    {
     "name": "stdin",
     "output_type": "stream",
     "text": [
      "Таңдауыңыз:  т\n"
     ]
    },
    {
     "name": "stdout",
     "output_type": "stream",
     "text": [
      "Бот парақпен тасты жабады! Бір ұпай ботқа қосылады! Бот - Камшат 4 : 3\n"
     ]
    },
    {
     "name": "stdin",
     "output_type": "stream",
     "text": [
      "Таңдауыңыз:  т\n"
     ]
    },
    {
     "name": "stdout",
     "output_type": "stream",
     "text": [
      "Бот парақпен тасты жабады! Бір ұпай ботқа қосылады! Бот - Камшат 5 : 3\n",
      "Уайымдама, Камшат келесіде жолың болады!\n"
     ]
    }
   ],
   "source": [
    "import random\n",
    "player = input(\"Суефа ойынына қош келдіңіз!!! Атыңыз кім? - \")\n",
    "print('ТАСты таңдау үшін \"т\" әріп енгізіңіз, ҚАЙШЫ таңдау үшін \"қ\" әріп енгізіңіз, ПАРАҚ таңдау үшін \"п\" әріп енгізіңіз!')\n",
    "bot_cnt = 0\n",
    "pl_cnt = 0\n",
    "while (bot_cnt < 5) and (pl_cnt < 5):\n",
    "    pl_choice = input('Таңдауыңыз: ').lower()\n",
    "    if pl_choice not in ('т', 'қ', 'п'):\n",
    "        print ('Таңдауңыз қате. Қайтадан таңдаңыз')\n",
    "        continue\n",
    "    bot_choice = random.randint ( 1, 3 )\n",
    "    if bot_choice == 1:\n",
    "        if pl_choice == 'т':\n",
    "            print ('Тең! Екеуіңіздің таңдауларыңыз - тас! Келесі айналым')\n",
    "            continue\n",
    "        elif pl_choice == 'қ':\n",
    "            bot_cnt += 1\n",
    "            print ('Бот таспен қайшынды жарады! Бір ұпай ботқа қосылады! Бот -', player, bot_cnt,':', pl_cnt)\n",
    "            continue\n",
    "        else:\n",
    "            pl_cnt += 1\n",
    "            print ('Парақ боттын тасын жабады! Бір ұпай саған қосылады! Бот -', player, bot_cnt,':', pl_cnt)\n",
    "            continue\n",
    "    elif bot_choice == 2:\n",
    "        if pl_choice == 'т':\n",
    "            pl_cnt += 1\n",
    "            print ('Тас боттын қайшысын жарады! Бір ұпай саған қосылады! Бот -', player, bot_cnt,':', pl_cnt)\n",
    "            continue\n",
    "        elif pl_choice == 'қ':\n",
    "            print ('Тең! Екеуіңіздің таңдауларыңыз - қайшы! Келесі айналым')\n",
    "            continue\n",
    "        else:\n",
    "            bot_cnt += 1\n",
    "            print ('Бот қайшымен парақты кеседі! Бір ұпай ботқа қосылады! Бот -', player, bot_cnt,':', pl_cnt)\n",
    "            continue   \n",
    "    elif bot_choice == 3:\n",
    "        if pl_choice == 'т':\n",
    "            bot_cnt += 1\n",
    "            print ('Бот парақпен тасты жабады! Бір ұпай ботқа қосылады! Бот -', player, bot_cnt,':', pl_cnt)\n",
    "            continue\n",
    "        elif pl_choice == 'қ':\n",
    "            pl_cnt += 1\n",
    "            print ('Қайшы боттың парағын кеседі! Бір ұпай саған қосылады! Бот -', player, bot_cnt,':', pl_cnt)\n",
    "            continue\n",
    "        else:\n",
    "            print ('Тең! Екеуіңіздің таңдауларыңыз - парақ! Келесі айналым')\n",
    "            continue   \n",
    "if pl_cnt > bot_cnt:\n",
    "    print(player, 'жеңді!!! Құттықтаймыз!!!')\n",
    "else:\n",
    "    print ('Уайымдама,', player, ', келесіде жолың болады!')"
   ]
  },
  {
   "cell_type": "code",
   "execution_count": 57,
   "id": "42ff8cae-2439-42e3-a9b2-ccf511df9781",
   "metadata": {},
   "outputs": [
    {
     "name": "stdout",
     "output_type": "stream",
     "text": [
      "Кости. Кездейсоқ сан. Enter - лақтыру, '!' - шығу.\n"
     ]
    },
    {
     "name": "stdin",
     "output_type": "stream",
     "text": [
      "Enter немесе '!':  \n"
     ]
    },
    {
     "name": "stdout",
     "output_type": "stream",
     "text": [
      "6\n"
     ]
    },
    {
     "name": "stdin",
     "output_type": "stream",
     "text": [
      "Enter немесе '!':  \n"
     ]
    },
    {
     "name": "stdout",
     "output_type": "stream",
     "text": [
      "3\n"
     ]
    },
    {
     "name": "stdin",
     "output_type": "stream",
     "text": [
      "Enter немесе '!':  \n"
     ]
    },
    {
     "name": "stdout",
     "output_type": "stream",
     "text": [
      "4\n"
     ]
    },
    {
     "name": "stdin",
     "output_type": "stream",
     "text": [
      "Enter немесе '!':  \n"
     ]
    },
    {
     "name": "stdout",
     "output_type": "stream",
     "text": [
      "4\n"
     ]
    },
    {
     "name": "stdin",
     "output_type": "stream",
     "text": [
      "Enter немесе '!':  \n"
     ]
    },
    {
     "name": "stdout",
     "output_type": "stream",
     "text": [
      "5\n"
     ]
    },
    {
     "name": "stdin",
     "output_type": "stream",
     "text": [
      "Enter немесе '!':  \")!\n"
     ]
    },
    {
     "name": "stdout",
     "output_type": "stream",
     "text": [
      "6\n"
     ]
    },
    {
     "name": "stdin",
     "output_type": "stream",
     "text": [
      "Enter немесе '!':  !\n"
     ]
    },
    {
     "name": "stdout",
     "output_type": "stream",
     "text": [
      "Тоқтатылды\n"
     ]
    }
   ],
   "source": [
    "import random\n",
    "print(\"Кости. Кездейсоқ сан. Enter - лақтыру, '!' - шығу.\")\n",
    "\n",
    "while True:\n",
    "    user_input = input(\"Enter немесе '!': \")\n",
    "    \n",
    "    if user_input == '!':\n",
    "        print(\"Тоқтатылды\")\n",
    "        break\n",
    "    else:\n",
    "        print(random.randint(1, 6))"
   ]
  },
  {
   "cell_type": "code",
   "execution_count": null,
   "id": "299d57f3-9adc-4922-bf40-32f7bc109af5",
   "metadata": {},
   "outputs": [],
   "source": []
  }
 ],
 "metadata": {
  "kernelspec": {
   "display_name": "Python 3 (ipykernel)",
   "language": "python",
   "name": "python3"
  },
  "language_info": {
   "codemirror_mode": {
    "name": "ipython",
    "version": 3
   },
   "file_extension": ".py",
   "mimetype": "text/x-python",
   "name": "python",
   "nbconvert_exporter": "python",
   "pygments_lexer": "ipython3",
   "version": "3.12.4"
  }
 },
 "nbformat": 4,
 "nbformat_minor": 5
}
