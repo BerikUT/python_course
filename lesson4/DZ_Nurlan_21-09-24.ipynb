{
 "cells": [
  {
   "cell_type": "code",
   "execution_count": 1,
   "id": "67bba682-dc5b-4397-90a0-a12bf34b83cd",
   "metadata": {},
   "outputs": [
    {
     "name": "stdin",
     "output_type": "stream",
     "text": [
      "1-ден 100-ге дейін санды енгізіңіз 2\n"
     ]
    },
    {
     "name": "stdout",
     "output_type": "stream",
     "text": [
      "Төмен! Тағы сынап көріңіз\n"
     ]
    },
    {
     "name": "stdin",
     "output_type": "stream",
     "text": [
      "1-ден 100-ге дейін санды енгізіңіз 4\n"
     ]
    },
    {
     "name": "stdout",
     "output_type": "stream",
     "text": [
      "Төмен! Тағы сынап көріңіз\n"
     ]
    },
    {
     "name": "stdin",
     "output_type": "stream",
     "text": [
      "1-ден 100-ге дейін санды енгізіңіз 5\n"
     ]
    },
    {
     "name": "stdout",
     "output_type": "stream",
     "text": [
      "Төмен! Тағы сынап көріңіз\n"
     ]
    },
    {
     "name": "stdin",
     "output_type": "stream",
     "text": [
      "1-ден 100-ге дейін санды енгізіңіз 6\n"
     ]
    },
    {
     "name": "stdout",
     "output_type": "stream",
     "text": [
      "Төмен! Тағы сынап көріңіз\n"
     ]
    },
    {
     "name": "stdin",
     "output_type": "stream",
     "text": [
      "1-ден 100-ге дейін санды енгізіңіз 1\n"
     ]
    },
    {
     "name": "stdout",
     "output_type": "stream",
     "text": [
      "Төмен! Тағы сынап көріңіз\n"
     ]
    },
    {
     "name": "stdin",
     "output_type": "stream",
     "text": [
      "1-ден 100-ге дейін санды енгізіңіз 25\n"
     ]
    },
    {
     "name": "stdout",
     "output_type": "stream",
     "text": [
      "Жоғары! Тағы сынап көріңіз\n"
     ]
    },
    {
     "name": "stdin",
     "output_type": "stream",
     "text": [
      "1-ден 100-ге дейін санды енгізіңіз 15\n"
     ]
    },
    {
     "name": "stdout",
     "output_type": "stream",
     "text": [
      "Алақай!!!\n"
     ]
    }
   ],
   "source": [
    "#угадай цифру. рандоммен 1 мен 100 арасы сан алыныз. адамнан сан сураныз. \n",
    "#рандом саннап улкен болса, улкен. кіші болса, кіші деп принттеніз. \n",
    "#санды тапкан уакытта алакай принттеніз) (цикл колданасыз)\n",
    "\n",
    "import random\n",
    "user_input=random.randint(1,100)\n",
    "\n",
    "while True:\n",
    "    user_input1 = int(input('1-ден 100-ге дейін санды енгізіңіз'))\n",
    "    if user_input1<user_input:\n",
    "        print ('Төмен! Тағы сынап көріңіз')\n",
    "    elif user_input1>user_input:\n",
    "        print ('Жоғары! Тағы сынап көріңіз')\n",
    "    elif user_input1==user_input:\n",
    "        print ('Алақай!!!')     \n",
    "        break"
   ]
  },
  {
   "cell_type": "code",
   "execution_count": 3,
   "id": "0385602d-976e-4ebb-be6f-a4689816db4e",
   "metadata": {},
   "outputs": [
    {
     "name": "stdout",
     "output_type": "stream",
     "text": [
      "1-Тас\n",
      "2-Қайшы\n",
      "3-Қағаз\n"
     ]
    },
    {
     "name": "stdin",
     "output_type": "stream",
     "text": [
      "1-ден 3-ге дейін санды енгізіңіз 2\n"
     ]
    },
    {
     "name": "stdout",
     "output_type": "stream",
     "text": [
      "Жеңіс Компьютердікі!\n"
     ]
    },
    {
     "name": "stdin",
     "output_type": "stream",
     "text": [
      "1-ден 3-ге дейін санды енгізіңіз 1\n"
     ]
    },
    {
     "name": "stdout",
     "output_type": "stream",
     "text": [
      "Жеңіс Сіздікі!\n"
     ]
    },
    {
     "name": "stdin",
     "output_type": "stream",
     "text": [
      "1-ден 3-ге дейін санды енгізіңіз 3\n"
     ]
    },
    {
     "name": "stdout",
     "output_type": "stream",
     "text": [
      "Жеңіс Сіздікі!\n"
     ]
    },
    {
     "name": "stdin",
     "output_type": "stream",
     "text": [
      "1-ден 3-ге дейін санды енгізіңіз 2\n"
     ]
    },
    {
     "name": "stdout",
     "output_type": "stream",
     "text": [
      "Жеңіс Компьютердікі!\n"
     ]
    },
    {
     "name": "stdin",
     "output_type": "stream",
     "text": [
      "1-ден 3-ге дейін санды енгізіңіз 3\n"
     ]
    },
    {
     "name": "stdout",
     "output_type": "stream",
     "text": [
      "Жеңіс Компьютердікі!\n",
      "Жеңіс Компьютердікі!\n"
     ]
    }
   ],
   "source": [
    "#сулефа. рандоммен 1 мен 3 арасы сан алыныз. 1 болса тас, 2 болса кайшы, 3 болса кагаз. \n",
    "#компютермен суефа ойнаныз. счет беске жеткенде победитель принттеніз.\n",
    "import random\n",
    "print ('1-Тас')\n",
    "print ('2-Қайшы')\n",
    "print ('3-Қағаз')\n",
    "\n",
    "bot = 0\n",
    "adam = 0\n",
    "while True:\n",
    "    user_input=random.randint(1,3)\n",
    "    user_input1 = int(input('1-ден 3-ге дейін санды енгізіңіз'))\n",
    "    if user_input1==user_input:\n",
    "        print('Тең болдыңдар')\n",
    "    elif (user_input1 == 1 and user_input == 2) or (user_input1 == 2 and user_input == 3) or (user_input1 == 3 and user_input == 1):\n",
    "        adam+=1\n",
    "        print('Жеңіс Сіздікі!')\n",
    "    else:\n",
    "        print('Жеңіс Компьютердікі!')\n",
    "        bot+=1\n",
    "        if adam==3:\n",
    "            print('Жеңіс Сіздікі!')\n",
    "            break\n",
    "        elif bot==3:\n",
    "            print('Жеңіс Компьютердікі!')\n",
    "            break"
   ]
  },
  {
   "cell_type": "code",
   "execution_count": 5,
   "id": "17572d8e-9fbc-494e-9479-09a4c62aeabe",
   "metadata": {},
   "outputs": [
    {
     "name": "stdin",
     "output_type": "stream",
     "text": [
      "1-6 аралығындағы санды енгізіңіз: 1\n"
     ]
    },
    {
     "name": "stdout",
     "output_type": "stream",
     "text": [
      "Процесті жалғастырыңыз:\n"
     ]
    },
    {
     "name": "stdin",
     "output_type": "stream",
     "text": [
      "1-6 аралығындағы санды енгізіңіз: 2\n"
     ]
    },
    {
     "name": "stdout",
     "output_type": "stream",
     "text": [
      "Процесті жалғастырыңыз:\n"
     ]
    },
    {
     "name": "stdin",
     "output_type": "stream",
     "text": [
      "1-6 аралығындағы санды енгізіңіз: 4\n"
     ]
    },
    {
     "name": "stdout",
     "output_type": "stream",
     "text": [
      "Процесті жалғастырыңыз:\n"
     ]
    },
    {
     "name": "stdin",
     "output_type": "stream",
     "text": [
      "1-6 аралығындағы санды енгізіңіз: !\n"
     ]
    },
    {
     "name": "stdout",
     "output_type": "stream",
     "text": [
      "Процесс тоқтатылды\n"
     ]
    }
   ],
   "source": [
    "#кости. рандом колданып 1 мен 6 арасы сан алыныз. адам ентер баса берсе, \n",
    "#1 мен 6 арасы рандом сандарды корсетініз. адам ! жазса токтатыныз.\n",
    "\n",
    "while True:\n",
    "    i=input('1-6 аралығындағы санды енгізіңіз:')\n",
    "    \n",
    "    if i=='!':\n",
    "        print('Процесс тоқтатылды')\n",
    "        break\n",
    "    else:\n",
    "        print('Процесті жалғастырыңыз:')"
   ]
  },
  {
   "cell_type": "code",
   "execution_count": null,
   "id": "5a489bcc-78ab-4e21-b8e3-74f58f166bd1",
   "metadata": {},
   "outputs": [],
   "source": []
  }
 ],
 "metadata": {
  "kernelspec": {
   "display_name": "Python 3 (ipykernel)",
   "language": "python",
   "name": "python3"
  },
  "language_info": {
   "codemirror_mode": {
    "name": "ipython",
    "version": 3
   },
   "file_extension": ".py",
   "mimetype": "text/x-python",
   "name": "python",
   "nbconvert_exporter": "python",
   "pygments_lexer": "ipython3",
   "version": "3.12.4"
  }
 },
 "nbformat": 4,
 "nbformat_minor": 5
}
