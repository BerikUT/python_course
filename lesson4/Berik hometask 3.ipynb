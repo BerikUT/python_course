{
 "cells": [
  {
   "cell_type": "code",
   "execution_count": 5,
   "id": "8ea15006-da08-4a25-8182-1f9acd32b93f",
   "metadata": {},
   "outputs": [
    {
     "name": "stdout",
     "output_type": "stream",
     "text": [
      "'Sandy tabynyz!' oiyny\n",
      "Men 1 den 5-ke deyin san aldym, tauyp alynyz:)\n"
     ]
    },
    {
     "name": "stdin",
     "output_type": "stream",
     "text": [
      "Sizdin san:  5\n"
     ]
    },
    {
     "name": "stdout",
     "output_type": "stream",
     "text": [
      "Tomen, tagy synap koriniz\n",
      "Men 1 den 5-ke deyin san aldym, tauyp alynyz:)\n"
     ]
    },
    {
     "name": "stdin",
     "output_type": "stream",
     "text": [
      "Sizdin san:  4\n"
     ]
    },
    {
     "name": "stdout",
     "output_type": "stream",
     "text": [
      "Tomen, tagy synap koriniz\n",
      "Men 1 den 5-ke deyin san aldym, tauyp alynyz:)\n"
     ]
    },
    {
     "name": "stdin",
     "output_type": "stream",
     "text": [
      "Sizdin san:  3\n"
     ]
    },
    {
     "name": "stdout",
     "output_type": "stream",
     "text": [
      "Tomen, tagy synap koriniz\n",
      "Men 1 den 5-ke deyin san aldym, tauyp alynyz:)\n"
     ]
    },
    {
     "name": "stdin",
     "output_type": "stream",
     "text": [
      "Sizdin san:  2\n"
     ]
    },
    {
     "name": "stdout",
     "output_type": "stream",
     "text": [
      "Barekeldi!\n",
      "Adister sany: 4\n"
     ]
    }
   ],
   "source": [
    "import random\n",
    "print(\"'Sandy tabynyz!' oiyny\")\n",
    "x = random.randint(1, 5)\n",
    "user_number = 0\n",
    "user_attempt = 0\n",
    "while True:\n",
    "  print('Men 1 den 5-ke deyin san aldym, tauyp alynyz:)')\n",
    "  user_number = int(input('Sizdin san: '))\n",
    "  user_attempt += 1\n",
    "  if user_number == x:\n",
    "    print('Barekeldi!\\nAdister sany: ' + str(user_attempt))\n",
    "    break\n",
    "  elif user_number < x:\n",
    "          print('Jogary, tagy synap koriniz')\n",
    "  elif user_number > x:\n",
    "          print('Tomen, tagy synap koriniz')"
   ]
  },
  {
   "cell_type": "code",
   "execution_count": 11,
   "id": "0af16629-5e30-4534-b4d6-3183c9b34d72",
   "metadata": {},
   "outputs": [
    {
     "name": "stdin",
     "output_type": "stream",
     "text": [
      "tas, qaishy nemese paraq:  q\n"
     ]
    },
    {
     "name": "stdout",
     "output_type": "stream",
     "text": [
      "komputer taldauy: qaishy\n",
      "Ten!\n",
      "Upai: Siz 0 - Komputer 0\n"
     ]
    },
    {
     "name": "stdin",
     "output_type": "stream",
     "text": [
      "tas, qaishy nemese paraq:  t\n"
     ]
    },
    {
     "name": "stdout",
     "output_type": "stream",
     "text": [
      "komputer taldauy: paraq\n",
      "Bul raund siz utyldynyz!\n",
      "Upai: Siz 0 - Komputer 1\n"
     ]
    },
    {
     "name": "stdin",
     "output_type": "stream",
     "text": [
      "tas, qaishy nemese paraq:  p\n"
     ]
    },
    {
     "name": "stdout",
     "output_type": "stream",
     "text": [
      "komputer taldauy: tas\n",
      "Bul raund siz uttynyz!\n",
      "Upai: Siz 1 - Komputer 1\n"
     ]
    },
    {
     "name": "stdin",
     "output_type": "stream",
     "text": [
      "tas, qaishy nemese paraq:  q\n"
     ]
    },
    {
     "name": "stdout",
     "output_type": "stream",
     "text": [
      "komputer taldauy: paraq\n",
      "Bul raund siz uttynyz!\n",
      "Upai: Siz 2 - Komputer 1\n"
     ]
    },
    {
     "name": "stdin",
     "output_type": "stream",
     "text": [
      "tas, qaishy nemese paraq:  t\n"
     ]
    },
    {
     "name": "stdout",
     "output_type": "stream",
     "text": [
      "komputer taldauy: qaishy\n",
      "Bul raund siz uttynyz!\n",
      "Upai: Siz 3 - Komputer 1\n"
     ]
    },
    {
     "name": "stdin",
     "output_type": "stream",
     "text": [
      "tas, qaishy nemese paraq:  p\n"
     ]
    },
    {
     "name": "stdout",
     "output_type": "stream",
     "text": [
      "komputer taldauy: tas\n",
      "Bul raund siz uttynyz!\n",
      "Upai: Siz 4 - Komputer 1\n"
     ]
    },
    {
     "name": "stdin",
     "output_type": "stream",
     "text": [
      "tas, qaishy nemese paraq:  q\n"
     ]
    },
    {
     "name": "stdout",
     "output_type": "stream",
     "text": [
      "komputer taldauy: paraq\n",
      "Bul raund siz uttynyz!\n",
      "Upai: Siz 5 - Komputer 1\n",
      "Barekeldi! Oindy uttynyz!\n"
     ]
    }
   ],
   "source": [
    "import random\n",
    "user_score = 0\n",
    "computer_score = 0\n",
    "\n",
    "while user_score < 5 and computer_score < 5:\n",
    "    user_choice = input('tas, qaishy nemese paraq: ').lower()\n",
    "    while user_choice not in ['t', 'q', 'p']:\n",
    "        user_choice = input('Tandau qate. Qaita engizip koriniz: ').lower()\n",
    "\n",
    "    if user_choice == 't':\n",
    "        user_full = 'tas'\n",
    "    elif user_choice == 'q':\n",
    "        user_full = 'qaishy'\n",
    "    else:\n",
    "        user_full = 'paraq'\n",
    "\n",
    "    computer_choice = random.choice(['tas', 'qaishy', 'paraq'])\n",
    "    print(\"komputer taldauy:\", computer_choice)\n",
    "\n",
    "    if user_full == computer_choice:\n",
    "        print('Ten!')\n",
    "    elif user_full == 'tas' and computer_choice == 'qaishy':\n",
    "      print('Bul raund siz uttynyz!')\n",
    "      user_score += 1\n",
    "    elif user_full == 'qaishy' and computer_choice == 'paraq':\n",
    "      print('Bul raund siz uttynyz!')\n",
    "      user_score += 1\n",
    "    elif user_full == 'paraq' and computer_choice == 'tas':\n",
    "      print('Bul raund siz uttynyz!')\n",
    "      user_score += 1\n",
    "    else:\n",
    "        computer_score += 1\n",
    "        print('Bul raund siz utyldynyz!')\n",
    "\n",
    "    print('Upai: Siz', user_score, '- Komputer', computer_score)\n",
    "\n",
    "if user_score == 5:\n",
    "    print('Barekeldi! Oindy uttynyz!')\n",
    "else:\n",
    "    print('Okinishke orai utyldynyz!')"
   ]
  },
  {
   "cell_type": "code",
   "execution_count": 13,
   "id": "4423904b-5eb4-4787-bcdc-69898704b792",
   "metadata": {},
   "outputs": [
    {
     "name": "stdout",
     "output_type": "stream",
     "text": [
      "'Dice' oinyn oinau ushin 'Enter' basynyz. Oinnan shygu ushin '!' basynyz.\n"
     ]
    },
    {
     "name": "stdin",
     "output_type": "stream",
     "text": [
      " \n"
     ]
    },
    {
     "name": "stdout",
     "output_type": "stream",
     "text": [
      "Siz 'Dice' ettiniz: 4\n"
     ]
    },
    {
     "name": "stdin",
     "output_type": "stream",
     "text": [
      " \n"
     ]
    },
    {
     "name": "stdout",
     "output_type": "stream",
     "text": [
      "Siz 'Dice' ettiniz: 4\n"
     ]
    },
    {
     "name": "stdin",
     "output_type": "stream",
     "text": [
      " \n"
     ]
    },
    {
     "name": "stdout",
     "output_type": "stream",
     "text": [
      "Siz 'Dice' ettiniz: 1\n"
     ]
    },
    {
     "name": "stdin",
     "output_type": "stream",
     "text": [
      " !\n"
     ]
    },
    {
     "name": "stdout",
     "output_type": "stream",
     "text": [
      "Oin ayaqtaldy!\n"
     ]
    }
   ],
   "source": [
    "import random\n",
    "print(\"'Dice' oinyn oinau ushin 'Enter' basynyz. Oinnan shygu ushin '!' basynyz.\")\n",
    "while True:\n",
    "    dice_input = input()\n",
    "    if dice_input == '!':\n",
    "        print(\"Oin ayaqtaldy!\")\n",
    "        break\n",
    "    else:\n",
    "        dice = random.randint(1, 6)\n",
    "        print(\"Siz 'Dice' ettiniz:\", dice)"
   ]
  },
  {
   "cell_type": "code",
   "execution_count": null,
   "id": "7184d6a2-d856-46a5-97fb-720898f9bebd",
   "metadata": {},
   "outputs": [],
   "source": []
  }
 ],
 "metadata": {
  "kernelspec": {
   "display_name": "Python 3 (ipykernel)",
   "language": "python",
   "name": "python3"
  },
  "language_info": {
   "codemirror_mode": {
    "name": "ipython",
    "version": 3
   },
   "file_extension": ".py",
   "mimetype": "text/x-python",
   "name": "python",
   "nbconvert_exporter": "python",
   "pygments_lexer": "ipython3",
   "version": "3.12.4"
  }
 },
 "nbformat": 4,
 "nbformat_minor": 5
}
