{
 "cells": [
  {
   "cell_type": "code",
   "execution_count": 112,
   "id": "06071c13-953d-4323-87f8-56284291022b",
   "metadata": {},
   "outputs": [
    {
     "name": "stdout",
     "output_type": "stream",
     "text": [
      "9 9 9 9 9 9 9 9 9 \n",
      "\n",
      "8 8 8 8 8 8 8 8 \n",
      "\n",
      "7 7 7 7 7 7 7 \n",
      "\n",
      "6 6 6 6 6 6 \n",
      "\n",
      "5 5 5 5 5 \n",
      "\n",
      "4 4 4 4 \n",
      "\n",
      "3 3 3 \n",
      "\n",
      "2 2 \n",
      "\n",
      "1 \n",
      "\n"
     ]
    }
   ],
   "source": [
    "\n",
    "for i in range(9,0,-1):\n",
    "    for j in range(i):\n",
    "        print(i,end = \" \")\n",
    "    print('\\n')\n",
    "    \n",
    "    "
   ]
  },
  {
   "cell_type": "code",
   "execution_count": 94,
   "id": "2a878aa6-c25f-4c66-a58c-3c281fb8b05b",
   "metadata": {},
   "outputs": [
    {
     "name": "stdout",
     "output_type": "stream",
     "text": [
      "9\n",
      "8\n",
      "7\n",
      "6\n",
      "5\n",
      "4\n",
      "3\n",
      "2\n",
      "1\n"
     ]
    }
   ],
   "source": [
    "i = 9\n",
    "while i > 0:\n",
    "    print(i)\n",
    "    i-=1"
   ]
  },
  {
   "cell_type": "code",
   "execution_count": 128,
   "id": "c7110f04-8647-4136-9e5b-df2af815e854",
   "metadata": {},
   "outputs": [
    {
     "name": "stdout",
     "output_type": "stream",
     "text": [
      "1 \n",
      "\n",
      "2 2 \n",
      "\n",
      "3 3 3 \n",
      "\n",
      "4 4 4 4 \n",
      "\n",
      "5 5 5 5 5 \n",
      "\n",
      "4 4 4 4 \n",
      "\n",
      "3 3 3 \n",
      "\n",
      "2 2 \n",
      "\n",
      "1 \n",
      "\n"
     ]
    }
   ],
   "source": [
    "for u in range(1,6):\n",
    "    for j in range(u):\n",
    "        print(u,end = \" \")\n",
    "    print('\\n')\n",
    "\n",
    "i = 4\n",
    "while i > 0:\n",
    "        for g in range(i):\n",
    "            print(i, end=\" \")\n",
    "        print('\\n')\n",
    "        i -= 1\n"
   ]
  },
  {
   "cell_type": "code",
   "execution_count": 143,
   "id": "7e56e4a6-97e0-4fab-b0ab-e19409477fc4",
   "metadata": {},
   "outputs": [],
   "source": [
    "def namer():\n",
    "    name = input()\n",
    "    print('Salem  ' + name)"
   ]
  },
  {
   "cell_type": "code",
   "execution_count": 157,
   "id": "43d9a55a-dc29-4609-9e1c-b983a417b1eb",
   "metadata": {},
   "outputs": [
    {
     "name": "stdin",
     "output_type": "stream",
     "text": [
      " Rasul\n"
     ]
    },
    {
     "name": "stdout",
     "output_type": "stream",
     "text": [
      "SalemRasul\n"
     ]
    }
   ],
   "source": [
    "namer()"
   ]
  },
  {
   "cell_type": "code",
   "execution_count": 159,
   "id": "e0098e97-bbf2-4c34-b049-cddcf5e94dc5",
   "metadata": {},
   "outputs": [
    {
     "name": "stdin",
     "output_type": "stream",
     "text": [
      " ras\n"
     ]
    },
    {
     "name": "stdout",
     "output_type": "stream",
     "text": [
      "Salemras\n"
     ]
    }
   ],
   "source": [
    "namer()"
   ]
  },
  {
   "cell_type": "code",
   "execution_count": 161,
   "id": "ef66aedc-1fa7-4e8c-888f-935baecc45ce",
   "metadata": {},
   "outputs": [
    {
     "name": "stdin",
     "output_type": "stream",
     "text": [
      " Rasul\n"
     ]
    },
    {
     "name": "stdout",
     "output_type": "stream",
     "text": [
      "SalemRasul\n"
     ]
    }
   ],
   "source": [
    "namer()"
   ]
  },
  {
   "cell_type": "code",
   "execution_count": 181,
   "id": "70644bb5-d3b4-474b-85bd-e67c227686b3",
   "metadata": {},
   "outputs": [],
   "source": [
    "def caculator(num1, tanba, num2):\n",
    "    if tanba == '+':\n",
    "        print(num1 + num2)\n",
    "    elif tanba == '-':\n",
    "        print(num1 - num2)\n",
    "    elif tanba == '*':\n",
    "        print(num1 * num2)\n",
    "    elif tanba == '/':\n",
    "        print(num1 / num2)"
   ]
  },
  {
   "cell_type": "code",
   "execution_count": 183,
   "id": "4e0b58a6-b69e-4484-ba00-0057ae7f1cb8",
   "metadata": {},
   "outputs": [
    {
     "name": "stdout",
     "output_type": "stream",
     "text": [
      "2\n"
     ]
    }
   ],
   "source": [
    "caculator(1,'+',1)"
   ]
  },
  {
   "cell_type": "code",
   "execution_count": null,
   "id": "16774cdf-5249-4894-b3f9-c6ed6d7a045d",
   "metadata": {},
   "outputs": [],
   "source": []
  }
 ],
 "metadata": {
  "kernelspec": {
   "display_name": "Python 3 (ipykernel)",
   "language": "python",
   "name": "python3"
  },
  "language_info": {
   "codemirror_mode": {
    "name": "ipython",
    "version": 3
   },
   "file_extension": ".py",
   "mimetype": "text/x-python",
   "name": "python",
   "nbconvert_exporter": "python",
   "pygments_lexer": "ipython3",
   "version": "3.12.4"
  }
 },
 "nbformat": 4,
 "nbformat_minor": 5
}
