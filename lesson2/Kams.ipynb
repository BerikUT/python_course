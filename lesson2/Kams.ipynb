{
 "cells": [
  {
   "cell_type": "code",
   "execution_count": 2,
   "id": "4297faf4-53cd-46a1-b918-d5138b26303b",
   "metadata": {},
   "outputs": [
    {
     "name": "stdout",
     "output_type": "stream",
     "text": [
      "alma\n",
      "almurt\n",
      "banana\n",
      "alma\n",
      "almurt\n",
      "banana\n",
      "alma\n",
      "almurt\n",
      "banana\n"
     ]
    }
   ],
   "source": [
    "fruit = ['alma', 'almurt', 'banana']\n",
    "\n",
    "for i in range(3):\n",
    "    for n in fruit:\n",
    "        print(n)\n"
   ]
  },
  {
   "cell_type": "code",
   "execution_count": 7,
   "id": "000b998d-1cb8-4210-b248-1bc07543ad91",
   "metadata": {},
   "outputs": [
    {
     "name": "stdin",
     "output_type": "stream",
     "text": [
      "бірінші сан:  5\n",
      "таңба еңгізіңіз (+, -, *, /):  +\n",
      "екінші сан:  6\n"
     ]
    },
    {
     "name": "stdout",
     "output_type": "stream",
     "text": [
      "11\n"
     ]
    }
   ],
   "source": [
    "x = int(input(\"бірінші сан: \"))\n",
    "a = input(\"таңба еңгізіңіз (+, -, *, /): \")\n",
    "y = int(input(\"екінші сан: \"))\n",
    "\n",
    "if a == \"+\":\n",
    "    print(x + y)\n",
    "elif a == \"-\":\n",
    "    print(x - y)\n",
    "elif a == \"*\":\n",
    "    print(x * y)\n",
    "elif a == \"/\":\n",
    "    if y != 0:  # Проверка на деление на ноль\n",
    "        print(x / y)\n",
    "    else:\n",
    "        print(\"Қате: нөлге бөлу мүмкін емес!\")\n",
    "else:\n",
    "    print(\"Қате: қол жетімді таңбаны енгізіңіз (+, -, *, /)\")\n"
   ]
  },
  {
   "cell_type": "code",
   "execution_count": null,
   "id": "dd4f7854-ec21-456d-b00a-4321f463944c",
   "metadata": {},
   "outputs": [],
   "source": []
  },
  {
   "cell_type": "code",
   "execution_count": 2,
   "id": "bcaf96bf-1564-4680-9b63-9f9ac461579f",
   "metadata": {},
   "outputs": [
    {
     "name": "stdout",
     "output_type": "stream",
     "text": [
      "alma\n",
      "almurt\n",
      "banana\n",
      "alma\n",
      "almurt\n",
      "banana\n",
      "alma\n",
      "almurt\n",
      "banana\n"
     ]
    }
   ],
   "source": [
    "fruit = ['alma', 'almurt', 'banana']\n",
    "\n",
    "for i in range(3):\n",
    "    for n in fruit:\n",
    "        print(n)\n"
   ]
  },
  {
   "cell_type": "code",
   "execution_count": null,
   "id": "8734527f-0e48-44d0-b82a-253fc1e004af",
   "metadata": {},
   "outputs": [
    {
     "name": "stdin",
     "output_type": "stream",
     "text": [
      "бірінші сан:  5\n",
      "таңба еңгізіңіз (+, -, *, /), немесе exit:  *\n",
      "екінші сан:  3\n"
     ]
    },
    {
     "name": "stdout",
     "output_type": "stream",
     "text": [
      "15\n"
     ]
    }
   ],
   "source": [
    "while True:\n",
    "    x = int(input(\"бірінші сан: \"))\n",
    "    a = input(\"таңба еңгізіңіз (+, -, *, /), немесе exit: \")\n",
    "    if a == \"exit\":\n",
    "            break\n",
    "    y = int(input(\"екінші сан: \"))\n",
    "\n",
    "\n",
    "    if a == \"+\":\n",
    "        print(x + y)\n",
    "    elif a == \"-\":\n",
    "        print(x - y)\n",
    "    elif a == \"*\":\n",
    "        print(x * y)\n",
    "    elif a == \"/\":\n",
    "        if y != 0:  # Проверка на деление на ноль\n",
    "            print(x / y)\n",
    "        else:\n",
    "            print(\"Қате: нөлге бөлу мүмкін емес!\")\n",
    "    else:\n",
    "        print(\"Қате: қол жетімді таңбаны енгізіңіз (+, -, *, /)\")"
   ]
  },
  {
   "cell_type": "code",
   "execution_count": null,
   "id": "308e571c-f5c5-432e-95f0-c442efa03b24",
   "metadata": {},
   "outputs": [],
   "source": []
  }
 ],
 "metadata": {
  "kernelspec": {
   "display_name": "Python 3 (ipykernel)",
   "language": "python",
   "name": "python3"
  },
  "language_info": {
   "codemirror_mode": {
    "name": "ipython",
    "version": 3
   },
   "file_extension": ".py",
   "mimetype": "text/x-python",
   "name": "python",
   "nbconvert_exporter": "python",
   "pygments_lexer": "ipython3",
   "version": "3.12.4"
  }
 },
 "nbformat": 4,
 "nbformat_minor": 5
}
