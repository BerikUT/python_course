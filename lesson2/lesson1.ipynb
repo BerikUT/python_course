{
 "cells": [
  {
   "cell_type": "code",
   "execution_count": 1,
   "id": "6c9ecb11-3f5c-4bc5-9104-2830d5754c29",
   "metadata": {},
   "outputs": [
    {
     "name": "stdout",
     "output_type": "stream",
     "text": [
      "5\n"
     ]
    }
   ],
   "source": [
    "print(2+3)"
   ]
  },
  {
   "cell_type": "code",
   "execution_count": 3,
   "id": "88233b1a-c5c9-4bee-abdf-a6c036f46dd0",
   "metadata": {},
   "outputs": [
    {
     "name": "stdin",
     "output_type": "stream",
     "text": [
      "сан енгіз 45\n"
     ]
    }
   ],
   "source": [
    "user_input = input(\"сан енгіз\")"
   ]
  },
  {
   "cell_type": "code",
   "execution_count": 5,
   "id": "c1ff75ef-eade-49c0-b7a3-1908b72b9e5c",
   "metadata": {},
   "outputs": [
    {
     "name": "stdin",
     "output_type": "stream",
     "text": [
      "сан енгіз:  45\n"
     ]
    }
   ],
   "source": [
    "user_input = input(\"сан енгіз: \")\n",
    "number = int(user_input)"
   ]
  },
  {
   "cell_type": "code",
   "execution_count": 7,
   "id": "33bd39aa-7257-4649-940d-c80c85afe3d6",
   "metadata": {},
   "outputs": [
    {
     "name": "stdin",
     "output_type": "stream",
     "text": [
      "сан енгіз:  45\n",
      "2- інші сан енгіз:  65\n"
     ]
    },
    {
     "name": "stdout",
     "output_type": "stream",
     "text": [
      "45 65\n"
     ]
    }
   ],
   "source": [
    "user_input = input(\"сан енгіз: \")\n",
    "number = int(user_input)\n",
    "user_input2 = input(\"2- інші сан енгіз: \")\n",
    "number = int(user_input2)\n",
    "print(user_input, user_input2)"
   ]
  },
  {
   "cell_type": "code",
   "execution_count": 9,
   "id": "94239de5-1888-41dd-9df4-ac7310c87e05",
   "metadata": {},
   "outputs": [
    {
     "name": "stdin",
     "output_type": "stream",
     "text": [
      "сан енгіз:  45\n",
      "2- інші сан енгіз:  65\n"
     ]
    },
    {
     "name": "stdout",
     "output_type": "stream",
     "text": [
      "4565\n"
     ]
    }
   ],
   "source": [
    "user_input = input(\"сан енгіз: \")\n",
    "number = int(user_input)\n",
    "user_input2 = input(\"2- інші сан енгіз: \")\n",
    "number = int(user_input2)\n",
    "print(user_input+ user_input2)"
   ]
  },
  {
   "cell_type": "code",
   "execution_count": 11,
   "id": "a426c03f-fc9a-4eb3-bef7-a0549818708b",
   "metadata": {},
   "outputs": [
    {
     "name": "stdin",
     "output_type": "stream",
     "text": [
      "сан енгіз:  45\n",
      "2- інші сан енгіз:  65\n"
     ]
    },
    {
     "name": "stdout",
     "output_type": "stream",
     "text": [
      "110\n"
     ]
    }
   ],
   "source": [
    "user_input = input(\"сан енгіз: \")\n",
    "number = int(user_input)\n",
    "user_input2 = input(\"2- інші сан енгіз: \")\n",
    "number2 = int(user_input2)\n",
    "print(number+ number2)"
   ]
  },
  {
   "cell_type": "code",
   "execution_count": 13,
   "id": "2eb4ba3d-89fc-4b86-9ded-f5ef6fe80b2d",
   "metadata": {},
   "outputs": [
    {
     "ename": "SyntaxError",
     "evalue": "expected ':' (3058037656.py, line 13)",
     "output_type": "error",
     "traceback": [
      "\u001b[1;36m  Cell \u001b[1;32mIn[13], line 13\u001b[1;36m\u001b[0m\n\u001b[1;33m    else ( sign =='/' ):\u001b[0m\n\u001b[1;37m         ^\u001b[0m\n\u001b[1;31mSyntaxError\u001b[0m\u001b[1;31m:\u001b[0m expected ':'\n"
     ]
    }
   ],
   "source": [
    "user_input = input(\"сан енгіз: \")\n",
    "number = int(user_input)\n",
    "user_input2 = input(\"2- інші сан енгіз: \")\n",
    "number2 = int(user_input2)\n",
    "user_input3 = input(\"таңба енгіз: \")\n",
    "sign = int(user_input3)\n",
    "if ( sign =='+' ):\n",
    "    print(number+ number2)\n",
    "elif ( sign =='-' ):\n",
    "    print(number - number2)\n",
    "elif ( sign =='*' ):\n",
    "    print(number * number2)\n",
    "else ( sign =='/' ):\n",
    "    print(number  number2)\n"
   ]
  },
  {
   "cell_type": "code",
   "execution_count": 15,
   "id": "5bcf3d39-8e71-4279-90ea-b94880618548",
   "metadata": {},
   "outputs": [
    {
     "ename": "SyntaxError",
     "evalue": "expected ':' (1538833460.py, line 13)",
     "output_type": "error",
     "traceback": [
      "\u001b[1;36m  Cell \u001b[1;32mIn[15], line 13\u001b[1;36m\u001b[0m\n\u001b[1;33m    else ( sign =='/' ):\u001b[0m\n\u001b[1;37m         ^\u001b[0m\n\u001b[1;31mSyntaxError\u001b[0m\u001b[1;31m:\u001b[0m expected ':'\n"
     ]
    }
   ],
   "source": [
    "user_input = input(\"сан енгіз: \")\n",
    "number = int(user_input)\n",
    "user_input2 = input(\"2- інші сан енгіз: \")\n",
    "number2 = int(user_input2)\n",
    "user_input3 = input(\"таңба енгіз: \")\n",
    "sign = int(user_input3)\n",
    "if ( sign =='+' ):\n",
    "    print(number+ number2)\n",
    "elif ( sign =='-' ):\n",
    "    print(number - number2)\n",
    "elif ( sign =='*' ):\n",
    "    print(number * number2)\n",
    "else ( sign =='/' ):\n",
    "    print(number * number2)"
   ]
  },
  {
   "cell_type": "code",
   "execution_count": 17,
   "id": "f2b7c257-450f-4fdb-bf8f-0970bb556c09",
   "metadata": {},
   "outputs": [
    {
     "name": "stdin",
     "output_type": "stream",
     "text": [
      "сан енгіз:  15\n",
      "2- інші сан енгіз:  5\n",
      "таңба енгіз:  -\n"
     ]
    },
    {
     "ename": "ValueError",
     "evalue": "invalid literal for int() with base 10: '-'",
     "output_type": "error",
     "traceback": [
      "\u001b[1;31m---------------------------------------------------------------------------\u001b[0m",
      "\u001b[1;31mValueError\u001b[0m                                Traceback (most recent call last)",
      "Cell \u001b[1;32mIn[17], line 6\u001b[0m\n\u001b[0;32m      4\u001b[0m number2 \u001b[38;5;241m=\u001b[39m \u001b[38;5;28mint\u001b[39m(user_input2)\n\u001b[0;32m      5\u001b[0m user_input3 \u001b[38;5;241m=\u001b[39m \u001b[38;5;28minput\u001b[39m(\u001b[38;5;124m\"\u001b[39m\u001b[38;5;124mтаңба енгіз: \u001b[39m\u001b[38;5;124m\"\u001b[39m)\n\u001b[1;32m----> 6\u001b[0m sign \u001b[38;5;241m=\u001b[39m \u001b[38;5;28mint\u001b[39m(user_input3)\n\u001b[0;32m      7\u001b[0m \u001b[38;5;28;01mif\u001b[39;00m ( sign \u001b[38;5;241m==\u001b[39m\u001b[38;5;124m'\u001b[39m\u001b[38;5;124m+\u001b[39m\u001b[38;5;124m'\u001b[39m ):\n\u001b[0;32m      8\u001b[0m     \u001b[38;5;28mprint\u001b[39m(number\u001b[38;5;241m+\u001b[39m number2)\n",
      "\u001b[1;31mValueError\u001b[0m: invalid literal for int() with base 10: '-'"
     ]
    }
   ],
   "source": [
    "user_input = input(\"сан енгіз: \")\n",
    "number = int(user_input)\n",
    "user_input2 = input(\"2- інші сан енгіз: \")\n",
    "number2 = int(user_input2)\n",
    "user_input3 = input(\"таңба енгіз: \")\n",
    "sign = int(user_input3)\n",
    "if ( sign =='+' ):\n",
    "    print(number+ number2)\n",
    "elif ( sign =='-' ):\n",
    "    print(number - number2)\n",
    "elif ( sign =='*' ):\n",
    "    print(number * number2)\n",
    "elif ( sign =='/' ):\n",
    "    print(number * number2)"
   ]
  },
  {
   "cell_type": "code",
   "execution_count": 25,
   "id": "6f9495ae-a006-4040-884c-d374dfbe86e0",
   "metadata": {},
   "outputs": [
    {
     "name": "stdin",
     "output_type": "stream",
     "text": [
      "сан енгіз:  50\n",
      "2- інші сан енгіз:  25\n",
      "таңба енгіз:  /\n"
     ]
    },
    {
     "name": "stdout",
     "output_type": "stream",
     "text": [
      "1250\n"
     ]
    }
   ],
   "source": [
    "user_input = input(\"сан енгіз: \")\n",
    "number = int(user_input)\n",
    "user_input2 = input(\"2- інші сан енгіз: \")\n",
    "number2 = int(user_input2)\n",
    "user_input3 = input(\"таңба енгіз: \")\n",
    "\n",
    "if ( user_input3 =='+' ):\n",
    "    print(number+ number2)\n",
    "elif ( user_input3 =='-' ):\n",
    "    print(number - number2)\n",
    "elif ( user_input3 =='*' ):\n",
    "    print(number * number2)\n",
    "elif ( user_input3 =='/' ):\n",
    "    print(number * number2)"
   ]
  },
  {
   "cell_type": "code",
   "execution_count": 29,
   "id": "111cd96c-c7b4-4ed7-9ce4-5b1769791e46",
   "metadata": {},
   "outputs": [
    {
     "name": "stdin",
     "output_type": "stream",
     "text": [
      "сан енгіз:  15\n",
      "2- інші сан енгіз:  5\n",
      "таңба енгіз:  /\n"
     ]
    },
    {
     "name": "stdout",
     "output_type": "stream",
     "text": [
      "3.0\n"
     ]
    }
   ],
   "source": [
    "user_input = input(\"сан енгіз: \")\n",
    "number = int(user_input)\n",
    "user_input2 = input(\"2- інші сан енгіз: \")\n",
    "number2 = int(user_input2)\n",
    "user_input3 = input(\"таңба енгіз: \")\n",
    "\n",
    "if ( user_input3 =='+' ):\n",
    "    print(number+ number2)\n",
    "elif ( user_input3 =='-' ):\n",
    "    print(number - number2)\n",
    "elif ( user_input3 =='*' ):\n",
    "    print(number * number2)\n",
    "elif ( user_input3 =='/' ):\n",
    "    print(number / number2)"
   ]
  },
  {
   "cell_type": "code",
   "execution_count": null,
   "id": "9909c1d2-81c1-4afa-8e0d-2eaaf2b15437",
   "metadata": {},
   "outputs": [],
   "source": [
    "user_input = input(\"сан енгіз: \")\n",
    "number = int(user_input)\n",
    "user_input2 = input(\"2- інші сан енгіз: \")\n",
    "number2 = int(user_input2)\n",
    "user_input3 = input(\"таңба енгіз: \")\n",
    "\n",
    "if ( user_input3 =='+' ):\n",
    "    print(number+ number2)\n",
    "elif ( user_input3 =='-' ):\n",
    "    print(number - number2)\n",
    "elif ( user_input3 =='*' ):\n",
    "    print(number * number2)\n",
    "else ( user_input3 =='/' ):\n",
    "    print(number / number2)"
   ]
  }
 ],
 "metadata": {
  "kernelspec": {
   "display_name": "Python 3 (ipykernel)",
   "language": "python",
   "name": "python3"
  },
  "language_info": {
   "codemirror_mode": {
    "name": "ipython",
    "version": 3
   },
   "file_extension": ".py",
   "mimetype": "text/x-python",
   "name": "python",
   "nbconvert_exporter": "python",
   "pygments_lexer": "ipython3",
   "version": "3.12.4"
  }
 },
 "nbformat": 4,
 "nbformat_minor": 5
}
