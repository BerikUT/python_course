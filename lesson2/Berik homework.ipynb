{
 "cells": [
  {
   "cell_type": "code",
   "execution_count": 3,
   "id": "d4d1298e-f7c2-4f2e-b012-961069eb43c0",
   "metadata": {},
   "outputs": [
    {
     "name": "stdout",
     "output_type": "stream",
     "text": [
      "salem alem\n"
     ]
    }
   ],
   "source": [
    "print('salem alem')"
   ]
  },
  {
   "cell_type": "code",
   "execution_count": 5,
   "id": "08b9d937-258f-4993-9554-f60f56a72196",
   "metadata": {},
   "outputs": [
    {
     "name": "stdout",
     "output_type": "stream",
     "text": [
      "salem beibarys\n"
     ]
    }
   ],
   "source": [
    "print('salem beibarys')"
   ]
  },
  {
   "cell_type": "code",
   "execution_count": 7,
   "id": "10833389-7fba-4245-91d3-c4f449a5b32c",
   "metadata": {},
   "outputs": [
    {
     "name": "stdout",
     "output_type": "stream",
     "text": [
      "67\n"
     ]
    }
   ],
   "source": [
    "print(12+11*5)"
   ]
  },
  {
   "cell_type": "code",
   "execution_count": 9,
   "id": "ac80bf48-91c0-497a-a22b-ab63e1d63b33",
   "metadata": {},
   "outputs": [
    {
     "name": "stdout",
     "output_type": "stream",
     "text": [
      "10\n"
     ]
    }
   ],
   "source": [
    "i=5\n",
    "j=8\n",
    "k=3\n",
    "print(i+j-k)"
   ]
  },
  {
   "cell_type": "code",
   "execution_count": 11,
   "id": "fb1fae45-110d-40ae-87aa-9fe3afd8b25d",
   "metadata": {},
   "outputs": [
    {
     "name": "stdin",
     "output_type": "stream",
     "text": [
      "san engiziniz 5\n"
     ]
    }
   ],
   "source": [
    "user_input=input('san engiziniz')\n",
    "number=int(user_input)"
   ]
  },
  {
   "cell_type": "code",
   "execution_count": 20,
   "id": "01546d83-890f-4c70-9d84-7181daec6fac",
   "metadata": {},
   "outputs": [
    {
     "name": "stdin",
     "output_type": "stream",
     "text": [
      "san engiziniz: 4\n",
      "ekinshi san engiziniz: 8\n"
     ]
    },
    {
     "name": "stdout",
     "output_type": "stream",
     "text": [
      "olardyn kosyndysy:\n",
      "12\n"
     ]
    }
   ],
   "source": [
    "user_input=input('san engiziniz:')\n",
    "number=int(user_input)\n",
    "user_input2=input('ekinshi san engiziniz:')\n",
    "number2=int(user_input2)\n",
    "print('olardyn kosyndysy:')\n",
    "print(number+number2)"
   ]
  },
  {
   "cell_type": "code",
   "execution_count": 42,
   "id": "95652019-b84d-442d-a982-08165477a196",
   "metadata": {},
   "outputs": [
    {
     "name": "stdin",
     "output_type": "stream",
     "text": [
      "san engiziniz: 6\n",
      "tanba engizemis: -\n",
      "ekinshi san engiziniz: 6\n"
     ]
    },
    {
     "name": "stdout",
     "output_type": "stream",
     "text": [
      "0\n"
     ]
    }
   ],
   "source": [
    "user_input=input('san engiziniz:')\n",
    "number=int(user_input)\n",
    "user_input3=input('tanba engizemis:')\n",
    "user_input2=input('ekinshi san engiziniz:')\n",
    "number2=int(user_input2)\n",
    "if(user_input3=='+'):\n",
    "    print(number+number2)\n",
    "elif(user_input3=='-'):\n",
    "    print(number-number2)"
   ]
  },
  {
   "cell_type": "code",
   "execution_count": 52,
   "id": "a5ad015e-a91b-477d-b80c-0e50d0572e62",
   "metadata": {},
   "outputs": [
    {
     "name": "stdout",
     "output_type": "stream",
     "text": [
      "almurt\n",
      "alma\n",
      "kiwi\n",
      "almurt\n",
      "alma\n",
      "kiwi\n",
      "almurt\n",
      "alma\n",
      "kiwi\n",
      "almurt\n",
      "alma\n",
      "kiwi\n",
      "almurt\n",
      "alma\n",
      "kiwi\n"
     ]
    }
   ],
   "source": [
    "sandyq=['almurt','alma','kiwi']\n",
    "for i in range(5):\n",
    "    for zat in sandyq:\n",
    "        print(zat)"
   ]
  },
  {
   "cell_type": "code",
   "execution_count": 9,
   "id": "5ebd61c3-a28d-4cf4-97a1-b6aa72c57d51",
   "metadata": {},
   "outputs": [
    {
     "name": "stdin",
     "output_type": "stream",
     "text": [
      "san engiziniz: 2\n",
      "tanba engizemis: +\n",
      "ekinshi san engiziniz: 2\n"
     ]
    },
    {
     "name": "stdout",
     "output_type": "stream",
     "text": [
      "4\n"
     ]
    },
    {
     "name": "stdin",
     "output_type": "stream",
     "text": [
      "san engiziniz: 4\n",
      "tanba engizemis: -\n",
      "ekinshi san engiziniz: 4\n"
     ]
    },
    {
     "name": "stdout",
     "output_type": "stream",
     "text": [
      "0\n"
     ]
    },
    {
     "name": "stdin",
     "output_type": "stream",
     "text": [
      "san engiziniz: 3\n",
      "tanba engizemis: *\n",
      "ekinshi san engiziniz: 3\n"
     ]
    },
    {
     "name": "stdout",
     "output_type": "stream",
     "text": [
      "9\n"
     ]
    },
    {
     "name": "stdin",
     "output_type": "stream",
     "text": [
      "san engiziniz: 8\n",
      "tanba engizemis: /\n",
      "ekinshi san engiziniz: 4\n"
     ]
    },
    {
     "name": "stdout",
     "output_type": "stream",
     "text": [
      "2.0\n"
     ]
    },
    {
     "name": "stdin",
     "output_type": "stream",
     "text": [
      "san engiziniz: 5\n",
      "tanba engizemis: !\n",
      "ekinshi san engiziniz: 5\n"
     ]
    }
   ],
   "source": [
    "for i in range(1000):\n",
    "    user_input=input('san engiziniz:')\n",
    "    number=int(user_input)\n",
    "    user_input3=input('tanba engizemis:')\n",
    "    user_input2=input('ekinshi san engiziniz:')\n",
    "    number2=int(user_input2)\n",
    "    if(user_input3=='+'):\n",
    "        print(number+number2)\n",
    "    elif(user_input3=='-'):\n",
    "        print(number-number2)\n",
    "    elif(user_input3=='*'):\n",
    "        print(number*number2)\n",
    "    elif(user_input3=='/'):\n",
    "        print(number/number2)\n",
    "    elif(user_input3=='!'):\n",
    "        break"
   ]
  },
  {
   "cell_type": "code",
   "execution_count": 3,
   "id": "9c5a7da9-657b-4d94-8d0b-82faa2f218eb",
   "metadata": {},
   "outputs": [
    {
     "name": "stdin",
     "output_type": "stream",
     "text": [
      "Jyldy engiziniz:  1980\n"
     ]
    },
    {
     "name": "stdout",
     "output_type": "stream",
     "text": [
      "kibise\n"
     ]
    }
   ],
   "source": [
    "Jyl = int(input('Jyldy engiziniz: '))\n",
    "if Jyl % 4 == 0:\n",
    "    print('kibise')\n",
    "else:\n",
    "    print('kibise emes')"
   ]
  },
  {
   "cell_type": "code",
   "execution_count": 6,
   "id": "c4cebd8e-fc66-4833-9c73-c0d2933e0be7",
   "metadata": {},
   "outputs": [
    {
     "name": "stdin",
     "output_type": "stream",
     "text": [
      "San engiziniz:  6\n"
     ]
    },
    {
     "name": "stdout",
     "output_type": "stream",
     "text": [
      "36\n"
     ]
    }
   ],
   "source": [
    "San = int(input('San engiziniz: '))\n",
    "a = San**2\n",
    "print(a)"
   ]
  },
  {
   "cell_type": "code",
   "execution_count": 7,
   "id": "11ace59b-ca70-4c49-b0b8-c094d4656fb9",
   "metadata": {},
   "outputs": [
    {
     "name": "stdin",
     "output_type": "stream",
     "text": [
      "1 san engiziniz:  4\n",
      "2 san engiziniz:  2\n"
     ]
    },
    {
     "name": "stdout",
     "output_type": "stream",
     "text": [
      "16\n"
     ]
    }
   ],
   "source": [
    "San1 = int(input('1 san engiziniz: '))\n",
    "San2 = int(input('2 san engiziniz: '))\n",
    "natije = San1**San2\n",
    "print(natije)"
   ]
  },
  {
   "cell_type": "code",
   "execution_count": null,
   "id": "a6e2e836-b8b7-45ba-88ca-00b9b0c29b19",
   "metadata": {},
   "outputs": [],
   "source": []
  }
 ],
 "metadata": {
  "kernelspec": {
   "display_name": "Python 3 (ipykernel)",
   "language": "python",
   "name": "python3"
  },
  "language_info": {
   "codemirror_mode": {
    "name": "ipython",
    "version": 3
   },
   "file_extension": ".py",
   "mimetype": "text/x-python",
   "name": "python",
   "nbconvert_exporter": "python",
   "pygments_lexer": "ipython3",
   "version": "3.12.4"
  }
 },
 "nbformat": 4,
 "nbformat_minor": 5
}
