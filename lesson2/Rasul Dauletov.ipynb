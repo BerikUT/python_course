{
 "cells": [
  {
   "cell_type": "code",
   "execution_count": 1,
   "id": "62346a7c-9442-45c8-9f6d-971e3596730e",
   "metadata": {},
   "outputs": [
    {
     "name": "stdout",
     "output_type": "stream",
     "text": [
      "salem alem\n"
     ]
    }
   ],
   "source": [
    "print ('salem alem')"
   ]
  },
  {
   "cell_type": "code",
   "execution_count": 3,
   "id": "bcca6ad6-cfbf-44e5-ab78-b10f870f6734",
   "metadata": {},
   "outputs": [
    {
     "name": "stdout",
     "output_type": "stream",
     "text": [
      "salem Rasul\n"
     ]
    }
   ],
   "source": [
    "print ('salem Rasul')"
   ]
  },
  {
   "cell_type": "code",
   "execution_count": 5,
   "id": "38aff1c4-a8f5-48f6-bd98-65850a8caa43",
   "metadata": {},
   "outputs": [
    {
     "name": "stdout",
     "output_type": "stream",
     "text": [
      "2\n"
     ]
    }
   ],
   "source": [
    "print (1 + 1)"
   ]
  },
  {
   "cell_type": "code",
   "execution_count": 7,
   "id": "ad0b9b57-4b8f-43e7-bd23-483aa4f4fb66",
   "metadata": {},
   "outputs": [
    {
     "name": "stdout",
     "output_type": "stream",
     "text": [
      "20\n"
     ]
    }
   ],
   "source": [
    "print (2+2*9)"
   ]
  },
  {
   "cell_type": "code",
   "execution_count": 9,
   "id": "540768c4-0094-4a18-a2a0-c1d89c37b98b",
   "metadata": {},
   "outputs": [],
   "source": [
    "i = 10 "
   ]
  },
  {
   "cell_type": "code",
   "execution_count": 11,
   "id": "c3d45b8e-f8b1-4716-999d-d0dd3ea599b1",
   "metadata": {},
   "outputs": [],
   "source": [
    "a = 20 "
   ]
  },
  {
   "cell_type": "code",
   "execution_count": 13,
   "id": "8f798815-df6f-449b-9551-dfc4185da037",
   "metadata": {},
   "outputs": [
    {
     "name": "stdout",
     "output_type": "stream",
     "text": [
      "30\n"
     ]
    }
   ],
   "source": [
    "print (i + a )"
   ]
  },
  {
   "cell_type": "code",
   "execution_count": 15,
   "id": "2732b965-04ce-4b88-8b7b-39ce2fa8edf3",
   "metadata": {},
   "outputs": [],
   "source": [
    "i = 'salem'"
   ]
  },
  {
   "cell_type": "code",
   "execution_count": 17,
   "id": "5f8fd793-8c83-4150-af0d-f52f28a736d9",
   "metadata": {},
   "outputs": [],
   "source": [
    "a = 'Alem '"
   ]
  },
  {
   "cell_type": "code",
   "execution_count": 19,
   "id": "782be3a4-8795-46b8-9651-bbc66248ddd9",
   "metadata": {},
   "outputs": [
    {
     "name": "stdout",
     "output_type": "stream",
     "text": [
      "salem Alem \n"
     ]
    }
   ],
   "source": [
    "print(i + \" \" + a)"
   ]
  },
  {
   "cell_type": "code",
   "execution_count": 23,
   "id": "0bcca0b3-707f-4026-9b02-086999e98809",
   "metadata": {},
   "outputs": [
    {
     "name": "stdin",
     "output_type": "stream",
     "text": [
      "Введите число:   2\n",
      "Введите второе число:   2\n"
     ]
    },
    {
     "name": "stdout",
     "output_type": "stream",
     "text": [
      "4\n"
     ]
    }
   ],
   "source": [
    "user_input = input('Введите число:  ' )\n",
    "number = int(user_input)\n",
    "user_input2 = input('Введите второе число:  ')\n",
    "number2 = int(user_input2)\n",
    "print(number + number2)"
   ]
  },
  {
   "cell_type": "code",
   "execution_count": 29,
   "id": "3889c001-50cc-41f8-b16b-1cdc2a9ae3ae",
   "metadata": {},
   "outputs": [
    {
     "name": "stdin",
     "output_type": "stream",
     "text": [
      "Введите число:   6\n",
      "Введите значение:   *\n",
      "Введите второе число:   6\n"
     ]
    },
    {
     "name": "stdout",
     "output_type": "stream",
     "text": [
      "36\n"
     ]
    }
   ],
   "source": [
    "user_input = input('Введите число:  ' )\n",
    "number = int(user_input)\n",
    "\n",
    "user_input3 = input('Введите значение:  ')\n",
    "\n",
    "user_input2 = input('Введите второе число:  ')\n",
    "number2 = int(user_input2)\n",
    "\n",
    "if(user_input3 == '+'):\n",
    "    print(number + number2 )\n",
    "elif(user_input3 == '-'):\n",
    "    print(number - number2 )\n",
    "elif(user_input3 == '*'):\n",
    "    print(number * number2 )\n",
    "elif(user_input3 == '/'):\n",
    "    print(number / number2 )"
   ]
  },
  {
   "cell_type": "code",
   "execution_count": 31,
   "id": "531406c8-7829-4e27-9425-c8596f5551fd",
   "metadata": {},
   "outputs": [
    {
     "name": "stdout",
     "output_type": "stream",
     "text": [
      "alma\n",
      "almurt\n",
      "banan\n"
     ]
    }
   ],
   "source": [
    "sunduk = ['alma', 'almurt', 'banan']\n",
    "for veshi in sunduk:\n",
    "    print(veshi)"
   ]
  },
  {
   "cell_type": "code",
   "execution_count": 35,
   "id": "f3d838ad-a675-451f-815e-378374ad7f63",
   "metadata": {},
   "outputs": [
    {
     "name": "stdout",
     "output_type": "stream",
     "text": [
      "alma\n",
      "almurt\n",
      "banan\n",
      "alma\n",
      "almurt\n",
      "banan\n",
      "alma\n",
      "almurt\n",
      "banan\n",
      "alma\n",
      "almurt\n",
      "banan\n",
      "alma\n",
      "almurt\n",
      "banan\n"
     ]
    }
   ],
   "source": [
    "sunduk = ['alma', 'almurt', 'banan']\n",
    "for i in range (5): \n",
    "    for veshi in sunduk:\n",
    "        print(veshi)"
   ]
  },
  {
   "cell_type": "code",
   "execution_count": 45,
   "id": "5fc5eb05-80bb-4ee9-88bb-799291c2013a",
   "metadata": {},
   "outputs": [
    {
     "ename": "SyntaxError",
     "evalue": "invalid syntax. Maybe you meant '==' or ':=' instead of '='? (4209065132.py, line 16)",
     "output_type": "error",
     "traceback": [
      "\u001b[1;36m  Cell \u001b[1;32mIn[45], line 16\u001b[1;36m\u001b[0m\n\u001b[1;33m    elif(user_input3 = '!'):\u001b[0m\n\u001b[1;37m         ^\u001b[0m\n\u001b[1;31mSyntaxError\u001b[0m\u001b[1;31m:\u001b[0m invalid syntax. Maybe you meant '==' or ':=' instead of '='?\n"
     ]
    }
   ],
   "source": [
    "for i in range (100):\n",
    "    user_input = input('Введите число:  ' )\n",
    "    number = int(user_input)\n",
    "\n",
    "    user_input3 = input('Введите значение:  ')\n",
    "\n",
    "    user_input2 = input('Введите второе число:  ')\n",
    "    number2 = int(user_input2)\n",
    "\n",
    "    if(user_input3 == '+'):\n",
    "        print(number + number2 )\n",
    "    elif(user_input3 == '-'):\n",
    "        print(number - number2 )\n",
    "    elif(user_input3 == '*'):\n",
    "        print(number * number2 )\n",
    "    elif(user_input3 = '!' ):\n",
    "        break"
   ]
  },
  {
   "cell_type": "code",
   "execution_count": 41,
   "id": "75c09578-53a2-435a-b68e-5f1cc27733d0",
   "metadata": {},
   "outputs": [
    {
     "name": "stdin",
     "output_type": "stream",
     "text": [
      "Введите число:   1\n",
      "Введите значение:   +\n",
      "Введите второе число:   1\n"
     ]
    },
    {
     "name": "stdout",
     "output_type": "stream",
     "text": [
      "2\n"
     ]
    }
   ],
   "source": [
    "user_input = input('Введите число:  ' )\n",
    "number = int(user_input)\n",
    "\n",
    "user_input3 = input('Введите значение:  ')\n",
    "\n",
    "user_input2 = input('Введите второе число:  ')\n",
    "number2 = int(user_input2)\n",
    "\n",
    "if(user_input3 == '+'):\n",
    "    print(number + number2 )\n",
    "elif(user_input3 == '-'):\n",
    "    print(number - number2 )\n",
    "elif(user_input3 == '*'):\n",
    "    print(number * number2 )\n",
    "elif(user_input3 == '/'):\n",
    "    print(number / number2 )"
   ]
  },
  {
   "cell_type": "code",
   "execution_count": null,
   "id": "926e5e9d-c865-4c60-9dd4-8e68c7291a31",
   "metadata": {},
   "outputs": [],
   "source": []
  }
 ],
 "metadata": {
  "kernelspec": {
   "display_name": "Python 3 (ipykernel)",
   "language": "python",
   "name": "python3"
  },
  "language_info": {
   "codemirror_mode": {
    "name": "ipython",
    "version": 3
   },
   "file_extension": ".py",
   "mimetype": "text/x-python",
   "name": "python",
   "nbconvert_exporter": "python",
   "pygments_lexer": "ipython3",
   "version": "3.12.4"
  }
 },
 "nbformat": 4,
 "nbformat_minor": 5
}
