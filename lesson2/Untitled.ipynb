{
 "cells": [
  {
   "cell_type": "code",
   "execution_count": null,
   "id": "b71492a8-2ddf-473e-8509-bb4f6a688794",
   "metadata": {},
   "outputs": [],
   "source": []
  },
  {
   "cell_type": "code",
   "execution_count": 1,
   "id": "69ee8318-dc74-410c-a68b-de81ad595011",
   "metadata": {},
   "outputs": [],
   "source": [
    "fruit = ['alma', 'almurt', 'banana']\n",
    "\n",
    "for i in range(3):\n",
    "    for n in fruit:\n",
    "        print(n)\n",
    "\n"
   ]
  },
  {
   "cell_type": "code",
   "execution_count": 1,
   "id": "a29398ce-4c30-4306-b76b-1665e9bbed0e",
   "metadata": {},
   "outputs": [],
   "source": [
    "fruit = ['alma', 'almurt', 'banana']\n",
    "\n",
    "for i in range(3):\n",
    "    for n in fruit:\n",
    "        print(n)\n",
    "\n"
   ]
  }
 ],
 "metadata": {
  "kernelspec": {
   "display_name": "Python 3 (ipykernel)",
   "language": "python",
   "name": "python3"
  },
  "language_info": {
   "codemirror_mode": {
    "name": "ipython",
    "version": 3
   },
   "file_extension": ".py",
   "mimetype": "text/x-python",
   "name": "python",
   "nbconvert_exporter": "python",
   "pygments_lexer": "ipython3",
   "version": "3.12.4"
  }
 },
 "nbformat": 4,
 "nbformat_minor": 5
}
