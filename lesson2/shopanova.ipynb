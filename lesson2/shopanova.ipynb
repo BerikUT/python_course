{
 "cells": [
  {
   "cell_type": "code",
   "execution_count": 1,
   "id": "f1316670-02fd-4bca-9614-21eb3421547b",
   "metadata": {},
   "outputs": [
    {
     "name": "stdout",
     "output_type": "stream",
     "text": [
      "salem alem\n"
     ]
    }
   ],
   "source": [
    "print('salem alem')"
   ]
  },
  {
   "cell_type": "code",
   "execution_count": 2,
   "id": "708f2cf2-33f9-4840-9e3b-05744241c840",
   "metadata": {},
   "outputs": [
    {
     "name": "stdout",
     "output_type": "stream",
     "text": [
      "salem Kamshat\n"
     ]
    }
   ],
   "source": [
    "print('salem Kamshat')"
   ]
  },
  {
   "cell_type": "code",
   "execution_count": 3,
   "id": "8299e90b-de24-43c9-b62a-114a71d7f264",
   "metadata": {},
   "outputs": [
    {
     "name": "stdout",
     "output_type": "stream",
     "text": [
      "12\n"
     ]
    }
   ],
   "source": [
    "print(2+2*5)"
   ]
  },
  {
   "cell_type": "code",
   "execution_count": 4,
   "id": "44136957-0d0e-461c-9dee-ed35d692c4c9",
   "metadata": {},
   "outputs": [],
   "source": [
    "i=20"
   ]
  },
  {
   "cell_type": "code",
   "execution_count": 5,
   "id": "2e52879f-5f88-4da4-846d-bc2ace706cdc",
   "metadata": {},
   "outputs": [],
   "source": [
    "j=30"
   ]
  },
  {
   "cell_type": "code",
   "execution_count": 6,
   "id": "cd289513-4bb8-49b2-9d61-f75822c7172f",
   "metadata": {},
   "outputs": [
    {
     "name": "stdout",
     "output_type": "stream",
     "text": [
      "50\n"
     ]
    }
   ],
   "source": [
    "print(i+j)\n"
   ]
  },
  {
   "cell_type": "code",
   "execution_count": 8,
   "id": "aaa3b7f0-9d16-4501-88e7-acc8c10f8d2f",
   "metadata": {},
   "outputs": [
    {
     "ename": "ValueError",
     "evalue": "invalid literal for int() with base 10: 'сан енгізіңіз: '",
     "output_type": "error",
     "traceback": [
      "\u001b[1;31m---------------------------------------------------------------------------\u001b[0m",
      "\u001b[1;31mValueError\u001b[0m                                Traceback (most recent call last)",
      "Cell \u001b[1;32mIn[8], line 2\u001b[0m\n\u001b[0;32m      1\u001b[0m user_input\u001b[38;5;241m=\u001b[39m(\u001b[38;5;124m'\u001b[39m\u001b[38;5;124mсан енгізіңіз: \u001b[39m\u001b[38;5;124m'\u001b[39m)\n\u001b[1;32m----> 2\u001b[0m number \u001b[38;5;241m=\u001b[39m \u001b[38;5;28mint\u001b[39m(user_input)\n\u001b[0;32m      3\u001b[0m user_input2 \u001b[38;5;241m=\u001b[39m \u001b[38;5;28minput\u001b[39m(\u001b[38;5;124m'\u001b[39m\u001b[38;5;124mекінші сан енгізіңіз: \u001b[39m\u001b[38;5;124m'\u001b[39m)\n\u001b[0;32m      4\u001b[0m number2 \u001b[38;5;241m=\u001b[39m \u001b[38;5;28mint\u001b[39m(user_input2)\n",
      "\u001b[1;31mValueError\u001b[0m: invalid literal for int() with base 10: 'сан енгізіңіз: '"
     ]
    }
   ],
   "source": [
    "user_input=('сан енгізіңіз: ')\n",
    "number = int(user_input)\n",
    "user_input2 = input('екінші сан енгізіңіз: ')\n",
    "number2 = int(user_input2)\n",
    "print('олардың қосындыcы: ')\n",
    "print (number + number2)\n"
   ]
  },
  {
   "cell_type": "code",
   "execution_count": 9,
   "id": "09112b64-7574-482a-9aba-85fcbb1a16c8",
   "metadata": {},
   "outputs": [
    {
     "name": "stdin",
     "output_type": "stream",
     "text": [
      "сан енгізіңіз:  5\n",
      "екінші сан енгізіңіз:  2\n"
     ]
    },
    {
     "name": "stdout",
     "output_type": "stream",
     "text": [
      "олардың қосындыcы: \n",
      "7\n"
     ]
    }
   ],
   "source": [
    "user_input = input('сан енгізіңіз: ')\n",
    "number = int(user_input)\n",
    "user_input2 = input('екінші сан енгізіңіз: ')\n",
    "number2 = int(user_input2)\n",
    "print('олардың қосындыcы: ')\n",
    "print (number + number2)"
   ]
  },
  {
   "cell_type": "code",
   "execution_count": 10,
   "id": "3b022ff4-584a-483e-a4b1-708b7fb84220",
   "metadata": {},
   "outputs": [
    {
     "ename": "SyntaxError",
     "evalue": "invalid syntax (3674458099.py, line 2)",
     "output_type": "error",
     "traceback": [
      "\u001b[1;36m  Cell \u001b[1;32mIn[10], line 2\u001b[1;36m\u001b[0m\n\u001b[1;33m    for i range( 5 )\u001b[0m\n\u001b[1;37m          ^\u001b[0m\n\u001b[1;31mSyntaxError\u001b[0m\u001b[1;31m:\u001b[0m invalid syntax\n"
     ]
    }
   ],
   "source": [
    "sunduk = [ 'alma', 'almurt', 'banan']\n",
    "for i range( 5 )\n",
    "    for veshi in sunduk:\n",
    "        print ( veshi )\n",
    "         "
   ]
  },
  {
   "cell_type": "code",
   "execution_count": 11,
   "id": "f3247e71-5a50-4b29-8859-810477be0ee8",
   "metadata": {},
   "outputs": [
    {
     "ename": "SyntaxError",
     "evalue": "expected ':' (2107544178.py, line 2)",
     "output_type": "error",
     "traceback": [
      "\u001b[1;36m  Cell \u001b[1;32mIn[11], line 2\u001b[1;36m\u001b[0m\n\u001b[1;33m    for i in range( 5 )\u001b[0m\n\u001b[1;37m                       ^\u001b[0m\n\u001b[1;31mSyntaxError\u001b[0m\u001b[1;31m:\u001b[0m expected ':'\n"
     ]
    }
   ],
   "source": [
    "sunduk = [ 'alma', 'almurt', 'banan']\n",
    "for i in range( 5 )\n",
    "    for veshi in sunduk:\n",
    "        print ( veshi )"
   ]
  },
  {
   "cell_type": "code",
   "execution_count": 12,
   "id": "aefd5d38-5709-4b46-a3cd-03579827bb4f",
   "metadata": {},
   "outputs": [
    {
     "name": "stdout",
     "output_type": "stream",
     "text": [
      "alma\n",
      "almurt\n",
      "banan\n",
      "alma\n",
      "almurt\n",
      "banan\n",
      "alma\n",
      "almurt\n",
      "banan\n",
      "alma\n",
      "almurt\n",
      "banan\n",
      "alma\n",
      "almurt\n",
      "banan\n"
     ]
    }
   ],
   "source": [
    "sunduk = [ 'alma', 'almurt', 'banan']\n",
    "for i in range( 5 ):\n",
    "    for veshi in sunduk:\n",
    "        print ( veshi )"
   ]
  },
  {
   "cell_type": "code",
   "execution_count": null,
   "id": "47ad3c09-0cc2-4164-9e10-33ab4f692b00",
   "metadata": {},
   "outputs": [],
   "source": [
    "for i in range( 100 ):\n",
    "    user_input = input( 'сан енгізіңіз: ' )\n",
    "    number = int( user_input )\n",
    "    user_input3 = input( 'тaңба енгізіңіз: ')\n",
    "    user_input2 = input( 'екінші сан енгізіңіз: ')\n",
    "    number2 = int( user_input2 )\n",
    "    if( user_input3 =='+' ):\n",
    "        "
   ]
  }
 ],
 "metadata": {
  "kernelspec": {
   "display_name": "Python 3 (ipykernel)",
   "language": "python",
   "name": "python3"
  },
  "language_info": {
   "codemirror_mode": {
    "name": "ipython",
    "version": 3
   },
   "file_extension": ".py",
   "mimetype": "text/x-python",
   "name": "python",
   "nbconvert_exporter": "python",
   "pygments_lexer": "ipython3",
   "version": "3.12.4"
  }
 },
 "nbformat": 4,
 "nbformat_minor": 5
}
