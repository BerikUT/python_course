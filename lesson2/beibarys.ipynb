{
 "cells": [
  {
   "cell_type": "code",
   "execution_count": 1,
   "id": "8ed8a376-ed13-4da4-9f70-54e2d0e93f2f",
   "metadata": {},
   "outputs": [
    {
     "name": "stdout",
     "output_type": "stream",
     "text": [
      "salem alem\n"
     ]
    }
   ],
   "source": [
    "print('salem alem')"
   ]
  },
  {
   "cell_type": "code",
   "execution_count": 2,
   "id": "74c26b3e-ed85-466e-9b09-43f83531efa2",
   "metadata": {},
   "outputs": [
    {
     "name": "stdout",
     "output_type": "stream",
     "text": [
      "2\n"
     ]
    }
   ],
   "source": [
    "print(1 + 1)"
   ]
  },
  {
   "cell_type": "code",
   "execution_count": 3,
   "id": "8bded5d9-7924-4c95-b638-6170073d08c5",
   "metadata": {},
   "outputs": [
    {
     "name": "stdout",
     "output_type": "stream",
     "text": [
      "20\n"
     ]
    }
   ],
   "source": [
    "print(2 + 2 * 9)"
   ]
  },
  {
   "cell_type": "code",
   "execution_count": 4,
   "id": "82838f6f-4aa6-478b-bafc-e35925d60dad",
   "metadata": {},
   "outputs": [],
   "source": [
    "i = 10"
   ]
  },
  {
   "cell_type": "code",
   "execution_count": 5,
   "id": "d6e59893-2053-41a2-b27a-499f33585f8f",
   "metadata": {},
   "outputs": [],
   "source": [
    "j = 20"
   ]
  },
  {
   "cell_type": "code",
   "execution_count": 6,
   "id": "9b891244-4162-4a3e-b4e7-b2f0e868756e",
   "metadata": {},
   "outputs": [
    {
     "ename": "NameError",
     "evalue": "name 'J' is not defined",
     "output_type": "error",
     "traceback": [
      "\u001b[1;31m---------------------------------------------------------------------------\u001b[0m",
      "\u001b[1;31mNameError\u001b[0m                                 Traceback (most recent call last)",
      "Cell \u001b[1;32mIn[6], line 1\u001b[0m\n\u001b[1;32m----> 1\u001b[0m \u001b[38;5;28mprint\u001b[39m( i \u001b[38;5;241m+\u001b[39m J )\n",
      "\u001b[1;31mNameError\u001b[0m: name 'J' is not defined"
     ]
    }
   ],
   "source": [
    "print( i + J )"
   ]
  },
  {
   "cell_type": "code",
   "execution_count": 7,
   "id": "46c08a06-c19a-4d6b-a676-b47f645c5fec",
   "metadata": {},
   "outputs": [
    {
     "name": "stdout",
     "output_type": "stream",
     "text": [
      "30\n"
     ]
    }
   ],
   "source": [
    "print( i + j )"
   ]
  },
  {
   "cell_type": "code",
   "execution_count": 8,
   "id": "5061d333-b8f6-491a-aed4-3cfd14f699e6",
   "metadata": {},
   "outputs": [],
   "source": [
    "i = 'salem'"
   ]
  },
  {
   "cell_type": "code",
   "execution_count": 9,
   "id": "774369b1-e593-4d3b-80eb-03d022871e20",
   "metadata": {},
   "outputs": [],
   "source": [
    "j = 'alem'"
   ]
  },
  {
   "cell_type": "code",
   "execution_count": 10,
   "id": "c977f032-ff7c-4e2f-b83e-15d89489afc5",
   "metadata": {},
   "outputs": [
    {
     "name": "stdout",
     "output_type": "stream",
     "text": [
      "salemalem\n"
     ]
    }
   ],
   "source": [
    "print( i + j )"
   ]
  },
  {
   "cell_type": "code",
   "execution_count": 11,
   "id": "3992b0c0-1a0a-426f-8197-deb3974e1420",
   "metadata": {},
   "outputs": [
    {
     "name": "stdout",
     "output_type": "stream",
     "text": [
      "salem alem\n"
     ]
    }
   ],
   "source": [
    "print( i + ' ' + j )"
   ]
  },
  {
   "cell_type": "code",
   "execution_count": 12,
   "id": "59d55da4-4eae-4109-a9a7-69962c4ff9e3",
   "metadata": {},
   "outputs": [
    {
     "name": "stdin",
     "output_type": "stream",
     "text": [
      "сан енгізіңіз:  5\n"
     ]
    }
   ],
   "source": [
    "user_input = input('сан енгізіңіз: ')\n",
    "number = int( user_input )"
   ]
  },
  {
   "cell_type": "code",
   "execution_count": 13,
   "id": "f5395b6c-7a35-4232-a062-35ea977d61cc",
   "metadata": {},
   "outputs": [
    {
     "name": "stdin",
     "output_type": "stream",
     "text": [
      "сан енгізіңіз:  5\n"
     ]
    }
   ],
   "source": [
    "user_input = input('сан енгізіңіз: ')\n",
    "number = int( user_input )"
   ]
  },
  {
   "cell_type": "code",
   "execution_count": 14,
   "id": "6021eec0-4a1d-4003-847c-c28148b324f3",
   "metadata": {},
   "outputs": [
    {
     "name": "stdin",
     "output_type": "stream",
     "text": [
      "сан енгізіңіз:  5\n",
      "екінші сан енгізіңіз:  6\n"
     ]
    },
    {
     "name": "stdout",
     "output_type": "stream",
     "text": [
      "олардың қосындысы: \n",
      "11\n"
     ]
    }
   ],
   "source": [
    "user_input = input('сан енгізіңіз: ')\n",
    "number = int( user_input )\n",
    "user_input2 = input('екінші сан енгізіңіз: ')\n",
    "number2 = int( user_input2 )\n",
    "print('олардың қосындысы: ')\n",
    "print( number + number2 )"
   ]
  },
  {
   "cell_type": "code",
   "execution_count": 15,
   "id": "26e26c25-c97d-4356-8958-f1778aef2f6c",
   "metadata": {},
   "outputs": [
    {
     "name": "stdin",
     "output_type": "stream",
     "text": [
      "сан енгізіңіз:  5\n",
      "таңба енгізіңіз:  +\n",
      "екінші сан енгізіңіз:  6\n"
     ]
    },
    {
     "name": "stdout",
     "output_type": "stream",
     "text": [
      "11\n"
     ]
    }
   ],
   "source": [
    "user_input = input( 'сан енгізіңіз: ' )\n",
    "number = int( user_input )\n",
    "user_input3 = input( 'таңба енгізіңіз: ' )\n",
    "user_input2 = input( 'екінші сан енгізіңіз: ')\n",
    "number2 = int( user_input2 )\n",
    "if( user_input3 == '+' ):\n",
    "    print( number + number2 )"
   ]
  },
  {
   "cell_type": "code",
   "execution_count": null,
   "id": "e28e3f91-e759-4173-abc8-710eadb5ead2",
   "metadata": {},
   "outputs": [],
   "source": [
    "if ():\n",
    "    //sefsefsef\n",
    "elif ():\n",
    "    //rthtrhtrh\n",
    "else:\n",
    "    //yjyjytj"
   ]
  },
  {
   "cell_type": "code",
   "execution_count": 16,
   "id": "80d8bd0f-8ea3-402f-98e3-ec0ba401e598",
   "metadata": {},
   "outputs": [
    {
     "name": "stdout",
     "output_type": "stream",
     "text": [
      "alma\n",
      "almurt\n",
      "banan\n"
     ]
    }
   ],
   "source": [
    "sunduk = ['alma', 'almurt', 'banan']\n",
    "for veshi in sunduk:\n",
    "    print ( veshi )"
   ]
  },
  {
   "cell_type": "code",
   "execution_count": 17,
   "id": "e4cb23e4-6f25-4096-8430-171da853e2c4",
   "metadata": {},
   "outputs": [
    {
     "name": "stdout",
     "output_type": "stream",
     "text": [
      "alma\n",
      "almurt\n",
      "banan\n",
      "alma\n",
      "almurt\n",
      "banan\n",
      "alma\n",
      "almurt\n",
      "banan\n",
      "alma\n",
      "almurt\n",
      "banan\n",
      "alma\n",
      "almurt\n",
      "banan\n"
     ]
    }
   ],
   "source": [
    "sunduk = ['alma', 'almurt', 'banan']\n",
    "\n",
    "for i in range( 5 ):\n",
    "    for veshi in sunduk:\n",
    "        print ( veshi )"
   ]
  },
  {
   "cell_type": "code",
   "execution_count": 18,
   "id": "6a689cde-f9c7-4c7b-a914-0a197c76a207",
   "metadata": {},
   "outputs": [
    {
     "name": "stdout",
     "output_type": "stream",
     "text": [
      "0\n",
      "0\n",
      "0\n",
      "1\n",
      "1\n",
      "1\n",
      "2\n",
      "2\n",
      "2\n",
      "3\n",
      "3\n",
      "3\n",
      "4\n",
      "4\n",
      "4\n"
     ]
    }
   ],
   "source": [
    "sunduk = ['alma', 'almurt', 'banan']\n",
    "\n",
    "for i in range( 5 ):\n",
    "    for veshi in sunduk:\n",
    "        print ( i )"
   ]
  },
  {
   "cell_type": "code",
   "execution_count": 20,
   "id": "bd12890f-c163-453d-b3b2-43ceb2cffef2",
   "metadata": {},
   "outputs": [
    {
     "name": "stdin",
     "output_type": "stream",
     "text": [
      "сан енгізіңіз:  1\n",
      "таңба енгізіңіз:  +\n",
      "екінші сан енгізіңіз:  1\n"
     ]
    },
    {
     "name": "stdout",
     "output_type": "stream",
     "text": [
      "2\n"
     ]
    },
    {
     "name": "stdin",
     "output_type": "stream",
     "text": [
      "сан енгізіңіз:  !\n"
     ]
    },
    {
     "ename": "ValueError",
     "evalue": "invalid literal for int() with base 10: '!'",
     "output_type": "error",
     "traceback": [
      "\u001b[1;31m---------------------------------------------------------------------------\u001b[0m",
      "\u001b[1;31mValueError\u001b[0m                                Traceback (most recent call last)",
      "Cell \u001b[1;32mIn[20], line 3\u001b[0m\n\u001b[0;32m      1\u001b[0m \u001b[38;5;28;01mfor\u001b[39;00m i \u001b[38;5;129;01min\u001b[39;00m \u001b[38;5;28mrange\u001b[39m( \u001b[38;5;241m1000\u001b[39m ):\n\u001b[0;32m      2\u001b[0m     user_input \u001b[38;5;241m=\u001b[39m \u001b[38;5;28minput\u001b[39m( \u001b[38;5;124m'\u001b[39m\u001b[38;5;124mсан енгізіңіз: \u001b[39m\u001b[38;5;124m'\u001b[39m )\n\u001b[1;32m----> 3\u001b[0m     number \u001b[38;5;241m=\u001b[39m \u001b[38;5;28mint\u001b[39m( user_input )\n\u001b[0;32m      4\u001b[0m     user_input3 \u001b[38;5;241m=\u001b[39m \u001b[38;5;28minput\u001b[39m( \u001b[38;5;124m'\u001b[39m\u001b[38;5;124mтаңба енгізіңіз: \u001b[39m\u001b[38;5;124m'\u001b[39m )\n\u001b[0;32m      5\u001b[0m     user_input2 \u001b[38;5;241m=\u001b[39m \u001b[38;5;28minput\u001b[39m( \u001b[38;5;124m'\u001b[39m\u001b[38;5;124mекінші сан енгізіңіз: \u001b[39m\u001b[38;5;124m'\u001b[39m)\n",
      "\u001b[1;31mValueError\u001b[0m: invalid literal for int() with base 10: '!'"
     ]
    }
   ],
   "source": [
    "for i in range( 1000 ):\n",
    "    user_input = input( 'сан енгізіңіз: ' )\n",
    "    number = int( user_input )\n",
    "    user_input3 = input( 'таңба енгізіңіз: ' )\n",
    "    user_input2 = input( 'екінші сан енгізіңіз: ')\n",
    "    number2 = int( user_input2 )\n",
    "    if( user_input3 == '+' ):\n",
    "        print( number + number2 )\n",
    "    elif( user_input3 == '-' ):\n",
    "        print( number - number2 )\n",
    "    elif( user_input3 == '*' ):\n",
    "        print( number * number2 )\n",
    "    elif( user_input3 == '/' ):\n",
    "        print( number / number2 )\n",
    "    elif( user_input3 == '!' ):\n",
    "        break"
   ]
  },
  {
   "cell_type": "code",
   "execution_count": null,
   "id": "ab1ce05c-5642-4088-8046-597075bb259c",
   "metadata": {},
   "outputs": [],
   "source": []
  }
 ],
 "metadata": {
  "kernelspec": {
   "display_name": "Python 3 (ipykernel)",
   "language": "python",
   "name": "python3"
  },
  "language_info": {
   "codemirror_mode": {
    "name": "ipython",
    "version": 3
   },
   "file_extension": ".py",
   "mimetype": "text/x-python",
   "name": "python",
   "nbconvert_exporter": "python",
   "pygments_lexer": "ipython3",
   "version": "3.12.4"
  }
 },
 "nbformat": 4,
 "nbformat_minor": 5
}
