{
<<<<<<< HEAD
 "cells": [],
 "metadata": {},
=======
 "cells": [
  {
   "cell_type": "code",
   "execution_count": 1,
   "id": "6c9ecb11-3f5c-4bc5-9104-2830d5754c29",
   "metadata": {},
   "outputs": [
    {
     "name": "stdout",
     "output_type": "stream",
     "text": [
      "5\n"
     ]
    }
   ],
   "source": [
    "print(2+3)"
   ]
  },
  {
   "cell_type": "code",
   "execution_count": 3,
   "id": "88233b1a-c5c9-4bee-abdf-a6c036f46dd0",
   "metadata": {},
   "outputs": [
    {
     "name": "stdin",
     "output_type": "stream",
     "text": [
      "сан енгіз 45\n"
     ]
    }
   ],
   "source": [
    "user_input = input(\"сан енгіз\")"
   ]
  },
  {
   "cell_type": "code",
   "execution_count": 5,
   "id": "c1ff75ef-eade-49c0-b7a3-1908b72b9e5c",
   "metadata": {},
   "outputs": [
    {
     "name": "stdin",
     "output_type": "stream",
     "text": [
      "сан енгіз:  45\n"
     ]
    }
   ],
   "source": [
    "user_input = input(\"сан енгіз: \")\n",
    "number = int(user_input)"
   ]
  },
  {
   "cell_type": "code",
   "execution_count": 7,
   "id": "33bd39aa-7257-4649-940d-c80c85afe3d6",
   "metadata": {},
   "outputs": [
    {
     "name": "stdin",
     "output_type": "stream",
     "text": [
      "сан енгіз:  45\n",
      "2- інші сан енгіз:  65\n"
     ]
    },
    {
     "name": "stdout",
     "output_type": "stream",
     "text": [
      "45 65\n"
     ]
    }
   ],
   "source": [
    "user_input = input(\"сан енгіз: \")\n",
    "number = int(user_input)\n",
    "user_input2 = input(\"2- інші сан енгіз: \")\n",
    "number = int(user_input2)\n",
    "print(user_input, user_input2)"
   ]
  },
  {
   "cell_type": "code",
   "execution_count": 9,
   "id": "94239de5-1888-41dd-9df4-ac7310c87e05",
   "metadata": {},
   "outputs": [
    {
     "name": "stdin",
     "output_type": "stream",
     "text": [
      "сан енгіз:  45\n",
      "2- інші сан енгіз:  65\n"
     ]
    },
    {
     "name": "stdout",
     "output_type": "stream",
     "text": [
      "4565\n"
     ]
    }
   ],
   "source": [
    "user_input = input(\"сан енгіз: \")\n",
    "number = int(user_input)\n",
    "user_input2 = input(\"2- інші сан енгіз: \")\n",
    "number = int(user_input2)\n",
    "print(user_input+ user_input2)"
   ]
  },
  {
   "cell_type": "code",
   "execution_count": 11,
   "id": "a426c03f-fc9a-4eb3-bef7-a0549818708b",
   "metadata": {},
   "outputs": [
    {
     "name": "stdin",
     "output_type": "stream",
     "text": [
      "сан енгіз:  45\n",
      "2- інші сан енгіз:  65\n"
     ]
    },
    {
     "name": "stdout",
     "output_type": "stream",
     "text": [
      "110\n"
     ]
    }
   ],
   "source": [
    "user_input = input(\"сан енгіз: \")\n",
    "number = int(user_input)\n",
    "user_input2 = input(\"2- інші сан енгіз: \")\n",
    "number2 = int(user_input2)\n",
    "print(number+ number2)"
   ]
  },
  {
   "cell_type": "code",
   "execution_count": 13,
   "id": "2eb4ba3d-89fc-4b86-9ded-f5ef6fe80b2d",
   "metadata": {},
   "outputs": [
    {
     "ename": "SyntaxError",
     "evalue": "expected ':' (3058037656.py, line 13)",
     "output_type": "error",
     "traceback": [
      "\u001b[1;36m  Cell \u001b[1;32mIn[13], line 13\u001b[1;36m\u001b[0m\n\u001b[1;33m    else ( sign =='/' ):\u001b[0m\n\u001b[1;37m         ^\u001b[0m\n\u001b[1;31mSyntaxError\u001b[0m\u001b[1;31m:\u001b[0m expected ':'\n"
     ]
    }
   ],
   "source": [
    "user_input = input(\"сан енгіз: \")\n",
    "number = int(user_input)\n",
    "user_input2 = input(\"2- інші сан енгіз: \")\n",
    "number2 = int(user_input2)\n",
    "user_input3 = input(\"таңба енгіз: \")\n",
    "sign = int(user_input3)\n",
    "if ( sign =='+' ):\n",
    "    print(number+ number2)\n",
    "elif ( sign =='-' ):\n",
    "    print(number - number2)\n",
    "elif ( sign =='*' ):\n",
    "    print(number * number2)\n",
    "else ( sign =='/' ):\n",
    "    print(number  number2)\n"
   ]
  },
  {
   "cell_type": "code",
   "execution_count": 15,
   "id": "5bcf3d39-8e71-4279-90ea-b94880618548",
   "metadata": {},
   "outputs": [
    {
     "ename": "SyntaxError",
     "evalue": "expected ':' (1538833460.py, line 13)",
     "output_type": "error",
     "traceback": [
      "\u001b[1;36m  Cell \u001b[1;32mIn[15], line 13\u001b[1;36m\u001b[0m\n\u001b[1;33m    else ( sign =='/' ):\u001b[0m\n\u001b[1;37m         ^\u001b[0m\n\u001b[1;31mSyntaxError\u001b[0m\u001b[1;31m:\u001b[0m expected ':'\n"
     ]
    }
   ],
   "source": [
    "user_input = input(\"сан енгіз: \")\n",
    "number = int(user_input)\n",
    "user_input2 = input(\"2- інші сан енгіз: \")\n",
    "number2 = int(user_input2)\n",
    "user_input3 = input(\"таңба енгіз: \")\n",
    "sign = int(user_input3)\n",
    "if ( sign =='+' ):\n",
    "    print(number+ number2)\n",
    "elif ( sign =='-' ):\n",
    "    print(number - number2)\n",
    "elif ( sign =='*' ):\n",
    "    print(number * number2)\n",
    "else ( sign =='/' ):\n",
    "    print(number * number2)"
   ]
  },
  {
   "cell_type": "code",
   "execution_count": 17,
   "id": "f2b7c257-450f-4fdb-bf8f-0970bb556c09",
   "metadata": {},
   "outputs": [
    {
     "name": "stdin",
     "output_type": "stream",
     "text": [
      "сан енгіз:  15\n",
      "2- інші сан енгіз:  5\n",
      "таңба енгіз:  -\n"
     ]
    },
    {
     "ename": "ValueError",
     "evalue": "invalid literal for int() with base 10: '-'",
     "output_type": "error",
     "traceback": [
      "\u001b[1;31m---------------------------------------------------------------------------\u001b[0m",
      "\u001b[1;31mValueError\u001b[0m                                Traceback (most recent call last)",
      "Cell \u001b[1;32mIn[17], line 6\u001b[0m\n\u001b[0;32m      4\u001b[0m number2 \u001b[38;5;241m=\u001b[39m \u001b[38;5;28mint\u001b[39m(user_input2)\n\u001b[0;32m      5\u001b[0m user_input3 \u001b[38;5;241m=\u001b[39m \u001b[38;5;28minput\u001b[39m(\u001b[38;5;124m\"\u001b[39m\u001b[38;5;124mтаңба енгіз: \u001b[39m\u001b[38;5;124m\"\u001b[39m)\n\u001b[1;32m----> 6\u001b[0m sign \u001b[38;5;241m=\u001b[39m \u001b[38;5;28mint\u001b[39m(user_input3)\n\u001b[0;32m      7\u001b[0m \u001b[38;5;28;01mif\u001b[39;00m ( sign \u001b[38;5;241m==\u001b[39m\u001b[38;5;124m'\u001b[39m\u001b[38;5;124m+\u001b[39m\u001b[38;5;124m'\u001b[39m ):\n\u001b[0;32m      8\u001b[0m     \u001b[38;5;28mprint\u001b[39m(number\u001b[38;5;241m+\u001b[39m number2)\n",
      "\u001b[1;31mValueError\u001b[0m: invalid literal for int() with base 10: '-'"
     ]
    }
   ],
   "source": [
    "user_input = input(\"сан енгіз: \")\n",
    "number = int(user_input)\n",
    "user_input2 = input(\"2- інші сан енгіз: \")\n",
    "number2 = int(user_input2)\n",
    "user_input3 = input(\"таңба енгіз: \")\n",
    "sign = int(user_input3)\n",
    "if ( sign =='+' ):\n",
    "    print(number+ number2)\n",
    "elif ( sign =='-' ):\n",
    "    print(number - number2)\n",
    "elif ( sign =='*' ):\n",
    "    print(number * number2)\n",
    "elif ( sign =='/' ):\n",
    "    print(number * number2)"
   ]
  },
  {
   "cell_type": "code",
   "execution_count": 25,
   "id": "6f9495ae-a006-4040-884c-d374dfbe86e0",
   "metadata": {},
   "outputs": [
    {
     "name": "stdin",
     "output_type": "stream",
     "text": [
      "сан енгіз:  50\n",
      "2- інші сан енгіз:  25\n",
      "таңба енгіз:  /\n"
     ]
    },
    {
     "name": "stdout",
     "output_type": "stream",
     "text": [
      "1250\n"
     ]
    }
   ],
   "source": [
    "user_input = input(\"сан енгіз: \")\n",
    "number = int(user_input)\n",
    "user_input2 = input(\"2- інші сан енгіз: \")\n",
    "number2 = int(user_input2)\n",
    "user_input3 = input(\"таңба енгіз: \")\n",
    "\n",
    "if ( user_input3 =='+' ):\n",
    "    print(number+ number2)\n",
    "elif ( user_input3 =='-' ):\n",
    "    print(number - number2)\n",
    "elif ( user_input3 =='*' ):\n",
    "    print(number * number2)\n",
    "elif ( user_input3 =='/' ):\n",
    "    print(number * number2)"
   ]
  },
  {
   "cell_type": "code",
   "execution_count": 29,
   "id": "111cd96c-c7b4-4ed7-9ce4-5b1769791e46",
   "metadata": {},
   "outputs": [
    {
     "name": "stdin",
     "output_type": "stream",
     "text": [
      "сан енгіз:  15\n",
      "2- інші сан енгіз:  5\n",
      "таңба енгіз:  /\n"
     ]
    },
    {
     "name": "stdout",
     "output_type": "stream",
     "text": [
      "3.0\n"
     ]
    }
   ],
   "source": [
    "user_input = input(\"сан енгіз: \")\n",
    "number = int(user_input)\n",
    "user_input2 = input(\"2- інші сан енгіз: \")\n",
    "number2 = int(user_input2)\n",
    "user_input3 = input(\"таңба енгіз: \")\n",
    "\n",
    "if ( user_input3 =='+' ):\n",
    "    print(number+ number2)\n",
    "elif ( user_input3 =='-' ):\n",
    "    print(number - number2)\n",
    "elif ( user_input3 =='*' ):\n",
    "    print(number * number2)\n",
    "elif ( user_input3 =='/' ):\n",
    "    print(number / number2)"
   ]
  },
  {
   "cell_type": "code",
   "execution_count": 32,
   "id": "9909c1d2-81c1-4afa-8e0d-2eaaf2b15437",
   "metadata": {},
   "outputs": [
    {
     "ename": "SyntaxError",
     "evalue": "expected ':' (3484126680.py, line 13)",
     "output_type": "error",
     "traceback": [
      "\u001b[1;36m  Cell \u001b[1;32mIn[32], line 13\u001b[1;36m\u001b[0m\n\u001b[1;33m    else ( user_input3 =='/' ):\u001b[0m\n\u001b[1;37m         ^\u001b[0m\n\u001b[1;31mSyntaxError\u001b[0m\u001b[1;31m:\u001b[0m expected ':'\n"
     ]
    }
   ],
   "source": [
    "user_input = input(\"сан енгіз: \")\n",
    "number = int(user_input)\n",
    "user_input2 = input(\"2- інші сан енгіз: \")\n",
    "number2 = int(user_input2)\n",
    "user_input3 = input(\"таңба енгіз: \")\n",
    "\n",
    "if ( user_input3 =='+' ):\n",
    "    print(number+ number2)\n",
    "elif ( user_input3 =='-' ):\n",
    "    print(number - number2)\n",
    "elif ( user_input3 =='*' ):\n",
    "    print(number * number2)\n",
    "else ( user_input3 =='/' ):\n",
    "    print(number / number2)"
   ]
  },
  {
   "cell_type": "code",
   "execution_count": 34,
   "id": "4eabc416-193b-4b8b-965e-0460db665df3",
   "metadata": {},
   "outputs": [
    {
     "name": "stdout",
     "output_type": "stream",
     "text": [
      "alma\n",
      "almurt\n",
      "banan\n",
      "ananas\n"
     ]
    }
   ],
   "source": [
    "zhashik = [\"alma\",\"almurt\",\"banan\",\"ananas\"]\n",
    "for i in zhashik:\n",
    "    print(i)\n",
    "    "
   ]
  },
  {
   "cell_type": "code",
   "execution_count": 36,
   "id": "91aad33b-1fe5-4d2e-a6ab-c56d1d2ddc9b",
   "metadata": {},
   "outputs": [
    {
     "ename": "IndentationError",
     "evalue": "expected an indented block after 'for' statement on line 3 (1243884960.py, line 4)",
     "output_type": "error",
     "traceback": [
      "\u001b[1;36m  Cell \u001b[1;32mIn[36], line 4\u001b[1;36m\u001b[0m\n\u001b[1;33m    print(i)\u001b[0m\n\u001b[1;37m    ^\u001b[0m\n\u001b[1;31mIndentationError\u001b[0m\u001b[1;31m:\u001b[0m expected an indented block after 'for' statement on line 3\n"
     ]
    }
   ],
   "source": [
    "zhashik = [\"alma\",\"almurt\",\"banan\",\"ananas\"]\n",
    "for i in range( 5 ):\n",
    "    for y in zhashik:\n",
    "    print(i)\n"
   ]
  },
  {
   "cell_type": "code",
   "execution_count": 38,
   "id": "5aeb1426-f101-463c-b81b-5ede66784cf2",
   "metadata": {},
   "outputs": [
    {
     "name": "stdout",
     "output_type": "stream",
     "text": [
      "0\n",
      "0\n",
      "0\n",
      "0\n",
      "1\n",
      "1\n",
      "1\n",
      "1\n",
      "2\n",
      "2\n",
      "2\n",
      "2\n",
      "3\n",
      "3\n",
      "3\n",
      "3\n",
      "4\n",
      "4\n",
      "4\n",
      "4\n"
     ]
    }
   ],
   "source": [
    "zhashik = [\"alma\",\"almurt\",\"banan\",\"ananas\"]\n",
    "for i in range( 5 ):\n",
    "    for y in zhashik:\n",
    "         print(i)\n",
    "   \n"
   ]
  },
  {
   "cell_type": "code",
   "execution_count": 40,
   "id": "f8961a13-76ac-4b33-9571-31fd0daf3bc4",
   "metadata": {},
   "outputs": [
    {
     "name": "stdout",
     "output_type": "stream",
     "text": [
      "alma\n",
      "almurt\n",
      "banan\n",
      "ananas\n",
      "alma\n",
      "almurt\n",
      "banan\n",
      "ananas\n",
      "alma\n",
      "almurt\n",
      "banan\n",
      "ananas\n",
      "alma\n",
      "almurt\n",
      "banan\n",
      "ananas\n",
      "alma\n",
      "almurt\n",
      "banan\n",
      "ananas\n"
     ]
    }
   ],
   "source": [
    "zhashik = [\"alma\",\"almurt\",\"banan\",\"ananas\"]\n",
    "for i in range( 5 ):\n",
    "    for y in zhashik:\n",
    "         print(y)\n",
    "   "
   ]
  },
  {
   "cell_type": "code",
   "execution_count": 42,
   "id": "20876a21-329a-46de-8135-56268a5a6220",
   "metadata": {},
   "outputs": [
    {
     "ename": "SyntaxError",
     "evalue": "invalid syntax. Maybe you meant '==' or ':=' instead of '='? (3429412108.py, line 5)",
     "output_type": "error",
     "traceback": [
      "\u001b[1;36m  Cell \u001b[1;32mIn[42], line 5\u001b[1;36m\u001b[0m\n\u001b[1;33m    while i =get_ipython().getoutput(' 15')\u001b[0m\n\u001b[1;37m          ^\u001b[0m\n\u001b[1;31mSyntaxError\u001b[0m\u001b[1;31m:\u001b[0m invalid syntax. Maybe you meant '==' or ':=' instead of '='?\n"
     ]
    }
   ],
   "source": [
    "zhashik = [\"alma\",\"almurt\",\"banan\",\"ananas\"]\n",
    "for i in range( 100 ):\n",
    "    for y in zhashik:\n",
    "         print(y)\n",
    "    while i =! 15"
   ]
  },
  {
   "cell_type": "code",
   "execution_count": 44,
   "id": "3e49eba7-b0b8-45d5-a658-d627326c712c",
   "metadata": {},
   "outputs": [
    {
     "ename": "SyntaxError",
     "evalue": "invalid syntax. Maybe you meant '==' or ':=' instead of '='? (8796639.py, line 5)",
     "output_type": "error",
     "traceback": [
      "\u001b[1;36m  Cell \u001b[1;32mIn[44], line 5\u001b[1;36m\u001b[0m\n\u001b[1;33m    while i =һ!15\u001b[0m\n\u001b[1;37m          ^\u001b[0m\n\u001b[1;31mSyntaxError\u001b[0m\u001b[1;31m:\u001b[0m invalid syntax. Maybe you meant '==' or ':=' instead of '='?\n"
     ]
    }
   ],
   "source": []
  },
  {
   "cell_type": "code",
   "execution_count": 46,
   "id": "c3e0037d-9cba-4a28-9a51-09434cdb086f",
   "metadata": {},
   "outputs": [
    {
     "ename": "SyntaxError",
     "evalue": "invalid syntax (3875995010.py, line 5)",
     "output_type": "error",
     "traceback": [
      "\u001b[1;36m  Cell \u001b[1;32mIn[46], line 5\u001b[1;36m\u001b[0m\n\u001b[1;33m    while i ==!15\u001b[0m\n\u001b[1;37m              ^\u001b[0m\n\u001b[1;31mSyntaxError\u001b[0m\u001b[1;31m:\u001b[0m invalid syntax\n"
     ]
    }
   ],
   "source": [
    "zhashik = [\"alma\",\"almurt\",\"banan\",\"ananas\"]\n",
    "for i in range( 100 ):\n",
    "    for y in zhashik:\n",
    "         print(y)\n",
    "    while i ==!15"
   ]
  },
  {
   "cell_type": "code",
   "execution_count": 49,
   "id": "6e77138e-d5b9-45d8-8514-99798762b9d1",
   "metadata": {},
   "outputs": [
    {
     "ename": "SyntaxError",
     "evalue": "invalid syntax (2152433106.py, line 6)",
     "output_type": "error",
     "traceback": [
      "\u001b[1;36m  Cell \u001b[1;32mIn[49], line 6\u001b[1;36m\u001b[0m\n\u001b[1;33m    for i in range 100:\u001b[0m\n\u001b[1;37m                   ^\u001b[0m\n\u001b[1;31mSyntaxError\u001b[0m\u001b[1;31m:\u001b[0m invalid syntax\n"
     ]
    }
   ],
   "source": [
    "user_input = input(\"сан енгіз: \")\n",
    "number = int(user_input)\n",
    "user_input2 = input(\"2- інші сан енгіз: \")\n",
    "number2 = int(user_input2)\n",
    "user_input3 = input(\"таңба енгіз: \")\n",
    "for i in range 100:\n",
    "    if ( user_input3 =='+' ):\n",
    "        print(number+ number2)\n",
    "    elif ( user_input3 =='-' ):\n",
    "        print(number - number2)\n",
    "    elif ( user_input3 =='*' ):\n",
    "        print(number * number2)\n",
    "    else ( user_input3 =='/' ):\n",
    "    print(number / number2)\n",
    "    \n",
    "\n",
    "    \n",
    "\n",
    "    \n"
   ]
  },
  {
   "cell_type": "code",
   "execution_count": 51,
   "id": "76862a72-987a-4e7d-b402-59e94cde6160",
   "metadata": {},
   "outputs": [
    {
     "ename": "SyntaxError",
     "evalue": "expected ':' (3629730575.py, line 13)",
     "output_type": "error",
     "traceback": [
      "\u001b[1;36m  Cell \u001b[1;32mIn[51], line 13\u001b[1;36m\u001b[0m\n\u001b[1;33m    else ( user_input3 =='/' ):\u001b[0m\n\u001b[1;37m         ^\u001b[0m\n\u001b[1;31mSyntaxError\u001b[0m\u001b[1;31m:\u001b[0m expected ':'\n"
     ]
    }
   ],
   "source": []
  },
  {
   "cell_type": "code",
   "execution_count": 53,
   "id": "e4c2244a-2829-4304-bda3-4cffc724bac0",
   "metadata": {},
   "outputs": [
    {
     "name": "stdin",
     "output_type": "stream",
     "text": [
      "сан енгіз:  15\n",
      "2- інші сан енгіз:  12\n",
      "таңба енгіз:  +\n"
     ]
    },
    {
     "name": "stdout",
     "output_type": "stream",
     "text": [
      "27\n",
      "27\n",
      "27\n",
      "27\n",
      "27\n",
      "27\n",
      "27\n",
      "27\n",
      "27\n",
      "27\n",
      "27\n",
      "27\n",
      "27\n",
      "27\n",
      "27\n",
      "27\n",
      "27\n",
      "27\n",
      "27\n",
      "27\n",
      "27\n",
      "27\n",
      "27\n",
      "27\n",
      "27\n",
      "27\n",
      "27\n",
      "27\n",
      "27\n",
      "27\n",
      "27\n",
      "27\n",
      "27\n",
      "27\n",
      "27\n",
      "27\n",
      "27\n",
      "27\n",
      "27\n",
      "27\n",
      "27\n",
      "27\n",
      "27\n",
      "27\n",
      "27\n",
      "27\n",
      "27\n",
      "27\n",
      "27\n",
      "27\n",
      "27\n",
      "27\n",
      "27\n",
      "27\n",
      "27\n",
      "27\n",
      "27\n",
      "27\n",
      "27\n",
      "27\n",
      "27\n",
      "27\n",
      "27\n",
      "27\n",
      "27\n",
      "27\n",
      "27\n",
      "27\n",
      "27\n",
      "27\n",
      "27\n",
      "27\n",
      "27\n",
      "27\n",
      "27\n",
      "27\n",
      "27\n",
      "27\n",
      "27\n",
      "27\n",
      "27\n",
      "27\n",
      "27\n",
      "27\n",
      "27\n",
      "27\n",
      "27\n",
      "27\n",
      "27\n",
      "27\n",
      "27\n",
      "27\n",
      "27\n",
      "27\n",
      "27\n",
      "27\n",
      "27\n",
      "27\n",
      "27\n",
      "27\n"
     ]
    }
   ],
   "source": [
    "user_input = input(\"сан енгіз: \")\n",
    "number = int(user_input)\n",
    "user_input2 = input(\"2- інші сан енгіз: \")\n",
    "number2 = int(user_input2)\n",
    "user_input3 = input(\"таңба енгіз: \")\n",
    "for i in range(100):\n",
    "    if ( user_input3 =='+' ):\n",
    "        print(number+ number2)\n",
    "    elif ( user_input3 =='-' ):\n",
    "        print(number - number2)\n",
    "    elif ( user_input3 =='*' ):\n",
    "        print(number * number2)\n",
    "    elif ( user_input3 =='/' ):\n",
    "        print(number / number2)\n",
    "    \n",
    "\n",
    "    \n",
    "    "
   ]
  },
  {
   "cell_type": "code",
   "execution_count": 55,
   "id": "7b0dede4-6210-462e-bbfc-b50112c7ae23",
   "metadata": {},
   "outputs": [
    {
     "name": "stdin",
     "output_type": "stream",
     "text": [
      "сан енгіз:  15\n",
      "2- інші сан енгіз:  10\n",
      "таңба енгіз:  +\n"
     ]
    },
    {
     "name": "stdout",
     "output_type": "stream",
     "text": [
      "25\n"
     ]
    },
    {
     "name": "stdin",
     "output_type": "stream",
     "text": [
      "сан енгіз:  ef\n"
     ]
    },
    {
     "ename": "ValueError",
     "evalue": "invalid literal for int() with base 10: 'ef'",
     "output_type": "error",
     "traceback": [
      "\u001b[1;31m---------------------------------------------------------------------------\u001b[0m",
      "\u001b[1;31mValueError\u001b[0m                                Traceback (most recent call last)",
      "Cell \u001b[1;32mIn[55], line 3\u001b[0m\n\u001b[0;32m      1\u001b[0m \u001b[38;5;28;01mfor\u001b[39;00m i \u001b[38;5;129;01min\u001b[39;00m \u001b[38;5;28mrange\u001b[39m(\u001b[38;5;241m100\u001b[39m):\n\u001b[0;32m      2\u001b[0m     user_input \u001b[38;5;241m=\u001b[39m \u001b[38;5;28minput\u001b[39m(\u001b[38;5;124m\"\u001b[39m\u001b[38;5;124mсан енгіз: \u001b[39m\u001b[38;5;124m\"\u001b[39m)\n\u001b[1;32m----> 3\u001b[0m     number \u001b[38;5;241m=\u001b[39m \u001b[38;5;28mint\u001b[39m(user_input)\n\u001b[0;32m      4\u001b[0m     user_input2 \u001b[38;5;241m=\u001b[39m \u001b[38;5;28minput\u001b[39m(\u001b[38;5;124m\"\u001b[39m\u001b[38;5;124m2- інші сан енгіз: \u001b[39m\u001b[38;5;124m\"\u001b[39m)\n\u001b[0;32m      5\u001b[0m     number2 \u001b[38;5;241m=\u001b[39m \u001b[38;5;28mint\u001b[39m(user_input2)\n",
      "\u001b[1;31mValueError\u001b[0m: invalid literal for int() with base 10: 'ef'"
     ]
    }
   ],
   "source": [
    "for i in range(100):\n",
    "    user_input = input(\"сан енгіз: \")\n",
    "    number = int(user_input)\n",
    "    user_input2 = input(\"2- інші сан енгіз: \")\n",
    "    number2 = int(user_input2)\n",
    "    user_input3 = input(\"таңба енгіз: \")\n",
    "\n",
    "    if ( user_input3 =='+' ):\n",
    "        print(number+ number2)\n",
    "    elif ( user_input3 =='-' ):\n",
    "        print(number - number2)\n",
    "    elif ( user_input3 =='*' ):\n",
    "        print(number * number2)\n",
    "    elif ( user_input3 =='/' ):\n",
    "        print(number / number2)\n",
    "    "
   ]
  },
  {
   "cell_type": "code",
   "execution_count": null,
   "id": "54ecd3ea-ec40-440d-87a1-ecf24483a891",
   "metadata": {},
   "outputs": [],
   "source": [
    "\n",
    "\n",
    "    \n"
   ]
  },
  {
   "cell_type": "code",
   "execution_count": 57,
   "id": "badf1bc2-f1f1-4572-9373-b831564427d1",
   "metadata": {},
   "outputs": [
    {
     "name": "stdin",
     "output_type": "stream",
     "text": [
      "сан енгіз:  15\n",
      "2- інші сан енгіз:  654\n",
      "таңба енгіз:  !\n"
     ]
    }
   ],
   "source": [
    "for i in range(100):\n",
    "    user_input = input(\"сан енгіз: \")\n",
    "    number = int(user_input)\n",
    "    user_input2 = input(\"2- інші сан енгіз: \")\n",
    "    number2 = int(user_input2)\n",
    "    user_input3 = input(\"таңба енгіз: \")\n",
    "\n",
    "    if ( user_input3 =='+' ):\n",
    "        print(number+ number2)\n",
    "    elif ( user_input3 =='-' ):\n",
    "        print(number - number2)\n",
    "    elif ( user_input3 =='*' ):\n",
    "        print(number * number2)\n",
    "    elif ( user_input3 =='/' ):\n",
    "        print(number / number2)\n",
    "    elif ( user_input3 =='!' ):\n",
    "        break\n",
    "\n"
   ]
  },
  {
   "cell_type": "code",
   "execution_count": 59,
   "id": "c6c9c6e1-0576-48bb-9647-de350e9abb21",
   "metadata": {},
   "outputs": [
    {
     "name": "stdin",
     "output_type": "stream",
     "text": [
      "сан енгіз:  !\n"
     ]
    },
    {
     "ename": "ValueError",
     "evalue": "invalid literal for int() with base 10: '!'",
     "output_type": "error",
     "traceback": [
      "\u001b[1;31m---------------------------------------------------------------------------\u001b[0m",
      "\u001b[1;31mValueError\u001b[0m                                Traceback (most recent call last)",
      "Cell \u001b[1;32mIn[59], line 3\u001b[0m\n\u001b[0;32m      1\u001b[0m \u001b[38;5;28;01mfor\u001b[39;00m i \u001b[38;5;129;01min\u001b[39;00m \u001b[38;5;28mrange\u001b[39m(\u001b[38;5;241m100\u001b[39m):\n\u001b[0;32m      2\u001b[0m     user_input \u001b[38;5;241m=\u001b[39m \u001b[38;5;28minput\u001b[39m(\u001b[38;5;124m\"\u001b[39m\u001b[38;5;124mсан енгіз: \u001b[39m\u001b[38;5;124m\"\u001b[39m)\n\u001b[1;32m----> 3\u001b[0m     number \u001b[38;5;241m=\u001b[39m \u001b[38;5;28mint\u001b[39m(user_input)\n\u001b[0;32m      4\u001b[0m     user_input2 \u001b[38;5;241m=\u001b[39m \u001b[38;5;28minput\u001b[39m(\u001b[38;5;124m\"\u001b[39m\u001b[38;5;124m2- інші сан енгіз: \u001b[39m\u001b[38;5;124m\"\u001b[39m)\n\u001b[0;32m      5\u001b[0m     number2 \u001b[38;5;241m=\u001b[39m \u001b[38;5;28mint\u001b[39m(user_input2)\n",
      "\u001b[1;31mValueError\u001b[0m: invalid literal for int() with base 10: '!'"
     ]
    }
   ],
   "source": [
    "for i in range(100):\n",
    "    user_input = input(\"сан енгіз: \")\n",
    "    number = int(user_input)\n",
    "    user_input2 = input(\"2- інші сан енгіз: \")\n",
    "    number2 = int(user_input2)\n",
    "    user_input3 = input(\"таңба енгіз: \")\n",
    "\n",
    "    if ( user_input3 =='+' ):\n",
    "        print(number+ number2)\n",
    "    elif ( user_input3 =='-' ):\n",
    "        print(number - number2)\n",
    "    elif ( user_input3 =='*' ):\n",
    "        print(number * number2)\n",
    "    elif ( user_input3 =='/' ):\n",
    "        print(number / number2)\n",
    "    elif ( user_input3 =='!' or user_input2 =='!' or user_input =='!'   ):\n",
    "        break\n"
   ]
  },
  {
   "cell_type": "code",
   "execution_count": 61,
   "id": "3e395978-4e40-4922-be2b-71446db0ffd5",
   "metadata": {},
   "outputs": [
    {
     "name": "stdin",
     "output_type": "stream",
     "text": [
      "сан енгіз:  !\n"
     ]
    },
    {
     "ename": "ValueError",
     "evalue": "invalid literal for int() with base 10: '!'",
     "output_type": "error",
     "traceback": [
      "\u001b[1;31m---------------------------------------------------------------------------\u001b[0m",
      "\u001b[1;31mValueError\u001b[0m                                Traceback (most recent call last)",
      "Cell \u001b[1;32mIn[61], line 3\u001b[0m\n\u001b[0;32m      1\u001b[0m \u001b[38;5;28;01mfor\u001b[39;00m i \u001b[38;5;129;01min\u001b[39;00m \u001b[38;5;28mrange\u001b[39m(\u001b[38;5;241m100\u001b[39m):\n\u001b[0;32m      2\u001b[0m     user_input \u001b[38;5;241m=\u001b[39m \u001b[38;5;28minput\u001b[39m(\u001b[38;5;124m\"\u001b[39m\u001b[38;5;124mсан енгіз: \u001b[39m\u001b[38;5;124m\"\u001b[39m)\n\u001b[1;32m----> 3\u001b[0m     number \u001b[38;5;241m=\u001b[39m \u001b[38;5;28mint\u001b[39m(user_input)\n\u001b[0;32m      4\u001b[0m     user_input2 \u001b[38;5;241m=\u001b[39m \u001b[38;5;28minput\u001b[39m(\u001b[38;5;124m\"\u001b[39m\u001b[38;5;124m2- інші сан енгіз: \u001b[39m\u001b[38;5;124m\"\u001b[39m)\n\u001b[0;32m      5\u001b[0m     number2 \u001b[38;5;241m=\u001b[39m \u001b[38;5;28mint\u001b[39m(user_input2)\n",
      "\u001b[1;31mValueError\u001b[0m: invalid literal for int() with base 10: '!'"
     ]
    }
   ],
   "source": [
    "for i in range(100):\n",
    "    user_input = input(\"сан енгіз: \")\n",
    "    number = int(user_input)\n",
    "    user_input2 = input(\"2- інші сан енгіз: \")\n",
    "    number2 = int(user_input2)\n",
    "    user_input3 = input(\"таңба енгіз: \")\n",
    "\n",
    "    if ( user_input3 =='+' ):\n",
    "        print(number+ number2)\n",
    "    elif ( user_input3 =='-' ):\n",
    "        print(number - number2)\n",
    "    elif ( user_input3 =='*' ):\n",
    "        print(number * number2)\n",
    "    elif ( user_input3 =='/' ):\n",
    "        print(number / number2)\n",
    "    elif ( user_input3 =='!' or int(user_input2) =='!' or int(user_input) =='!'   ):\n",
    "        break"
   ]
  },
  {
   "cell_type": "code",
   "execution_count": 63,
   "id": "34766d77-35be-4372-aafa-cdc49f1b1452",
   "metadata": {},
   "outputs": [
    {
     "name": "stdin",
     "output_type": "stream",
     "text": [
      "сан енгіз:  w\n"
     ]
    },
    {
     "ename": "ValueError",
     "evalue": "invalid literal for int() with base 10: 'w'",
     "output_type": "error",
     "traceback": [
      "\u001b[1;31m---------------------------------------------------------------------------\u001b[0m",
      "\u001b[1;31mValueError\u001b[0m                                Traceback (most recent call last)",
      "Cell \u001b[1;32mIn[63], line 3\u001b[0m\n\u001b[0;32m      1\u001b[0m \u001b[38;5;28;01mfor\u001b[39;00m i \u001b[38;5;129;01min\u001b[39;00m \u001b[38;5;28mrange\u001b[39m(\u001b[38;5;241m100\u001b[39m):\n\u001b[0;32m      2\u001b[0m     user_input \u001b[38;5;241m=\u001b[39m \u001b[38;5;28minput\u001b[39m(\u001b[38;5;124m\"\u001b[39m\u001b[38;5;124mсан енгіз: \u001b[39m\u001b[38;5;124m\"\u001b[39m)\n\u001b[1;32m----> 3\u001b[0m     number \u001b[38;5;241m=\u001b[39m \u001b[38;5;28mint\u001b[39m(user_input)\n\u001b[0;32m      4\u001b[0m     user_input2 \u001b[38;5;241m=\u001b[39m \u001b[38;5;28minput\u001b[39m(\u001b[38;5;124m\"\u001b[39m\u001b[38;5;124m2- інші сан енгіз: \u001b[39m\u001b[38;5;124m\"\u001b[39m)\n\u001b[0;32m      5\u001b[0m     number2 \u001b[38;5;241m=\u001b[39m \u001b[38;5;28mint\u001b[39m(user_input2)\n",
      "\u001b[1;31mValueError\u001b[0m: invalid literal for int() with base 10: 'w'"
     ]
    }
   ],
   "source": [
    "for i in range(100):\n",
    "    user_input = input(\"сан енгіз: \")\n",
    "    number = int(user_input)\n",
    "    user_input2 = input(\"2- інші сан енгіз: \")\n",
    "    number2 = int(user_input2)\n",
    "    user_input3 = input(\"таңба енгіз: \")\n",
    "\n",
    "    if ( user_input3 =='+' ):\n",
    "        print(number+ number2)\n",
    "    elif ( user_input3 =='-' ):\n",
    "        print(number - number2)\n",
    "    elif ( user_input3 =='*' ):\n",
    "        print(number * number2)\n",
    "    elif ( user_input3 =='/' ):\n",
    "        print(number / number2)\n",
    "    elif ( user_input3 =='!' or user_input2 =='!' or user_input =='!'   ):\n",
    "        break\n",
    "        "
   ]
  },
  {
   "cell_type": "code",
   "execution_count": 65,
   "id": "dd0b28db-729a-4428-86e1-695eaf6216de",
   "metadata": {},
   "outputs": [
    {
     "name": "stdin",
     "output_type": "stream",
     "text": [
      "сан енгіз:  !\n"
     ]
    },
    {
     "ename": "ValueError",
     "evalue": "invalid literal for int() with base 10: '!'",
     "output_type": "error",
     "traceback": [
      "\u001b[1;31m---------------------------------------------------------------------------\u001b[0m",
      "\u001b[1;31mValueError\u001b[0m                                Traceback (most recent call last)",
      "Cell \u001b[1;32mIn[65], line 3\u001b[0m\n\u001b[0;32m      1\u001b[0m \u001b[38;5;28;01mfor\u001b[39;00m i \u001b[38;5;129;01min\u001b[39;00m \u001b[38;5;28mrange\u001b[39m(\u001b[38;5;241m100\u001b[39m):\n\u001b[0;32m      2\u001b[0m     user_input \u001b[38;5;241m=\u001b[39m \u001b[38;5;28minput\u001b[39m(\u001b[38;5;124m\"\u001b[39m\u001b[38;5;124mсан енгіз: \u001b[39m\u001b[38;5;124m\"\u001b[39m)\n\u001b[1;32m----> 3\u001b[0m     number \u001b[38;5;241m=\u001b[39m \u001b[38;5;28mint\u001b[39m(user_input)\n\u001b[0;32m      4\u001b[0m     user_input2 \u001b[38;5;241m=\u001b[39m \u001b[38;5;28minput\u001b[39m(\u001b[38;5;124m\"\u001b[39m\u001b[38;5;124m2- інші сан енгіз: \u001b[39m\u001b[38;5;124m\"\u001b[39m)\n\u001b[0;32m      5\u001b[0m     number2 \u001b[38;5;241m=\u001b[39m \u001b[38;5;28mint\u001b[39m(user_input2)\n",
      "\u001b[1;31mValueError\u001b[0m: invalid literal for int() with base 10: '!'"
     ]
    }
   ],
   "source": [
    "for i in range(100):\n",
    "    user_input = input(\"сан енгіз: \")\n",
    "    number = int(user_input)\n",
    "    user_input2 = input(\"2- інші сан енгіз: \")\n",
    "    number2 = int(user_input2)\n",
    "    user_input3 = input(\"таңба енгіз: \")\n",
    "\n",
    "    if ( user_input3 =='+' ):\n",
    "        print(number+ number2)\n",
    "    elif ( user_input3 =='-' ):\n",
    "        print(number - number2)\n",
    "    elif ( user_input3 =='*' ):\n",
    "        print(number * number2)\n",
    "    elif ( user_input3 =='/' ):\n",
    "        print(number / number2)\n",
    "    elif ( user_input3 =='!' or string(user_input2)=='!' or user_input =='!'   ):\n",
    "        break"
   ]
  },
  {
   "cell_type": "code",
   "execution_count": null,
   "id": "15320bf5-fe4e-4b8b-ae4c-6afd7873614d",
   "metadata": {},
   "outputs": [],
   "source": []
  }
 ],
 "metadata": {
  "kernelspec": {
   "display_name": "Python 3 (ipykernel)",
   "language": "python",
   "name": "python3"
  },
  "language_info": {
   "codemirror_mode": {
    "name": "ipython",
    "version": 3
   },
   "file_extension": ".py",
   "mimetype": "text/x-python",
   "name": "python",
   "nbconvert_exporter": "python",
   "pygments_lexer": "ipython3",
   "version": "3.12.4"
  }
 },
>>>>>>> cbb7abf (2 inwi sabak zhumisi)
 "nbformat": 4,
 "nbformat_minor": 5
}
