{
 "cells": [
  {
   "cell_type": "code",
   "execution_count": 1,
   "id": "f1f0f708-d225-4890-8168-e402bb10bd72",
   "metadata": {},
   "outputs": [
    {
     "name": "stdout",
     "output_type": "stream",
     "text": [
      "salem alem\n"
     ]
    }
   ],
   "source": [
    "print ('salem alem')"
   ]
  },
  {
   "cell_type": "code",
   "execution_count": 5,
   "id": "8e548dff-1f6a-404e-8758-56fa6907071e",
   "metadata": {},
   "outputs": [
    {
     "name": "stdout",
     "output_type": "stream",
     "text": [
      "4\n"
     ]
    }
   ],
   "source": [
    "print (2+2)"
   ]
  },
  {
   "cell_type": "code",
   "execution_count": 17,
   "id": "2ef5afc2-0af3-426b-a58a-f2c38b7cb25a",
   "metadata": {},
   "outputs": [
    {
     "name": "stdin",
     "output_type": "stream",
     "text": [
      "1 san engiz 1\n",
      "2 san engiz 2\n"
     ]
    },
    {
     "name": "stdout",
     "output_type": "stream",
     "text": [
      "olardin natizhesi\n",
      "3\n"
     ]
    }
   ],
   "source": [
    "user_input = input ('1 san engiz')\n",
    "number = int (user_input)\n",
    "user_input2 = input ('2 san engiz')\n",
    "number2 = int (user_input2)\n",
    "print('olardin natizhesi')\n",
    "print (number + number2)      "
   ]
  },
  {
   "cell_type": "code",
   "execution_count": 11,
   "id": "3a9928eb-b639-4f80-8cf9-a76daf330d9c",
   "metadata": {},
   "outputs": [
    {
     "data": {
      "text/plain": [
       "2"
      ]
     },
     "execution_count": 11,
     "metadata": {},
     "output_type": "execute_result"
    }
   ],
   "source": [
    "2"
   ]
  },
  {
   "cell_type": "code",
   "execution_count": 28,
   "id": "af35743c-257e-4026-9e55-219a58be32e6",
   "metadata": {},
   "outputs": [
    {
     "name": "stdin",
     "output_type": "stream",
     "text": [
      "1 san engiz 2\n",
      "tanba engiz \n",
      "2 san engiz 6\n"
     ]
    },
    {
     "name": "stdout",
     "output_type": "stream",
     "text": [
      "kate engizildi\n"
     ]
    }
   ],
   "source": [
    "user_input = input ('1 san engiz')\n",
    "number = int (user_input)\n",
    "user_input3 = input ('tanba engiz')\n",
    "user_input2 = input ('2 san engiz')\n",
    "number2 = int (user_input2)\n",
    "if (user_input3 == '+'):\n",
    "    print (number + number2)\n",
    "elif (user_input3 == '-'):\n",
    "    print (number - number2)\n",
    "elif (user_input3 == '*'):\n",
    "    print (number * number2)\n",
    "elif (user_input3 == '/'):\n",
    "    print (number / number2)\n",
    "else: \n",
    "    print ('kate engizildi')"
   ]
  },
  {
   "cell_type": "code",
   "execution_count": 38,
   "id": "c98b92ca-8019-4544-bff1-6ebff0820f35",
   "metadata": {},
   "outputs": [
    {
     "name": "stdout",
     "output_type": "stream",
     "text": [
      "alma\n",
      "almurt\n",
      "banan\n",
      "alma\n",
      "almurt\n",
      "banan\n",
      "alma\n",
      "almurt\n",
      "banan\n",
      "alma\n",
      "almurt\n",
      "banan\n",
      "alma\n",
      "almurt\n",
      "banan\n"
     ]
    }
   ],
   "source": [
    "sunduk = ['alma', 'almurt', 'banan']\n",
    "for i in range (5):\n",
    "    for veshi in sunduk:\n",
    "        print (veshi)"
   ]
  },
  {
   "cell_type": "code",
   "execution_count": 54,
   "id": "68e5f023-bc87-4db2-972b-b467e62b731b",
   "metadata": {},
   "outputs": [
    {
     "name": "stdin",
     "output_type": "stream",
     "text": [
      "1 san engiz 1\n",
      "tanba engiz !\n",
      "2 san engiz 2\n"
     ]
    },
    {
     "name": "stdout",
     "output_type": "stream",
     "text": [
      "esep toktatyldy\n"
     ]
    }
   ],
   "source": [
    "for i in range (100):\n",
    "    user_input = input ('1 san engiz')\n",
    "    number = int (user_input)\n",
    "    user_input3 = input ('tanba engiz')\n",
    "    user_input2 = input ('2 san engiz')\n",
    "    number2 = int (user_input2)\n",
    "    if (user_input3 == '+'):\n",
    "        print (number + number2)\n",
    "    elif (user_input3 == '-'):\n",
    "        print (number - number2)\n",
    "    elif (user_input3 == '*'):\n",
    "        print (number * number2)\n",
    "    elif (user_input3 == '/'):\n",
    "        print (number / number2)\n",
    "    elif (user_input3 == '!'):\n",
    "        print ('esep toktatyldy')\n",
    "        break\n",
    "    else: \n",
    "        print ('kate engizildi')"
   ]
  },
  {
   "cell_type": "code",
   "execution_count": null,
   "id": "e8647513-339f-4b22-b225-a9b75c82d0c7",
   "metadata": {},
   "outputs": [],
   "source": []
  }
 ],
 "metadata": {
  "kernelspec": {
   "display_name": "Python 3 (ipykernel)",
   "language": "python",
   "name": "python3"
  },
  "language_info": {
   "codemirror_mode": {
    "name": "ipython",
    "version": 3
   },
   "file_extension": ".py",
   "mimetype": "text/x-python",
   "name": "python",
   "nbconvert_exporter": "python",
   "pygments_lexer": "ipython3",
   "version": "3.12.4"
  }
 },
 "nbformat": 4,
 "nbformat_minor": 5
}
