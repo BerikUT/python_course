{
 "cells": [
  {
   "cell_type": "code",
   "execution_count": 5,
   "id": "b0322f83-46bf-44b6-b4d9-56ae1b7ef9c9",
   "metadata": {},
   "outputs": [
    {
     "name": "stdin",
     "output_type": "stream",
     "text": [
      "Жылды енгізіңіз: 1998\n"
     ]
    },
    {
     "name": "stdout",
     "output_type": "stream",
     "text": [
      "Сіз енгізген жыл КІБІСЕ жыл емес\n"
     ]
    }
   ],
   "source": [
    "Jyl = input ('Жылды енгізіңіз:')\n",
    "number = int (Jyl)\n",
    "kaldyk = (number % 4) \n",
    "if kaldyk == 0:\n",
    "    print ('Сіз енгізген жыл КІБІСЕ жыл')\n",
    "else:\n",
    "    print ('Сіз енгізген жыл КІБІСЕ жыл емес')"
   ]
  },
  {
   "cell_type": "code",
   "execution_count": 3,
   "id": "9bf1e276-885c-4cca-a7bd-5007646d67b6",
   "metadata": {},
   "outputs": [
    {
     "name": "stdin",
     "output_type": "stream",
     "text": [
      "Кез келген сан енгізіңіз: 2\n"
     ]
    },
    {
     "name": "stdout",
     "output_type": "stream",
     "text": [
      "4\n"
     ]
    }
   ],
   "source": [
    "San = input ('Кез келген сан енгізіңіз:')\n",
    "number = int (San)\n",
    "print (number*number)"
   ]
  },
  {
   "cell_type": "code",
   "execution_count": 25,
   "id": "f95d3642-bd5b-4d29-a2bb-e7c73f52eac9",
   "metadata": {},
   "outputs": [
    {
     "name": "stdin",
     "output_type": "stream",
     "text": [
      "1-ші сан енгізіңіз 2\n",
      "2-ші сан енгізіңіз 3\n"
     ]
    },
    {
     "name": "stdout",
     "output_type": "stream",
     "text": [
      "Жауабы:\n",
      "8\n"
     ]
    }
   ],
   "source": [
    "user_input = input ('1-ші сан енгізіңіз')\n",
    "number = int (user_input)\n",
    "user_input2 = input ('2-ші сан енгізіңіз')\n",
    "number2 = int (user_input2)\n",
    "print('Жауабы:')\n",
    "print (number **number2)  "
   ]
  },
  {
   "cell_type": "code",
   "execution_count": null,
   "id": "b933eac0-71ad-41e3-a2a5-46e3c7fbd6f9",
   "metadata": {},
   "outputs": [],
   "source": []
  }
 ],
 "metadata": {
  "kernelspec": {
   "display_name": "Python 3 (ipykernel)",
   "language": "python",
   "name": "python3"
  },
  "language_info": {
   "codemirror_mode": {
    "name": "ipython",
    "version": 3
   },
   "file_extension": ".py",
   "mimetype": "text/x-python",
   "name": "python",
   "nbconvert_exporter": "python",
   "pygments_lexer": "ipython3",
   "version": "3.12.4"
  }
 },
 "nbformat": 4,
 "nbformat_minor": 5
}
